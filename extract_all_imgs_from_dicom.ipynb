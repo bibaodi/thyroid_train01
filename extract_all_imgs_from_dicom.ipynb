{
 "cells": [
  {
   "cell_type": "code",
   "execution_count": 1,
   "id": "991e0637",
   "metadata": {},
   "outputs": [
    {
     "name": "stdout",
     "output_type": "stream",
     "text": [
      "Defaulting to user installation because normal site-packages is not writeable\n",
      "Looking in indexes: https://pypi.tuna.tsinghua.edu.cn/simple\n",
      "Collecting pydicom\n",
      "  Downloading https://pypi.tuna.tsinghua.edu.cn/packages/27/a6/98651e752a49f341aa99aa3f6c8ba361728dfc064242884355419df63669/pydicom-3.0.1-py3-none-any.whl (2.4 MB)\n",
      "\u001b[2K     \u001b[90m━━━━━━━━━━━━━━━━━━━━━━━━━━━━━━━━━━━━━━━━\u001b[0m \u001b[32m2.4/2.4 MB\u001b[0m \u001b[31m674.6 kB/s\u001b[0m eta \u001b[36m0:00:00\u001b[0m00:01\u001b[0m00:01\u001b[0m\n",
      "\u001b[?25hInstalling collected packages: pydicom\n",
      "Successfully installed pydicom-3.0.1\n"
     ]
    }
   ],
   "source": [
    "#这个是将多帧dicom中所有的图片进行提取\n",
    "!pip install pydicom"
   ]
  },
  {
   "cell_type": "code",
   "execution_count": 2,
   "id": "9292d6e5",
   "metadata": {},
   "outputs": [],
   "source": [
    "import pydicom\n",
    "import math\n",
    "import os\n",
    "import sys\n",
    "import time\n",
    "import json\n",
    "\n",
    "\n",
    "def generateImagesFromDicom(dataset, filename=\"extracted_folder\", extractfps=0):\n",
    "    \"\"\"\n",
    "        Go through all items in the dataset and print them with custom format\n",
    "\n",
    "        Modelled after Dataset._pretty_str()\n",
    "    \"\"\"\n",
    "    cine_rate = 12    \n",
    "    for data_element in dataset:\n",
    "        if data_element.name == 'Cine Rate':\n",
    "            print(f\"Cine Rate:{data_element.value}, {type(data_element.value)}\")\n",
    "            cine_rate = data_element.value.real\n",
    "        if data_element.name == 'Pixel Data':\n",
    "            pixel_datas = data_element.value\n",
    "       \n",
    "    # check frame number and tranfersyntex here\n",
    "    frmpath = filename + '_frms'\n",
    "    os.makedirs(filename + '_frms', exist_ok=True)\n",
    "    \n",
    "    print('Extract frames from [Pixel Data]:')\n",
    "    if 0 == extractfps or extractfps > cine_rate:\n",
    "        delta_step = cine_rate / cine_rate\n",
    "    else:\n",
    "        delta_step = cine_rate / extractfps\n",
    "    frmindex = 0\n",
    "    for sequence_index, frm in enumerate(pydicom.encaps.generate_pixel_data_frame(pixel_datas)):\n",
    "        delta = sequence_index - (frmindex * delta_step)\n",
    "        if delta >= 1 or delta < 0:\n",
    "            continue\n",
    "        frmname = os.path.join(frmpath, f\"frm-{(frmindex+1):04d}.png\")\n",
    "        #print(\"generateImagesFromDicom: {0} {1} : {2} bytes\".format(\">>\", frmname, len(frm)))\n",
    "        with open(frmname, 'wb+') as f:\n",
    "            f.write(frm)\n",
    "        frmindex += 1\n",
    "    print(f\"Total generate {frmindex} image...\")\n",
    "\n",
    "    return frmpath if frmindex > 1 else None\n",
    "\n",
    "def record2File(imagedir, fps, raw_file_type='mp4'):\n",
    "    \"\"\"when finish the extract action, make a file to record the status\"\"\"\n",
    "    jsonfile = \"lmstart.json\"\n",
    "    now = time.localtime(time.time())\n",
    "    datatime = \"{0}-{1}-{2} {3}:{4}:{5}\".format(now.tm_year, now.tm_mon, now.tm_mday, now.tm_hour,now.tm_min, now.tm_sec)\n",
    "    recorder = {\"datetime\":datatime, \"fps\":fps, \"imagepath\":imagedir, \"raw_file_type\": raw_file_type}\n",
    "    print(recorder)\n",
    "    \n",
    "    with open(os.path.join(imagedir, jsonfile), \"w\") as fp:\n",
    "        json.dump(recorder, fp, ensure_ascii=True)\n",
    "    return 0\n",
    "    \n",
    "def extractDcmToImages(dicom_file, extractfps):\n",
    "    print(\"dcmfile:\", dicom_file)\n",
    "    if os.path.isfile(dicom_file) and  os.path.splitext(dicom_file)[1] ==\".dcm\":\n",
    "        print(\"dcmfile is file? :\", dicom_file)\n",
    "        ds = pydicom.dcmread(dicom_file)\n",
    "        try:\n",
    "            image_dir = generateImagesFromDicom(ds, filename=dicom_file, extractfps=extractfps)\n",
    "        except Exception as e:\n",
    "            print('Err:dcm library error')\n",
    "            image_dir = None\n",
    "        if image_dir:\n",
    "            record2File(imagedir=image_dir, fps=extractfps, raw_file_type=\"dcm\")\n",
    "        return image_dir\n",
    "    else:\n",
    "        return None"
   ]
  },
  {
   "cell_type": "code",
   "execution_count": 3,
   "id": "cca1808e",
   "metadata": {},
   "outputs": [],
   "source": [
    "def extract_all_dcm_imgs(dcm_root_dir, count=0):\n",
    "    if not os.path.exists(dcm_root_dir):\n",
    "        print(f\"Dir not exist:{dcm_root_dir}\")\n",
    "        return -1\n",
    "    subdirs = []\n",
    "    dirs = sorted(os.listdir(dcm_root_dir))\n",
    "    print(f\"dirs={dirs}\")\n",
    "    for item in dirs:\n",
    "        path = os.path.join(dcm_root_dir, item)\n",
    "        if os.path.isdir(path):\n",
    "            subdirs.append(path)\n",
    "    if len(subdirs) <1:\n",
    "        subdirs.append(dcm_root_dir)\n",
    "    print(f\"subdirs={subdirs}\")\n",
    "    \n",
    "    folder_details = []\n",
    "    dcm_f_count = 0\n",
    "    for ct, dcm_dir in enumerate(subdirs):\n",
    "        print(\"*\"*32)\n",
    "        print('Handle with {0} [{1}/]'.format(dcm_dir, ct + 1))\n",
    "        files_in_dir = os.listdir(dcm_dir)\n",
    "        if len(files_in_dir) < 2:\n",
    "            getLogger().info(f\"Empty dirctory : {dcm_dir}\")\n",
    "            continue\n",
    "        else:\n",
    "            for dcmf in files_in_dir:\n",
    "                fullfilename = os.path.join(dcm_dir, dcmf)\n",
    "                if not os.path.isfile(fullfilename):\n",
    "                    continue\n",
    "                print(\"file in dir:\", fullfilename)\n",
    "                extractDcmToImages(fullfilename, 100)\n",
    "                dcm_f_count = dcm_f_count+1\n",
    "                if count != 0 and count == dcm_f_count:\n",
    "                    print(f\"\\n<<<already extract {count} directory dcm file~\")\n",
    "                    return\n",
    "    return 0"
   ]
  },
  {
   "cell_type": "code",
   "execution_count": 7,
   "id": "a2b60153",
   "metadata": {},
   "outputs": [],
   "source": [
    "## worked at 21/08/22\n",
    "#dcm_root_dir=r\"/mnt/d/workspace/01-videos\"\n",
    "#extract_all_dcm_imgs(dcm_root_dir, 1)"
   ]
  },
  {
   "cell_type": "code",
   "execution_count": 5,
   "id": "68c6eef6",
   "metadata": {},
   "outputs": [
    {
     "name": "stdout",
     "output_type": "stream",
     "text": [
      "Dir not exist:/mnt/o/download/220222_thyroids\n"
     ]
    },
    {
     "data": {
      "text/plain": [
       "-1"
      ]
     },
     "execution_count": 5,
     "metadata": {},
     "output_type": "execute_result"
    }
   ],
   "source": [
    "##working at 22/01/29\n",
    "dcm_root_dir=r\"/mnt/o/download/220222_thyroids\"\n",
    "extract_all_dcm_imgs(dcm_root_dir, 0)"
   ]
  },
  {
   "cell_type": "code",
   "execution_count": 6,
   "id": "c7a9ae40",
   "metadata": {},
   "outputs": [
    {
     "name": "stdout",
     "output_type": "stream",
     "text": [
      "dirs=['1.2.250.1.204.5.667136.20211130072913172137.2.0.50.80.2.20241025120951138_MARK.json', '甲结节1.dcm']\n",
      "subdirs=['/mnt/f/240926-RayShap/241129-thyroid-datas/01-mini-batch']\n",
      "********************************\n",
      "Handle with /mnt/f/240926-RayShap/241129-thyroid-datas/01-mini-batch [1/]\n",
      "file in dir: /mnt/f/240926-RayShap/241129-thyroid-datas/01-mini-batch/1.2.250.1.204.5.667136.20211130072913172137.2.0.50.80.2.20241025120951138_MARK.json\n",
      "dcmfile: /mnt/f/240926-RayShap/241129-thyroid-datas/01-mini-batch/1.2.250.1.204.5.667136.20211130072913172137.2.0.50.80.2.20241025120951138_MARK.json\n",
      "file in dir: /mnt/f/240926-RayShap/241129-thyroid-datas/01-mini-batch/甲结节1.dcm\n",
      "dcmfile: /mnt/f/240926-RayShap/241129-thyroid-datas/01-mini-batch/甲结节1.dcm\n",
      "dcmfile is file? : /mnt/f/240926-RayShap/241129-thyroid-datas/01-mini-batch/甲结节1.dcm\n",
      "Cine Rate:56, <class 'pydicom.valuerep.IS'>\n",
      "Extract frames from [Pixel Data]:\n",
      "Total generate 423 image...\n",
      "{'datetime': '2024-11-30 16:13:49', 'fps': 100, 'imagepath': '/mnt/f/240926-RayShap/241129-thyroid-datas/01-mini-batch/甲结节1.dcm_frms', 'raw_file_type': 'dcm'}\n"
     ]
    },
    {
     "data": {
      "text/plain": [
       "0"
      ]
     },
     "execution_count": 6,
     "metadata": {},
     "output_type": "execute_result"
    }
   ],
   "source": [
    "#241130 extract dcm mini batch for new annotation files\n",
    "dcm_root_dir=\"/mnt/f/240926-RayShap/241129-thyroid-datas/01-mini-batch\"\n",
    "extract_all_dcm_imgs(dcm_root_dir, 0)"
   ]
  },
  {
   "cell_type": "code",
   "execution_count": 7,
   "id": "1a5f9e56",
   "metadata": {},
   "outputs": [
    {
     "name": "stdout",
     "output_type": "stream",
     "text": [
      "dirs=['renameDcmFiles.sh', '甲结节10_甲状腺结节标注_标注_审核_仲裁', '甲结节11_甲状腺结节标注_标注_审核_仲裁_质控', '甲结节12_甲状腺结节标注_标注_审核_仲裁', '甲结节1_甲状腺结节标注_标注_审核_仲裁', '甲结节2_甲状腺结节标注_标注_审核_仲裁_质控', '甲结节3_甲状腺结节标注_标注_审核_仲裁', '甲结节5_甲状腺结节标注_标注_审核_仲裁', '甲结节6_甲状腺结节标注_标注_审核_仲裁_质控', '甲结节7_甲状腺结节标注_标注_审核_仲裁', '甲结节9_甲状腺结节标注_标注_审核_仲裁']\n",
      "subdirs=['/mnt/f/240926-RayShap/241129-thyroid-datas/02-batch-10caseToLabelmeForamt/甲结节10_甲状腺结节标注_标注_审核_仲裁', '/mnt/f/240926-RayShap/241129-thyroid-datas/02-batch-10caseToLabelmeForamt/甲结节11_甲状腺结节标注_标注_审核_仲裁_质控', '/mnt/f/240926-RayShap/241129-thyroid-datas/02-batch-10caseToLabelmeForamt/甲结节12_甲状腺结节标注_标注_审核_仲裁', '/mnt/f/240926-RayShap/241129-thyroid-datas/02-batch-10caseToLabelmeForamt/甲结节1_甲状腺结节标注_标注_审核_仲裁', '/mnt/f/240926-RayShap/241129-thyroid-datas/02-batch-10caseToLabelmeForamt/甲结节2_甲状腺结节标注_标注_审核_仲裁_质控', '/mnt/f/240926-RayShap/241129-thyroid-datas/02-batch-10caseToLabelmeForamt/甲结节3_甲状腺结节标注_标注_审核_仲裁', '/mnt/f/240926-RayShap/241129-thyroid-datas/02-batch-10caseToLabelmeForamt/甲结节5_甲状腺结节标注_标注_审核_仲裁', '/mnt/f/240926-RayShap/241129-thyroid-datas/02-batch-10caseToLabelmeForamt/甲结节6_甲状腺结节标注_标注_审核_仲裁_质控', '/mnt/f/240926-RayShap/241129-thyroid-datas/02-batch-10caseToLabelmeForamt/甲结节7_甲状腺结节标注_标注_审核_仲裁', '/mnt/f/240926-RayShap/241129-thyroid-datas/02-batch-10caseToLabelmeForamt/甲结节9_甲状腺结节标注_标注_审核_仲裁']\n",
      "********************************\n",
      "Handle with /mnt/f/240926-RayShap/241129-thyroid-datas/02-batch-10caseToLabelmeForamt/甲结节10_甲状腺结节标注_标注_审核_仲裁 [1/]\n",
      "file in dir: /mnt/f/240926-RayShap/241129-thyroid-datas/02-batch-10caseToLabelmeForamt/甲结节10_甲状腺结节标注_标注_审核_仲裁/1.2.250.1.204.5.667136.20211130074752985189.2.0.50.80.2.20241025175155021_MARK.json\n",
      "dcmfile: /mnt/f/240926-RayShap/241129-thyroid-datas/02-batch-10caseToLabelmeForamt/甲结节10_甲状腺结节标注_标注_审核_仲裁/1.2.250.1.204.5.667136.20211130074752985189.2.0.50.80.2.20241025175155021_MARK.json\n",
      "file in dir: /mnt/f/240926-RayShap/241129-thyroid-datas/02-batch-10caseToLabelmeForamt/甲结节10_甲状腺结节标注_标注_审核_仲裁/thyroidNodules_axp010.dcm\n",
      "dcmfile: /mnt/f/240926-RayShap/241129-thyroid-datas/02-batch-10caseToLabelmeForamt/甲结节10_甲状腺结节标注_标注_审核_仲裁/thyroidNodules_axp010.dcm\n",
      "dcmfile is file? : /mnt/f/240926-RayShap/241129-thyroid-datas/02-batch-10caseToLabelmeForamt/甲结节10_甲状腺结节标注_标注_审核_仲裁/thyroidNodules_axp010.dcm\n",
      "Cine Rate:51, <class 'pydicom.valuerep.IS'>\n",
      "Extract frames from [Pixel Data]:\n",
      "Total generate 386 image...\n",
      "{'datetime': '2024-11-30 18:35:39', 'fps': 100, 'imagepath': '/mnt/f/240926-RayShap/241129-thyroid-datas/02-batch-10caseToLabelmeForamt/甲结节10_甲状腺结节标注_标注_审核_仲裁/thyroidNodules_axp010.dcm_frms', 'raw_file_type': 'dcm'}\n",
      "********************************\n",
      "Handle with /mnt/f/240926-RayShap/241129-thyroid-datas/02-batch-10caseToLabelmeForamt/甲结节11_甲状腺结节标注_标注_审核_仲裁_质控 [2/]\n",
      "file in dir: /mnt/f/240926-RayShap/241129-thyroid-datas/02-batch-10caseToLabelmeForamt/甲结节11_甲状腺结节标注_标注_审核_仲裁_质控/1.2.250.1.204.5.667136.20211130073725592466.2.0.50.80.2.20241025175755550_MARK.json\n",
      "dcmfile: /mnt/f/240926-RayShap/241129-thyroid-datas/02-batch-10caseToLabelmeForamt/甲结节11_甲状腺结节标注_标注_审核_仲裁_质控/1.2.250.1.204.5.667136.20211130073725592466.2.0.50.80.2.20241025175755550_MARK.json\n",
      "file in dir: /mnt/f/240926-RayShap/241129-thyroid-datas/02-batch-10caseToLabelmeForamt/甲结节11_甲状腺结节标注_标注_审核_仲裁_质控/thyroidNodules_axp011.dcm\n",
      "dcmfile: /mnt/f/240926-RayShap/241129-thyroid-datas/02-batch-10caseToLabelmeForamt/甲结节11_甲状腺结节标注_标注_审核_仲裁_质控/thyroidNodules_axp011.dcm\n",
      "dcmfile is file? : /mnt/f/240926-RayShap/241129-thyroid-datas/02-batch-10caseToLabelmeForamt/甲结节11_甲状腺结节标注_标注_审核_仲裁_质控/thyroidNodules_axp011.dcm\n",
      "Cine Rate:51, <class 'pydicom.valuerep.IS'>\n",
      "Extract frames from [Pixel Data]:\n",
      "Total generate 322 image...\n",
      "{'datetime': '2024-11-30 18:35:40', 'fps': 100, 'imagepath': '/mnt/f/240926-RayShap/241129-thyroid-datas/02-batch-10caseToLabelmeForamt/甲结节11_甲状腺结节标注_标注_审核_仲裁_质控/thyroidNodules_axp011.dcm_frms', 'raw_file_type': 'dcm'}\n",
      "********************************\n",
      "Handle with /mnt/f/240926-RayShap/241129-thyroid-datas/02-batch-10caseToLabelmeForamt/甲结节12_甲状腺结节标注_标注_审核_仲裁 [3/]\n",
      "file in dir: /mnt/f/240926-RayShap/241129-thyroid-datas/02-batch-10caseToLabelmeForamt/甲结节12_甲状腺结节标注_标注_审核_仲裁/1.2.250.1.204.5.667136.20211130074821667037.2.0.50.80.2.20241025190849429_MARK.json\n",
      "dcmfile: /mnt/f/240926-RayShap/241129-thyroid-datas/02-batch-10caseToLabelmeForamt/甲结节12_甲状腺结节标注_标注_审核_仲裁/1.2.250.1.204.5.667136.20211130074821667037.2.0.50.80.2.20241025190849429_MARK.json\n",
      "file in dir: /mnt/f/240926-RayShap/241129-thyroid-datas/02-batch-10caseToLabelmeForamt/甲结节12_甲状腺结节标注_标注_审核_仲裁/thyroidNodules_axp012.dcm\n",
      "dcmfile: /mnt/f/240926-RayShap/241129-thyroid-datas/02-batch-10caseToLabelmeForamt/甲结节12_甲状腺结节标注_标注_审核_仲裁/thyroidNodules_axp012.dcm\n",
      "dcmfile is file? : /mnt/f/240926-RayShap/241129-thyroid-datas/02-batch-10caseToLabelmeForamt/甲结节12_甲状腺结节标注_标注_审核_仲裁/thyroidNodules_axp012.dcm\n",
      "Cine Rate:51, <class 'pydicom.valuerep.IS'>\n",
      "Extract frames from [Pixel Data]:\n",
      "Total generate 265 image...\n",
      "{'datetime': '2024-11-30 18:35:41', 'fps': 100, 'imagepath': '/mnt/f/240926-RayShap/241129-thyroid-datas/02-batch-10caseToLabelmeForamt/甲结节12_甲状腺结节标注_标注_审核_仲裁/thyroidNodules_axp012.dcm_frms', 'raw_file_type': 'dcm'}\n",
      "********************************\n",
      "Handle with /mnt/f/240926-RayShap/241129-thyroid-datas/02-batch-10caseToLabelmeForamt/甲结节1_甲状腺结节标注_标注_审核_仲裁 [4/]\n",
      "file in dir: /mnt/f/240926-RayShap/241129-thyroid-datas/02-batch-10caseToLabelmeForamt/甲结节1_甲状腺结节标注_标注_审核_仲裁/1.2.250.1.204.5.667136.20211130072913172137.2.0.50.80.2.20241025120951138_MARK.json\n",
      "dcmfile: /mnt/f/240926-RayShap/241129-thyroid-datas/02-batch-10caseToLabelmeForamt/甲结节1_甲状腺结节标注_标注_审核_仲裁/1.2.250.1.204.5.667136.20211130072913172137.2.0.50.80.2.20241025120951138_MARK.json\n",
      "file in dir: /mnt/f/240926-RayShap/241129-thyroid-datas/02-batch-10caseToLabelmeForamt/甲结节1_甲状腺结节标注_标注_审核_仲裁/thyroidNodules_axp001.dcm\n",
      "dcmfile: /mnt/f/240926-RayShap/241129-thyroid-datas/02-batch-10caseToLabelmeForamt/甲结节1_甲状腺结节标注_标注_审核_仲裁/thyroidNodules_axp001.dcm\n",
      "dcmfile is file? : /mnt/f/240926-RayShap/241129-thyroid-datas/02-batch-10caseToLabelmeForamt/甲结节1_甲状腺结节标注_标注_审核_仲裁/thyroidNodules_axp001.dcm\n",
      "Cine Rate:56, <class 'pydicom.valuerep.IS'>\n",
      "Extract frames from [Pixel Data]:\n",
      "Total generate 423 image...\n",
      "{'datetime': '2024-11-30 18:35:43', 'fps': 100, 'imagepath': '/mnt/f/240926-RayShap/241129-thyroid-datas/02-batch-10caseToLabelmeForamt/甲结节1_甲状腺结节标注_标注_审核_仲裁/thyroidNodules_axp001.dcm_frms', 'raw_file_type': 'dcm'}\n",
      "********************************\n",
      "Handle with /mnt/f/240926-RayShap/241129-thyroid-datas/02-batch-10caseToLabelmeForamt/甲结节2_甲状腺结节标注_标注_审核_仲裁_质控 [5/]\n",
      "file in dir: /mnt/f/240926-RayShap/241129-thyroid-datas/02-batch-10caseToLabelmeForamt/甲结节2_甲状腺结节标注_标注_审核_仲裁_质控/1.2.250.1.204.5.667136.20211130073021351156.2.0.50.80.2.20241025123659328_MARK.json\n",
      "dcmfile: /mnt/f/240926-RayShap/241129-thyroid-datas/02-batch-10caseToLabelmeForamt/甲结节2_甲状腺结节标注_标注_审核_仲裁_质控/1.2.250.1.204.5.667136.20211130073021351156.2.0.50.80.2.20241025123659328_MARK.json\n",
      "file in dir: /mnt/f/240926-RayShap/241129-thyroid-datas/02-batch-10caseToLabelmeForamt/甲结节2_甲状腺结节标注_标注_审核_仲裁_质控/thyroidNodules_axp002.dcm\n",
      "dcmfile: /mnt/f/240926-RayShap/241129-thyroid-datas/02-batch-10caseToLabelmeForamt/甲结节2_甲状腺结节标注_标注_审核_仲裁_质控/thyroidNodules_axp002.dcm\n",
      "dcmfile is file? : /mnt/f/240926-RayShap/241129-thyroid-datas/02-batch-10caseToLabelmeForamt/甲结节2_甲状腺结节标注_标注_审核_仲裁_质控/thyroidNodules_axp002.dcm\n",
      "Cine Rate:56, <class 'pydicom.valuerep.IS'>\n",
      "Extract frames from [Pixel Data]:\n",
      "Total generate 320 image...\n",
      "{'datetime': '2024-11-30 18:35:44', 'fps': 100, 'imagepath': '/mnt/f/240926-RayShap/241129-thyroid-datas/02-batch-10caseToLabelmeForamt/甲结节2_甲状腺结节标注_标注_审核_仲裁_质控/thyroidNodules_axp002.dcm_frms', 'raw_file_type': 'dcm'}\n",
      "********************************\n",
      "Handle with /mnt/f/240926-RayShap/241129-thyroid-datas/02-batch-10caseToLabelmeForamt/甲结节3_甲状腺结节标注_标注_审核_仲裁 [6/]\n",
      "file in dir: /mnt/f/240926-RayShap/241129-thyroid-datas/02-batch-10caseToLabelmeForamt/甲结节3_甲状腺结节标注_标注_审核_仲裁/1.2.250.1.204.5.667136.20211130073033810517.2.0.50.80.2.20241025151157786_MARK.json\n",
      "dcmfile: /mnt/f/240926-RayShap/241129-thyroid-datas/02-batch-10caseToLabelmeForamt/甲结节3_甲状腺结节标注_标注_审核_仲裁/1.2.250.1.204.5.667136.20211130073033810517.2.0.50.80.2.20241025151157786_MARK.json\n",
      "file in dir: /mnt/f/240926-RayShap/241129-thyroid-datas/02-batch-10caseToLabelmeForamt/甲结节3_甲状腺结节标注_标注_审核_仲裁/thyroidNodules_axp003.dcm\n",
      "dcmfile: /mnt/f/240926-RayShap/241129-thyroid-datas/02-batch-10caseToLabelmeForamt/甲结节3_甲状腺结节标注_标注_审核_仲裁/thyroidNodules_axp003.dcm\n",
      "dcmfile is file? : /mnt/f/240926-RayShap/241129-thyroid-datas/02-batch-10caseToLabelmeForamt/甲结节3_甲状腺结节标注_标注_审核_仲裁/thyroidNodules_axp003.dcm\n",
      "Cine Rate:56, <class 'pydicom.valuerep.IS'>\n"
     ]
    },
    {
     "name": "stdout",
     "output_type": "stream",
     "text": [
      "Extract frames from [Pixel Data]:\n",
      "Total generate 339 image...\n",
      "{'datetime': '2024-11-30 18:35:45', 'fps': 100, 'imagepath': '/mnt/f/240926-RayShap/241129-thyroid-datas/02-batch-10caseToLabelmeForamt/甲结节3_甲状腺结节标注_标注_审核_仲裁/thyroidNodules_axp003.dcm_frms', 'raw_file_type': 'dcm'}\n",
      "********************************\n",
      "Handle with /mnt/f/240926-RayShap/241129-thyroid-datas/02-batch-10caseToLabelmeForamt/甲结节5_甲状腺结节标注_标注_审核_仲裁 [7/]\n",
      "file in dir: /mnt/f/240926-RayShap/241129-thyroid-datas/02-batch-10caseToLabelmeForamt/甲结节5_甲状腺结节标注_标注_审核_仲裁/1.2.250.1.204.5.667136.20211130073046160577.2.0.50.80.2.20241025154334222_MARK.json\n",
      "dcmfile: /mnt/f/240926-RayShap/241129-thyroid-datas/02-batch-10caseToLabelmeForamt/甲结节5_甲状腺结节标注_标注_审核_仲裁/1.2.250.1.204.5.667136.20211130073046160577.2.0.50.80.2.20241025154334222_MARK.json\n",
      "file in dir: /mnt/f/240926-RayShap/241129-thyroid-datas/02-batch-10caseToLabelmeForamt/甲结节5_甲状腺结节标注_标注_审核_仲裁/thyroidNodules_axp005.dcm\n",
      "dcmfile: /mnt/f/240926-RayShap/241129-thyroid-datas/02-batch-10caseToLabelmeForamt/甲结节5_甲状腺结节标注_标注_审核_仲裁/thyroidNodules_axp005.dcm\n",
      "dcmfile is file? : /mnt/f/240926-RayShap/241129-thyroid-datas/02-batch-10caseToLabelmeForamt/甲结节5_甲状腺结节标注_标注_审核_仲裁/thyroidNodules_axp005.dcm\n",
      "Cine Rate:56, <class 'pydicom.valuerep.IS'>\n",
      "Extract frames from [Pixel Data]:\n",
      "Total generate 452 image...\n",
      "{'datetime': '2024-11-30 18:35:47', 'fps': 100, 'imagepath': '/mnt/f/240926-RayShap/241129-thyroid-datas/02-batch-10caseToLabelmeForamt/甲结节5_甲状腺结节标注_标注_审核_仲裁/thyroidNodules_axp005.dcm_frms', 'raw_file_type': 'dcm'}\n",
      "********************************\n",
      "Handle with /mnt/f/240926-RayShap/241129-thyroid-datas/02-batch-10caseToLabelmeForamt/甲结节6_甲状腺结节标注_标注_审核_仲裁_质控 [8/]\n",
      "file in dir: /mnt/f/240926-RayShap/241129-thyroid-datas/02-batch-10caseToLabelmeForamt/甲结节6_甲状腺结节标注_标注_审核_仲裁_质控/1.2.250.1.204.5.667136.20211130071734836964.2.0.50.80.2.20241025160540429_MARK.json\n",
      "dcmfile: /mnt/f/240926-RayShap/241129-thyroid-datas/02-batch-10caseToLabelmeForamt/甲结节6_甲状腺结节标注_标注_审核_仲裁_质控/1.2.250.1.204.5.667136.20211130071734836964.2.0.50.80.2.20241025160540429_MARK.json\n",
      "file in dir: /mnt/f/240926-RayShap/241129-thyroid-datas/02-batch-10caseToLabelmeForamt/甲结节6_甲状腺结节标注_标注_审核_仲裁_质控/thyroidNodules_axp006.dcm\n",
      "dcmfile: /mnt/f/240926-RayShap/241129-thyroid-datas/02-batch-10caseToLabelmeForamt/甲结节6_甲状腺结节标注_标注_审核_仲裁_质控/thyroidNodules_axp006.dcm\n",
      "dcmfile is file? : /mnt/f/240926-RayShap/241129-thyroid-datas/02-batch-10caseToLabelmeForamt/甲结节6_甲状腺结节标注_标注_审核_仲裁_质控/thyroidNodules_axp006.dcm\n",
      "Cine Rate:51, <class 'pydicom.valuerep.IS'>\n",
      "Extract frames from [Pixel Data]:\n",
      "Total generate 257 image...\n",
      "{'datetime': '2024-11-30 18:35:47', 'fps': 100, 'imagepath': '/mnt/f/240926-RayShap/241129-thyroid-datas/02-batch-10caseToLabelmeForamt/甲结节6_甲状腺结节标注_标注_审核_仲裁_质控/thyroidNodules_axp006.dcm_frms', 'raw_file_type': 'dcm'}\n",
      "********************************\n",
      "Handle with /mnt/f/240926-RayShap/241129-thyroid-datas/02-batch-10caseToLabelmeForamt/甲结节7_甲状腺结节标注_标注_审核_仲裁 [9/]\n",
      "file in dir: /mnt/f/240926-RayShap/241129-thyroid-datas/02-batch-10caseToLabelmeForamt/甲结节7_甲状腺结节标注_标注_审核_仲裁/1.2.250.1.204.5.667136.20211130073057424782.2.0.50.80.2.20241025163540011_MARK.json\n",
      "dcmfile: /mnt/f/240926-RayShap/241129-thyroid-datas/02-batch-10caseToLabelmeForamt/甲结节7_甲状腺结节标注_标注_审核_仲裁/1.2.250.1.204.5.667136.20211130073057424782.2.0.50.80.2.20241025163540011_MARK.json\n",
      "file in dir: /mnt/f/240926-RayShap/241129-thyroid-datas/02-batch-10caseToLabelmeForamt/甲结节7_甲状腺结节标注_标注_审核_仲裁/thyroidNodules_axp007.dcm\n",
      "dcmfile: /mnt/f/240926-RayShap/241129-thyroid-datas/02-batch-10caseToLabelmeForamt/甲结节7_甲状腺结节标注_标注_审核_仲裁/thyroidNodules_axp007.dcm\n",
      "dcmfile is file? : /mnt/f/240926-RayShap/241129-thyroid-datas/02-batch-10caseToLabelmeForamt/甲结节7_甲状腺结节标注_标注_审核_仲裁/thyroidNodules_axp007.dcm\n",
      "Cine Rate:56, <class 'pydicom.valuerep.IS'>\n",
      "Extract frames from [Pixel Data]:\n",
      "Total generate 392 image...\n",
      "{'datetime': '2024-11-30 18:35:49', 'fps': 100, 'imagepath': '/mnt/f/240926-RayShap/241129-thyroid-datas/02-batch-10caseToLabelmeForamt/甲结节7_甲状腺结节标注_标注_审核_仲裁/thyroidNodules_axp007.dcm_frms', 'raw_file_type': 'dcm'}\n",
      "********************************\n",
      "Handle with /mnt/f/240926-RayShap/241129-thyroid-datas/02-batch-10caseToLabelmeForamt/甲结节9_甲状腺结节标注_标注_审核_仲裁 [10/]\n",
      "file in dir: /mnt/f/240926-RayShap/241129-thyroid-datas/02-batch-10caseToLabelmeForamt/甲结节9_甲状腺结节标注_标注_审核_仲裁/1.2.250.1.204.5.667136.20211130071855250330.2.0.50.80.2.20241025174534471_MARK.json\n",
      "dcmfile: /mnt/f/240926-RayShap/241129-thyroid-datas/02-batch-10caseToLabelmeForamt/甲结节9_甲状腺结节标注_标注_审核_仲裁/1.2.250.1.204.5.667136.20211130071855250330.2.0.50.80.2.20241025174534471_MARK.json\n",
      "file in dir: /mnt/f/240926-RayShap/241129-thyroid-datas/02-batch-10caseToLabelmeForamt/甲结节9_甲状腺结节标注_标注_审核_仲裁/甲结节9\n",
      "dcmfile: /mnt/f/240926-RayShap/241129-thyroid-datas/02-batch-10caseToLabelmeForamt/甲结节9_甲状腺结节标注_标注_审核_仲裁/甲结节9\n"
     ]
    },
    {
     "data": {
      "text/plain": [
       "0"
      ]
     },
     "execution_count": 7,
     "metadata": {},
     "output_type": "execute_result"
    }
   ],
   "source": [
    "#241130 extract dcm mini batch for new annotation files\n",
    "dcm_root_dir=\"/mnt/f/240926-RayShap/241129-thyroid-datas/02-batch-10caseToLabelmeForamt\"\n",
    "extract_all_dcm_imgs(dcm_root_dir, 0)"
   ]
  },
  {
   "cell_type": "code",
   "execution_count": null,
   "id": "8eeafa2b",
   "metadata": {},
   "outputs": [],
   "source": []
  }
 ],
 "metadata": {
  "kernelspec": {
   "display_name": "Python 3 (ipykernel)",
   "language": "python",
   "name": "python3"
  },
  "language_info": {
   "codemirror_mode": {
    "name": "ipython",
    "version": 3
   },
   "file_extension": ".py",
   "mimetype": "text/x-python",
   "name": "python",
   "nbconvert_exporter": "python",
   "pygments_lexer": "ipython3",
   "version": "3.10.12"
  }
 },
 "nbformat": 4,
 "nbformat_minor": 5
}
