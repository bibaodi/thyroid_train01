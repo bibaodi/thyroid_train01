{
 "cells": [
  {
   "cell_type": "code",
   "execution_count": 3,
   "id": "991e0637",
   "metadata": {},
   "outputs": [
    {
     "name": "stdout",
     "output_type": "stream",
     "text": [
      "Collecting pydicom\n",
      "  Downloading https://pypi.tuna.tsinghua.edu.cn/packages/a3/4f/a96cd1bf529854b67e05f77f41b8600164ad5bc76e47bf7f37e9fd1c0f46/pydicom-2.2.0-py3-none-any.whl (1.9MB)\n",
      "\u001b[K    100% |████████████████████████████████| 2.0MB 343kB/s eta 0:00:01\n",
      "\u001b[?25hInstalling collected packages: pydicom\n",
      "Successfully installed pydicom-2.2.0\n"
     ]
    }
   ],
   "source": [
    "#这个是将多帧dicom中所有的图片进行提取\n",
    "!pip install pydicom"
   ]
  },
  {
   "cell_type": "code",
   "execution_count": 23,
   "id": "9292d6e5",
   "metadata": {},
   "outputs": [],
   "source": [
    "import pydicom\n",
    "import math\n",
    "import os\n",
    "import sys\n",
    "import time\n",
    "import json\n",
    "\n",
    "\n",
    "def generateImagesFromDicom(dataset, filename=\"extracted_folder\", extractfps=0):\n",
    "    \"\"\"\n",
    "        Go through all items in the dataset and print them with custom format\n",
    "\n",
    "        Modelled after Dataset._pretty_str()\n",
    "    \"\"\"\n",
    "    cine_rate = 12    \n",
    "    for data_element in dataset:\n",
    "        if data_element.name == 'Cine Rate':\n",
    "            print(f\"Cine Rate:{data_element.value}, {type(data_element.value)}\")\n",
    "            cine_rate = data_element.value.real\n",
    "        if data_element.name == 'Pixel Data':\n",
    "            pixel_datas = data_element.value\n",
    "       \n",
    "    # check frame number and tranfersyntex here\n",
    "    frmpath = filename + '_frms'\n",
    "    os.makedirs(filename + '_frms', exist_ok=True)\n",
    "    \n",
    "    print('Extract frames from [Pixel Data]:')\n",
    "    if 0 == extractfps or extractfps > cine_rate:\n",
    "        delta_step = cine_rate / cine_rate\n",
    "    else:\n",
    "        delta_step = cine_rate / extractfps\n",
    "    frmindex = 0\n",
    "    for sequence_index, frm in enumerate(pydicom.encaps.generate_pixel_data_frame(pixel_datas)):\n",
    "        delta = sequence_index - (frmindex * delta_step)\n",
    "        if delta >= 1 or delta < 0:\n",
    "            continue\n",
    "        frmname = os.path.join(frmpath, f\"frm-{(frmindex+1):04d}.png\")\n",
    "        #print(\"generateImagesFromDicom: {0} {1} : {2} bytes\".format(\">>\", frmname, len(frm)))\n",
    "        with open(frmname, 'wb+') as f:\n",
    "            f.write(frm)\n",
    "        frmindex += 1\n",
    "    print(f\"Total generate {frmindex} image...\")\n",
    "\n",
    "    return frmpath if frmindex > 1 else None\n",
    "\n",
    "def record2File(imagedir, fps, raw_file_type='mp4'):\n",
    "    \"\"\"when finish the extract action, make a file to record the status\"\"\"\n",
    "    jsonfile = \"lmstart.json\"\n",
    "    now = time.localtime(time.time())\n",
    "    datatime = \"{0}-{1}-{2} {3}:{4}:{5}\".format(now.tm_year, now.tm_mon, now.tm_mday, now.tm_hour,now.tm_min, now.tm_sec)\n",
    "    recorder = {\"datetime\":datatime, \"fps\":fps, \"imagepath\":imagedir, \"raw_file_type\": raw_file_type}\n",
    "    print(recorder)\n",
    "    \n",
    "    with open(os.path.join(imagedir, jsonfile), \"w\") as fp:\n",
    "        json.dump(recorder, fp, ensure_ascii=True)\n",
    "    return 0\n",
    "    \n",
    "def extractDcmToImages(dicom_file, extractfps):\n",
    "    print(\"dcmfile:\", dicom_file)\n",
    "    if os.path.isfile(dicom_file):\n",
    "        print(\"dcmfile is file? :\", dicom_file)\n",
    "        ds = pydicom.dcmread(dicom_file)\n",
    "        try:\n",
    "            image_dir = generateImagesFromDicom(ds, filename=dicom_file, extractfps=extractfps)\n",
    "        except Exception as e:\n",
    "            print('Err:dcm library error')\n",
    "            image_dir = None\n",
    "        if image_dir:\n",
    "            record2File(imagedir=image_dir, fps=extractfps, raw_file_type=\"dcm\")\n",
    "        return image_dir\n",
    "    else:\n",
    "        return None"
   ]
  },
  {
   "cell_type": "code",
   "execution_count": 44,
   "id": "cca1808e",
   "metadata": {},
   "outputs": [],
   "source": [
    "def extract_all_dcm_imgs(dcm_root_dir, count=0):\n",
    "    if not os.path.exists(dcm_root_dir):\n",
    "        print(f\"Dir not exist:{dcm_root_dir}\")\n",
    "        return -1\n",
    "    subdirs = []\n",
    "    dirs = sorted(os.listdir(dcm_root_dir))\n",
    "    for item in dirs:\n",
    "        path = os.path.join(dcm_root_dir, item)\n",
    "        if os.path.isdir(path):\n",
    "            subdirs.append(path)\n",
    "    #print(f\"subdirs={subdirs}\")\n",
    "    \n",
    "    folder_details = []\n",
    "    dcm_f_count = 0\n",
    "    for ct, dcm_dir in enumerate(subdirs):\n",
    "        print(\"*\"*32)\n",
    "        print('Handle with {0} [{1}/]'.format(dcm_dir, ct + 1))\n",
    "        files_in_dir = os.listdir(dcm_dir)\n",
    "        if len(files_in_dir) < 2:\n",
    "            getLogger().info(f\"Empty dirctory : {dcm_dir}\")\n",
    "            continue\n",
    "        else:\n",
    "            for dcmf in files_in_dir:\n",
    "                fullfilename = os.path.join(dcm_dir, dcmf)\n",
    "                if not os.path.isfile(fullfilename):\n",
    "                    continue\n",
    "                #print(\"file in dir:\", fullfilename)\n",
    "                extractDcmToImages(fullfilename, 100)\n",
    "                dcm_f_count = dcm_f_count+1\n",
    "                if count != 0 and count == dcm_f_count:\n",
    "                    print(f\"\\n<<<already extract {count} directory dcm file~\")\n",
    "                    return\n",
    "    return 0"
   ]
  },
  {
   "cell_type": "code",
   "execution_count": 45,
   "id": "a2b60153",
   "metadata": {},
   "outputs": [
    {
     "name": "stdout",
     "output_type": "stream",
     "text": [
      "********************************\n",
      "Handle with /mnt/d/workspace/01-videos/1.3.6.1.4.1.52026.66519049.5308.54-v1 [1/]\n",
      "dcmfile: /mnt/d/workspace/01-videos/1.3.6.1.4.1.52026.66519049.5308.54-v1/1.3.6.1.4.1.52026.66519049.5308.54.1.1.dcm\n",
      "dcmfile is file? : /mnt/d/workspace/01-videos/1.3.6.1.4.1.52026.66519049.5308.54-v1/1.3.6.1.4.1.52026.66519049.5308.54.1.1.dcm\n",
      "Cine Rate:15, <class 'pydicom.valuerep.IS'>\n",
      "Extract frames from [Pixel Data]:\n",
      "Total generate 337 image...\n",
      "{'datetime': '2021-8-22 10:53:26', 'fps': 100, 'imagepath': '/mnt/d/workspace/01-videos/1.3.6.1.4.1.52026.66519049.5308.54-v1/1.3.6.1.4.1.52026.66519049.5308.54.1.1.dcm_frms', 'raw_file_type': 'dcm'}\n",
      "\n",
      "<<<already extract 1 directory dcm file~\n"
     ]
    }
   ],
   "source": [
    "dcm_root_dir=r\"/mnt/d/workspace/01-videos\"\n",
    "extract_all_dcm_imgs(dcm_root_dir, 1)"
   ]
  },
  {
   "cell_type": "code",
   "execution_count": null,
   "id": "68c6eef6",
   "metadata": {},
   "outputs": [],
   "source": []
  },
  {
   "cell_type": "code",
   "execution_count": null,
   "id": "c7a9ae40",
   "metadata": {},
   "outputs": [],
   "source": []
  }
 ],
 "metadata": {
  "kernelspec": {
   "display_name": "Python 3",
   "language": "python",
   "name": "python3"
  },
  "language_info": {
   "codemirror_mode": {
    "name": "ipython",
    "version": 3
   },
   "file_extension": ".py",
   "mimetype": "text/x-python",
   "name": "python",
   "nbconvert_exporter": "python",
   "pygments_lexer": "ipython3",
   "version": "3.6.9"
  }
 },
 "nbformat": 4,
 "nbformat_minor": 5
}
