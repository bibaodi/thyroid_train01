{
 "cells": [
  {
   "cell_type": "code",
   "execution_count": 1,
   "id": "34e2ab22-a0f9-48e0-8e2e-0c10d4d750fd",
   "metadata": {},
   "outputs": [],
   "source": [
    "# statis thyroid position cases \n",
    "# eton@250511\n",
    "\n",
    "import pandas as pd\n",
    "import os,sys\n",
    "\n",
    "xls_file=r'/mnt/f/241129-xin1zhipu-thyroid-datas/31-processed_data/82AixCasesRenamedToEng/250511-thyroidGlandPos.xlsx'\n"
   ]
  },
  {
   "cell_type": "code",
   "execution_count": 2,
   "id": "17907880-42ba-4682-92cd-d62b6c556ec8",
   "metadata": {},
   "outputs": [],
   "source": [
    "exfile=xls_file\n",
    "sheetName='Sheet1'\n",
    "cols=['ID：']\n",
    "\n",
    "m_df=pd.read_excel(exfile, sheet_name=sheetName)\n",
    "df = pd.read_excel(exfile, sheet_name=sheetName, usecols=cols)\n"
   ]
  },
  {
   "cell_type": "code",
   "execution_count": 5,
   "id": "00e3f329-c5b2-4e9c-801b-5e539208000b",
   "metadata": {},
   "outputs": [
    {
     "name": "stdout",
     "output_type": "stream",
     "text": [
      "<class 'pandas.core.series.Series'> 0       甲结节1\n",
      "1       甲结节2\n",
      "2       甲结节3\n",
      "3       甲结节5\n",
      "4       甲结节6\n",
      "       ...  \n",
      "78     甲结节89\n",
      "79     甲结节91\n",
      "80     甲结节93\n",
      "81    甲结节101\n",
      "82       NaN\n",
      "Name: 文件名, Length: 83, dtype: object\n"
     ]
    }
   ],
   "source": [
    "colA=m_df['文件名'].str.lower()\n",
    "print(type(colA), colA)"
   ]
  },
  {
   "cell_type": "code",
   "execution_count": 6,
   "id": "20dca05c-712c-4c9f-b3fd-f25ef9e9c544",
   "metadata": {},
   "outputs": [],
   "source": [
    "colB_name='missing'"
   ]
  },
  {
   "cell_type": "code",
   "execution_count": 7,
   "id": "d345ea4e-f638-4ea9-9883-9126a6e1026f",
   "metadata": {},
   "outputs": [],
   "source": [
    "m_map = m_df.set_index(colA)[colB_name]"
   ]
  },
  {
   "cell_type": "code",
   "execution_count": 8,
   "id": "82111046-4e22-4a75-89ca-7139c73bf6af",
   "metadata": {},
   "outputs": [
    {
     "name": "stdout",
     "output_type": "stream",
     "text": [
      "文件名\n",
      "甲结节1      4,8\n",
      "甲结节2      NaN\n",
      "甲结节3      NaN\n",
      "甲结节5      NaN\n",
      "甲结节6      NaN\n",
      "         ... \n",
      "甲结节89     NaN\n",
      "甲结节91     NaN\n",
      "甲结节93     NaN\n",
      "甲结节101    NaN\n",
      "NaN       NaN\n",
      "Name: missing, Length: 83, dtype: object {'甲结节1': '4,8', '甲结节2': nan, '甲结节3': nan, '甲结节5': nan, '甲结节6': nan, '甲结节7': nan, '甲结节9': nan, '甲结节10': nan, '甲结节11': nan, '甲结节12': nan, '甲结节13': nan, '甲结节14': nan, '甲结节15': nan, '甲结节16': nan, '甲结节17': nan, '甲结节18': nan, '甲结节19': nan, '甲结节20': nan, '甲结节21': nan, '甲结节22': nan, '甲结节23': nan, '甲结节24': nan, '甲结节25': nan, '甲结节26': nan, '甲结节27': nan, '甲结节28': nan, '甲结节29': nan, '甲结节30': nan, '甲结节31': 39, '甲结节32': nan, '甲结节33': nan, '甲结节34': nan, '甲结节35': nan, '甲结节36': nan, '甲结节37': nan, '甲结节38': nan, '甲结节40': nan, '甲结节41': nan, '甲结节42': nan, '甲结节43': nan, '甲结节44': nan, '甲结节45': nan, '甲结节46': nan, '甲结节47': nan, '甲结节48': nan, '甲结节49': nan, '甲结节50': nan, '甲结节51': '57,60', '甲结节52': nan, '甲结节53': nan, '甲结节54': nan, '甲结节55': nan, '甲结节56': nan, '甲结节58': nan, '甲结节59': nan, '甲结节61': '66,67,70', '甲结节62': nan, '甲结节63': nan, '甲结节64': nan, '甲结节65': nan, '甲结节68': nan, '甲结节69': nan, '甲结节71': '80,', '甲结节72': nan, '甲结节73': nan, '甲结节74': nan, '甲结节75': nan, '甲结节76': nan, '甲结节77': nan, '甲结节78': nan, '甲结节79': nan, '甲结节81': '83,90', '甲结节82': nan, '甲结节84': nan, '甲结节85': nan, '甲结节86': nan, '甲结节87': nan, '甲结节88': nan, '甲结节89': nan, '甲结节91': nan, '甲结节93': nan, '甲结节101': nan, nan: nan}\n"
     ]
    }
   ],
   "source": [
    "m_mapDict=m_map.to_dict()\n",
    "print(m_map, m_mapDict)"
   ]
  },
  {
   "cell_type": "code",
   "execution_count": 9,
   "id": "fc3ab585-f0e6-46cb-a7a2-459515b5f824",
   "metadata": {},
   "outputs": [
    {
     "data": {
      "text/plain": [
       "'4,8'"
      ]
     },
     "execution_count": 9,
     "metadata": {},
     "output_type": "execute_result"
    }
   ],
   "source": [
    "m_mapDict.get('甲结节1', 'notfound')"
   ]
  },
  {
   "cell_type": "code",
   "execution_count": 13,
   "id": "349a0514-1bca-44ff-96d3-bc6fd241c5d5",
   "metadata": {},
   "outputs": [
    {
     "name": "stdout",
     "output_type": "stream",
     "text": [
      "<class 'float'> nan\n"
     ]
    }
   ],
   "source": [
    "ret = m_mapDict.get('甲结节2', 'notfound')\n",
    "print(type(ret), str(ret))"
   ]
  },
  {
   "cell_type": "code",
   "execution_count": 12,
   "id": "c0f703cc-ee72-462d-a605-fc8c1d679969",
   "metadata": {},
   "outputs": [
    {
     "name": "stdout",
     "output_type": "stream",
     "text": [
      "<class 'str'> notfound\n"
     ]
    }
   ],
   "source": [
    "ret = m_mapDict.get('甲结节9992', 'notfound')\n",
    "print(type(ret), ret)"
   ]
  },
  {
   "cell_type": "code",
   "execution_count": 3,
   "id": "4ca74ac9-06b1-4362-af62-ac3a63eb7b87",
   "metadata": {},
   "outputs": [],
   "source": [
    "seriesA=df[cols[0]]"
   ]
  },
  {
   "cell_type": "code",
   "execution_count": 4,
   "id": "7bc6bafd-0f0d-4094-8ce9-a30e3e1b8b94",
   "metadata": {},
   "outputs": [
    {
     "data": {
      "text/plain": [
       "0    Aixplorer 375953152-右横\n",
       "1    Aixplorer 375953152-右纵\n",
       "2     Aixplorer 375953152-峡\n",
       "Name: ID：, dtype: object"
      ]
     },
     "execution_count": 4,
     "metadata": {},
     "output_type": "execute_result"
    }
   ],
   "source": [
    "seriesA.head(3)"
   ]
  },
  {
   "cell_type": "code",
   "execution_count": 22,
   "id": "5c603d12-6765-436d-86c1-92bdb7ff6715",
   "metadata": {},
   "outputs": [
    {
     "name": "stdout",
     "output_type": "stream",
     "text": [
      "['右横', '右纵', '峡', '左横', '右横', '左纵', '右纵', '左横', '右横', '左纵', '右纵', '左横', '左纵', '右横', '右纵', '峡', '左横', '左纵', '右纵', '右横', '右纵', '右横', '左横', '左纵', '右纵', '左横', '右纵', '左横', '右纵', '右纵', '左纵', '右横', '左纵', '右横', '右纵', '右纵', '左横', '左横', '峡', '右纵', '左横', '左纵', '右横', '右纵', '左横', '左纵', '右横', '右纵', '左横', '左纵', '右横', '右纵', '左纵', '左横', '左纵', '右纵', '左纵', '左横', '左纵', '左横', '左纵', '左横', '右纵', '左横', '左纵', '右纵', '峡', '左横', '右纵', '左纵', '右横', '右纵', '左横', '右纵', '右横', '左纵', '右纵', '左横', '左横', '右横', '右横', '右横', None, None]\n"
     ]
    }
   ],
   "source": [
    "def extractHans(oriStr:str):\n",
    "    pattern = re.compile(r'[\\u4e00-\\u9fff]+')  # Covers most common Chinese characters\n",
    "    try:\n",
    "        chinese_chars = ''.join(pattern.findall(oriStr)) \n",
    "        return chinese_chars\n",
    "    except Exception as e:\n",
    "        pass\n",
    "\n",
    "pos_col = []\n",
    "\n",
    "for iitem in seriesA:\n",
    "    posstr = extractHans(iitem)\n",
    "    pos_col.append(posstr)\n",
    "\n",
    "print(pos_col)\n",
    "    \n",
    "df['glandPos'] = pd.Series(pos_col, name='glandPos')\n",
    "df.to_excel(xls_file+\"2.xlsx\")"
   ]
  },
  {
   "cell_type": "code",
   "execution_count": 12,
   "id": "b30f41a3-1b8a-4f67-9549-500ea4017456",
   "metadata": {},
   "outputs": [
    {
     "name": "stdout",
     "output_type": "stream",
     "text": [
      "gp:\n",
      "<re.Match object; span=(0, 17), match='data-01_result-v2'> \n"
     ]
    }
   ],
   "source": [
    "import re\n",
    "\n",
    "text = \"data-01_result-v2\"\n",
    "match = re.search(r'.*[\\d-](.*)', text)\n",
    "result = match.group(1) if match else 'None'  # '_result-v2'\n",
    "for ig in match.groups():\n",
    "    print(f\"gp:{ig}\")\n",
    "    \n",
    "print(match, result)"
   ]
  },
  {
   "cell_type": "code",
   "execution_count": 8,
   "id": "339f6a0c-bd35-433d-a62b-a68eddbb282c",
   "metadata": {},
   "outputs": [
    {
     "name": "stdout",
     "output_type": "stream",
     "text": [
      "['1', '2', '3', 't']\n"
     ]
    }
   ],
   "source": [
    "import re\n",
    "\n",
    "text = \"sample-123text\"\n",
    "matches = re.findall(r'(?<=[\\d-]).', text)  # ['1', '2', '3', 't']\n",
    "print(matches)"
   ]
  },
  {
   "cell_type": "code",
   "execution_count": 14,
   "id": "41d1521c-4f0f-4677-b2aa-c44e6413ba38",
   "metadata": {},
   "outputs": [
    {
     "name": "stdout",
     "output_type": "stream",
     "text": [
      "混合字符串你好世界\n"
     ]
    }
   ],
   "source": [
    "import re\n",
    "\n",
    "text = \"混合字符串MixedString123你好世界\"\n",
    "pattern = re.compile(r'[\\u4e00-\\u9fff]+')  # Covers most common Chinese characters\n",
    "chinese_chars = ''.join(pattern.findall(text))  # Returns '你好世界'\n",
    "print(chinese_chars)"
   ]
  },
  {
   "cell_type": "code",
   "execution_count": null,
   "id": "44db90bf-9816-4e29-be52-d8825d06fc1b",
   "metadata": {},
   "outputs": [],
   "source": []
  }
 ],
 "metadata": {
  "kernelspec": {
   "display_name": "Python 3 (ipykernel)",
   "language": "python",
   "name": "python3"
  },
  "language_info": {
   "codemirror_mode": {
    "name": "ipython",
    "version": 3
   },
   "file_extension": ".py",
   "mimetype": "text/x-python",
   "name": "python",
   "nbconvert_exporter": "python",
   "pygments_lexer": "ipython3",
   "version": "3.10.12"
  }
 },
 "nbformat": 4,
 "nbformat_minor": 5
}
