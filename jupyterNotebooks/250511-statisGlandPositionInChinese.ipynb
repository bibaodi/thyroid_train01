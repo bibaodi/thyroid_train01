{
 "cells": [
  {
   "cell_type": "code",
   "execution_count": 1,
   "id": "34e2ab22-a0f9-48e0-8e2e-0c10d4d750fd",
   "metadata": {},
   "outputs": [],
   "source": [
    "# statis thyroid position cases \n",
    "# eton@250511\n",
    "\n",
    "import pandas as pd\n",
    "import os,sys\n",
    "\n",
    "xls_file=r'/mnt/f/241129-xin1zhipu-thyroid-datas/31-processed_data/82AixCasesRenamedToEng/250511-thyroidGlandPos.xlsx'\n"
   ]
  },
  {
   "cell_type": "code",
   "execution_count": 2,
   "id": "17907880-42ba-4682-92cd-d62b6c556ec8",
   "metadata": {},
   "outputs": [],
   "source": [
    "exfile=xls_file\n",
    "sheetName='Sheet1'\n",
    "cols=['ID：']\n",
    "\n",
    "df = pd.read_excel(exfile, sheet_name=sheetName, usecols=cols)\n"
   ]
  },
  {
   "cell_type": "code",
   "execution_count": 3,
   "id": "4ca74ac9-06b1-4362-af62-ac3a63eb7b87",
   "metadata": {},
   "outputs": [],
   "source": [
    "seriesA=df[cols[0]]"
   ]
  },
  {
   "cell_type": "code",
   "execution_count": 4,
   "id": "7bc6bafd-0f0d-4094-8ce9-a30e3e1b8b94",
   "metadata": {},
   "outputs": [
    {
     "data": {
      "text/plain": [
       "0    Aixplorer 375953152-右横\n",
       "1    Aixplorer 375953152-右纵\n",
       "2     Aixplorer 375953152-峡\n",
       "Name: ID：, dtype: object"
      ]
     },
     "execution_count": 4,
     "metadata": {},
     "output_type": "execute_result"
    }
   ],
   "source": [
    "seriesA.head(3)"
   ]
  },
  {
   "cell_type": "code",
   "execution_count": 22,
   "id": "5c603d12-6765-436d-86c1-92bdb7ff6715",
   "metadata": {},
   "outputs": [
    {
     "name": "stdout",
     "output_type": "stream",
     "text": [
      "['右横', '右纵', '峡', '左横', '右横', '左纵', '右纵', '左横', '右横', '左纵', '右纵', '左横', '左纵', '右横', '右纵', '峡', '左横', '左纵', '右纵', '右横', '右纵', '右横', '左横', '左纵', '右纵', '左横', '右纵', '左横', '右纵', '右纵', '左纵', '右横', '左纵', '右横', '右纵', '右纵', '左横', '左横', '峡', '右纵', '左横', '左纵', '右横', '右纵', '左横', '左纵', '右横', '右纵', '左横', '左纵', '右横', '右纵', '左纵', '左横', '左纵', '右纵', '左纵', '左横', '左纵', '左横', '左纵', '左横', '右纵', '左横', '左纵', '右纵', '峡', '左横', '右纵', '左纵', '右横', '右纵', '左横', '右纵', '右横', '左纵', '右纵', '左横', '左横', '右横', '右横', '右横', None, None]\n"
     ]
    }
   ],
   "source": [
    "def extractHans(oriStr:str):\n",
    "    pattern = re.compile(r'[\\u4e00-\\u9fff]+')  # Covers most common Chinese characters\n",
    "    try:\n",
    "        chinese_chars = ''.join(pattern.findall(oriStr)) \n",
    "        return chinese_chars\n",
    "    except Exception as e:\n",
    "        pass\n",
    "\n",
    "pos_col = []\n",
    "\n",
    "for iitem in seriesA:\n",
    "    posstr = extractHans(iitem)\n",
    "    pos_col.append(posstr)\n",
    "\n",
    "print(pos_col)\n",
    "    \n",
    "df['glandPos'] = pd.Series(pos_col, name='glandPos')\n",
    "df.to_excel(xls_file+\"2.xlsx\")"
   ]
  },
  {
   "cell_type": "code",
   "execution_count": 12,
   "id": "b30f41a3-1b8a-4f67-9549-500ea4017456",
   "metadata": {},
   "outputs": [
    {
     "name": "stdout",
     "output_type": "stream",
     "text": [
      "gp:\n",
      "<re.Match object; span=(0, 17), match='data-01_result-v2'> \n"
     ]
    }
   ],
   "source": [
    "import re\n",
    "\n",
    "text = \"data-01_result-v2\"\n",
    "match = re.search(r'.*[\\d-](.*)', text)\n",
    "result = match.group(1) if match else 'None'  # '_result-v2'\n",
    "for ig in match.groups():\n",
    "    print(f\"gp:{ig}\")\n",
    "    \n",
    "print(match, result)"
   ]
  },
  {
   "cell_type": "code",
   "execution_count": 8,
   "id": "339f6a0c-bd35-433d-a62b-a68eddbb282c",
   "metadata": {},
   "outputs": [
    {
     "name": "stdout",
     "output_type": "stream",
     "text": [
      "['1', '2', '3', 't']\n"
     ]
    }
   ],
   "source": [
    "import re\n",
    "\n",
    "text = \"sample-123text\"\n",
    "matches = re.findall(r'(?<=[\\d-]).', text)  # ['1', '2', '3', 't']\n",
    "print(matches)"
   ]
  },
  {
   "cell_type": "code",
   "execution_count": 14,
   "id": "41d1521c-4f0f-4677-b2aa-c44e6413ba38",
   "metadata": {},
   "outputs": [
    {
     "name": "stdout",
     "output_type": "stream",
     "text": [
      "混合字符串你好世界\n"
     ]
    }
   ],
   "source": [
    "import re\n",
    "\n",
    "text = \"混合字符串MixedString123你好世界\"\n",
    "pattern = re.compile(r'[\\u4e00-\\u9fff]+')  # Covers most common Chinese characters\n",
    "chinese_chars = ''.join(pattern.findall(text))  # Returns '你好世界'\n",
    "print(chinese_chars)"
   ]
  },
  {
   "cell_type": "code",
   "execution_count": null,
   "id": "44db90bf-9816-4e29-be52-d8825d06fc1b",
   "metadata": {},
   "outputs": [],
   "source": []
  }
 ],
 "metadata": {
  "kernelspec": {
   "display_name": "Python 3 (ipykernel)",
   "language": "python",
   "name": "python3"
  },
  "language_info": {
   "codemirror_mode": {
    "name": "ipython",
    "version": 3
   },
   "file_extension": ".py",
   "mimetype": "text/x-python",
   "name": "python",
   "nbconvert_exporter": "python",
   "pygments_lexer": "ipython3",
   "version": "3.10.12"
  }
 },
 "nbformat": 4,
 "nbformat_minor": 5
}
