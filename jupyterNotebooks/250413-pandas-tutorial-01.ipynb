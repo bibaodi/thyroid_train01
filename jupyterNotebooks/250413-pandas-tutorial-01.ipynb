{
 "cells": [
  {
   "cell_type": "code",
   "execution_count": 1,
   "id": "2d91e8d4-6bf8-4d32-a0c8-611fb3f1a0c7",
   "metadata": {},
   "outputs": [],
   "source": [
    "import pandas as pd\n"
   ]
  },
  {
   "cell_type": "markdown",
   "id": "62da65fe-ff87-4c0b-86b9-4ad490d2c710",
   "metadata": {},
   "source": [
    "Pandas 名字衍生自术语 \"panel data\"（面板数据）和 \"Python data analysis\"（Python 数据分析）。\n",
    "Pandas 的主要数据结构是 Series （一维数据）与 DataFrame（二维数据）。\n",
    "\n",
    "    1. Series 是一种类似于一维数组的对象，它由一组数据（各种 Numpy 数据类型）以及一组与之相关的数据标签（即索引）组成。\n",
    "\n",
    "    2. DataFrame 是一个表格型的数据结构，它含有一组有序的列，每列可以是不同的值类型（数值、字符串、布尔型值）。DataFrame 既有行索引也有列索引，它可以被看做由 Series 组成的字典（共同用一个索引）。"
   ]
  },
  {
   "cell_type": "code",
   "execution_count": 3,
   "id": "65cbf428-2125-4ecf-a558-00a2b3b9efbc",
   "metadata": {},
   "outputs": [
    {
     "name": "stdout",
     "output_type": "stream",
     "text": [
      "   Apples  Bananas\n",
      "0       1        2\n",
      "1       3        6\n",
      "2       7        3\n",
      "3       4        5\n"
     ]
    }
   ],
   "source": [
    "import pandas as pd\n",
    "# DataFrame 由 Index、Key、Value 组成：\n",
    "# 创建两个Series对象\n",
    "series_apples = pd.Series([1, 3, 7, 4])\n",
    "series_bananas = pd.Series([2, 6, 3, 5])\n",
    "\n",
    "# 将两个Series对象相加，得到DataFrame，并指定列名\n",
    "df = pd.DataFrame({ 'Apples': series_apples, 'Bananas': series_bananas })\n",
    "\n",
    "# 显示DataFrame\n",
    "print(df)"
   ]
  },
  {
   "cell_type": "code",
   "execution_count": 5,
   "id": "384d7676-a315-4095-a874-6583b608080f",
   "metadata": {},
   "outputs": [
    {
     "name": "stdout",
     "output_type": "stream",
     "text": [
      "0    1\n",
      "1    2\n",
      "2    3\n",
      "3    4\n",
      "Name: A, dtype: int64\n",
      "1    1\n",
      "2    2\n",
      "3    3\n",
      "4    4\n",
      "Name: A, dtype: int64\n"
     ]
    }
   ],
   "source": [
    "### pandas.Series(data=None, index=None, dtype=None, name=None, copy=False, fastpath=False)\n",
    "\n",
    "# 创建一个Series对象，指定名称为'A'，值分别为1, 2, 3, 4\n",
    "# 默认索引为0, 1, 2, 3\n",
    "series = pd.Series([1, 2, 3, 4], name='A')\n",
    "\n",
    "# 显示Series对象\n",
    "print(series)\n",
    "\n",
    "# 如果你想要显式地设置索引，可以这样做：\n",
    "custom_index = [1, 2, 3, 4]  # 自定义索引\n",
    "series_with_index = pd.Series([1, 2, 3, 4], index=custom_index, name='A')\n",
    "\n",
    "# 显示带有自定义索引的Series对象\n",
    "print(series_with_index)"
   ]
  },
  {
   "cell_type": "code",
   "execution_count": 6,
   "id": "a89dfa5a-f288-4a43-a4b2-f49d1ba5c448",
   "metadata": {},
   "outputs": [
    {
     "name": "stdout",
     "output_type": "stream",
     "text": [
      "x    Google\n",
      "y    Runoob\n",
      "z      Wiki\n",
      "dtype: object\n"
     ]
    }
   ],
   "source": [
    "a = [\"Google\", \"Runoob\", \"Wiki\"]\n",
    "\n",
    "myvar = pd.Series(a, index = [\"x\", \"y\", \"z\"])\n",
    "\n",
    "print(myvar)"
   ]
  },
  {
   "cell_type": "code",
   "execution_count": 7,
   "id": "1d3f82b3-9888-45f9-bf10-617214471817",
   "metadata": {},
   "outputs": [
    {
     "name": "stdout",
     "output_type": "stream",
     "text": [
      "1009    Google\n",
      "2       Runoob\n",
      "3         Wiki\n",
      "dtype: object\n"
     ]
    }
   ],
   "source": [
    "sites = {1009: \"Google\", 2: \"Runoob\", 3: \"Wiki\"}\n",
    "\n",
    "myvar = pd.Series(sites)\n",
    "\n",
    "print(myvar)"
   ]
  },
  {
   "cell_type": "code",
   "execution_count": 8,
   "id": "1dfdc49d-9870-42ac-92e1-dad4fb8498b6",
   "metadata": {},
   "outputs": [
    {
     "name": "stdout",
     "output_type": "stream",
     "text": [
      "3      Wiki\n",
      "2    Runoob\n",
      "dtype: object\n"
     ]
    }
   ],
   "source": [
    "myvar = pd.Series(sites, index = [3, 2])\n",
    "\n",
    "print(myvar)"
   ]
  },
  {
   "cell_type": "code",
   "execution_count": 9,
   "id": "91692380-0603-48d9-ac70-8cf3b1be7eb4",
   "metadata": {},
   "outputs": [],
   "source": [
    "exfile=r'250408-zhengxiang-task_sop_0401_85784.xlsx'\n",
    "sheetName='task_sop_0401_85784'\n",
    "cols=['position']\n",
    "\n",
    "df = pd.read_excel(exfile, sheet_name=sheetName, usecols=cols)\n"
   ]
  },
  {
   "cell_type": "code",
   "execution_count": 13,
   "id": "590ccf2d-7667-4750-b47e-92c71d9414f6",
   "metadata": {},
   "outputs": [
    {
     "name": "stdout",
     "output_type": "stream",
     "text": [
      "<class 'pandas.core.frame.DataFrame'>\n",
      "RangeIndex: 85784 entries, 0 to 85783\n",
      "Data columns (total 1 columns):\n",
      " #   Column    Non-Null Count  Dtype \n",
      "---  ------    --------------  ----- \n",
      " 0   position  85784 non-null  object\n",
      "dtypes: object(1)\n",
      "memory usage: 670.3+ KB\n",
      "<class 'pandas.core.frame.DataFrame'> None\n"
     ]
    }
   ],
   "source": [
    "print(type(df),  df.info())"
   ]
  },
  {
   "cell_type": "code",
   "execution_count": 12,
   "id": "39632e69-94ee-496a-b06a-c4f01ee0ed4c",
   "metadata": {},
   "outputs": [
    {
     "name": "stdout",
     "output_type": "stream",
     "text": [
      "shape: (85784, 1) Index(['position'], dtype='object')\n"
     ]
    }
   ],
   "source": [
    "print(\"shape:\", df.shape, df.columns)"
   ]
  },
  {
   "cell_type": "code",
   "execution_count": 14,
   "id": "0411147e-5777-4c9f-9ffe-e88a0cae491c",
   "metadata": {},
   "outputs": [
    {
     "name": "stdout",
     "output_type": "stream",
     "text": [
      "seriesA: type= <class 'pandas.core.series.Series'>\n"
     ]
    }
   ],
   "source": [
    "seriesA=df[cols[0]]\n",
    "print(f\"seriesA: type=\", type(seriesA))"
   ]
  },
  {
   "cell_type": "code",
   "execution_count": 15,
   "id": "26bfc35c-6142-42bd-833f-85f352ce6f29",
   "metadata": {},
   "outputs": [
    {
     "data": {
      "text/plain": [
       "0    左叶中上外近表面处\n",
       "1    左叶中上外近表面处\n",
       "2           左叶\n",
       "Name: position, dtype: object"
      ]
     },
     "execution_count": 15,
     "metadata": {},
     "output_type": "execute_result"
    }
   ],
   "source": [
    "seriesA.head(3)"
   ]
  },
  {
   "cell_type": "code",
   "execution_count": 22,
   "id": "0cd29607-ce51-44bf-9341-9644f36a9d1b",
   "metadata": {},
   "outputs": [
    {
     "name": "stdout",
     "output_type": "stream",
     "text": [
      "type=<class 'numpy.ndarray'>, len=1271\n"
     ]
    }
   ],
   "source": [
    "uniqueKeys = seriesA.unique()\n",
    "nofUnique = uniqueKeys.size\n",
    "print(f\"type={type(uniqueKeys)}, len={uniqueKeys.size}\")"
   ]
  },
  {
   "cell_type": "code",
   "execution_count": 24,
   "id": "76d41378-63ff-4165-b6bb-ddc7dccc78fb",
   "metadata": {},
   "outputs": [
    {
     "name": "stdout",
     "output_type": "stream",
     "text": [
      "0 左叶中上外近表面处\n",
      "1 左叶\n",
      "2 左叶中部近峡部\n",
      "3 右叶中部\n",
      "4 左叶下极\n",
      "5 左叶中部\n",
      "6 左叶中部背侧\n",
      "7 右叶下段\n",
      "8 右叶\n",
      "9 左叶下极近峡部\n",
      "10 右叶中上近表面\n",
      "11 右侧颈部III区颈总动脉前方\n",
      "12 右叶近峡部\n",
      "13 右叶下极\n",
      "14 右叶上极\n",
      "15 右叶中上部前侧\n",
      "16 右叶中部气管旁\n",
      "17 右叶中下部\n",
      "18 左叶近峡部\n",
      "19 右叶中上部\n",
      "20 右侧颈部III区\n",
      "21 左叶上部\n",
      "22 左叶上极背侧\n",
      "23 右叶中上部背侧\n",
      "24 右叶中下部背侧\n",
      "25 左叶上极\n",
      "26 右颈部III区颈内静脉后外侧\n",
      "27 右侧峡部\n",
      "28 左叶中下部前侧\n",
      "29 左叶中下部\n",
      "30 左叶中部靠外侧\n",
      "31 左叶中上部\n",
      "32 右叶下部\n",
      "33 左叶中部包膜下\n",
      "34 右叶下极包膜下\n",
      "35 左叶中部前侧\n",
      "36 右叶中部实质中央区\n",
      "37 右叶中部背侧\n",
      "38 右叶下极背侧\n",
      "39 左颈部VI区（左叶下方）\n",
      "40 左侧峡部\n",
      "41 左叶上极近峡部\n",
      "42 左叶下部\n",
      "43 左叶中部近下极\n",
      "44 左叶下极背侧\n",
      "45 右叶下极下方\n",
      "46 右叶上部实质中央区\n",
      "47 峡部下极\n",
      "48 右叶下极内后侧\n",
      "49 左叶中下部内侧\n",
      "50 左叶中下部前内侧\n",
      "51 左叶下部外侧\n"
     ]
    }
   ],
   "source": [
    "for ik in range(nofUnique):\n",
    "    print(ik, uniqueKeys[ik])\n",
    "    if ik >50:\n",
    "        break;"
   ]
  },
  {
   "cell_type": "code",
   "execution_count": 44,
   "id": "5c605907-bc32-4653-86c0-11dab043dde8",
   "metadata": {},
   "outputs": [
    {
     "data": {
      "text/plain": [
       "{'囊', '实', '床', '性', '横', '纵', '结', '节'}"
      ]
     },
     "execution_count": 44,
     "metadata": {},
     "output_type": "execute_result"
    }
   ],
   "source": [
    "zongheng='纵横床囊实性结节'\n",
    "#zongheng.split()\n",
    "set(zongheng)"
   ]
  },
  {
   "cell_type": "code",
   "execution_count": 45,
   "id": "75748190-eac9-4243-9ec2-0a7e83318625",
   "metadata": {},
   "outputs": [
    {
     "name": "stdout",
     "output_type": "stream",
     "text": [
      "右叶中部实质中央区\n",
      "右叶上部实质中央区\n",
      "右叶实质内\n",
      "左叶实质中部\n",
      "右叶中部实质内\n",
      "右叶下部实质内\n",
      "原甲状腺左叶床\n",
      "左叶中上部实质内\n",
      "右叶上部实质内\n",
      "左叶中部实质中后侧\n",
      "右叶实质中部\n",
      "左叶实质中部偏外侧近颈总动脉旁\n",
      "右叶中下部实质内\n",
      "左叶中部实质内\n",
      "右叶上极实质中央区\n",
      "左叶实质中部近背侧\n",
      "右叶实质中部近背侧被膜\n",
      "右叶中部实质\n",
      "左叶中下部实质内\n",
      "左叶上极偏外侧实质内\n",
      "右叶实质中部气管旁\n",
      "右叶实质中部被膜下\n",
      "右叶中上部实质前被膜下方\n",
      "左叶实质中下部\n",
      "右叶中上部实质中央区\n",
      "右叶中下部背侧大者结节\n",
      "右叶中下部背侧大者结节\n",
      "左叶中下部低回声结节\n",
      "左叶中下部低回声结节\n",
      "左叶下部实质内\n",
      "左叶中上部囊实性结节\n",
      "左叶中上部囊实性结节\n",
      "左叶中上部囊实性结节\n",
      "左叶中上部囊实性结节\n",
      "左叶中上部囊实性结节\n",
      "左叶下极实质内\n",
      "右叶上极实质中央部\n",
      "左叶实质中部气管旁\n",
      "左叶中上部实质中后侧\n",
      "右叶实质中部背侧\n",
      "左叶实质中部被膜下\n",
      "左叶实质中部背侧\n",
      "右侧中上部囊实性结节\n",
      "右侧中上部囊实性结节\n",
      "右侧中上部囊实性结节\n",
      "右侧中上部囊实性结节\n",
      "右侧中上部囊实性结节\n",
      "右叶实质中部偏外侧\n",
      "右叶中上部囊实性结节\n",
      "右叶中上部囊实性结节\n",
      "右叶中上部囊实性结节\n",
      "右叶中上部囊实性结节\n",
      "右叶中上部囊实性结节\n",
      "左叶实质中下部近峡部\n",
      "右叶实质下极\n",
      "右叶中上部实质内\n",
      "右叶实质中下部\n",
      "右叶实质中部近峡部\n",
      "左叶中部实质\n",
      "甲状腺右叶中部实质内\n",
      "左叶上部实质内\n",
      "右侧实质中上部\n",
      "左侧实质中部\n",
      "甲状腺左叶实质中部背侧\n",
      "左叶中下部实质中后侧\n",
      "左叶实质中部近峡部\n",
      "右叶实质中部后方\n",
      "左叶实质中部后方\n"
     ]
    }
   ],
   "source": [
    "for ikey in uniqueKeys:\n",
    "    for iword in list(zongheng):\n",
    "        if iword in ikey:\n",
    "            print(ikey)\n",
    "        "
   ]
  },
  {
   "cell_type": "code",
   "execution_count": 29,
   "id": "6f600634-0623-486b-8eea-8ae86bbf63c3",
   "metadata": {},
   "outputs": [],
   "source": [
    "wordSets=set()\n",
    "for ikey in uniqueKeys:\n",
    "    wordSets.update(set(ikey))\n",
    "\n",
    "\n"
   ]
  },
  {
   "cell_type": "code",
   "execution_count": 30,
   "id": "565a4230-d548-4950-8738-9bc2e965b14a",
   "metadata": {},
   "outputs": [
    {
     "name": "stdout",
     "output_type": "stream",
     "text": [
      "122 {'静', '旁', '部', '锥', '甲', '级', 'V', '靠', '极', '体', '内', 'Ⅴ', '总', '颌', '臂', '浅', '食', '上', '腺', '节', '处', '中', '区', '及', '锁', '皮', '质', '腹', '融', '近', '段', '窝', '偏', '交', '血', '央', '边', '至', '角', '前', '围', '较', '囊', '包', '～', '结', '左', '侧', '紧', '声', '叶', '干', '残', '原', '界', '表', '膜', '与', '大', '尚', '方', '峡', '稍', 'I', '切', '状', '胸', '夹', '消', '双', '外', '，', '位', '-', '叉', '被', '相', '治', '于', '余', '、', '骨', '层', '（', '正', '回', '）', '脉', '后', '实', '右', '根', '间', '背', '邻', 'b', 'Ⅳ', '之', '颈', '气', 'm', '缘', '深', '管', '分', '1', '直', '下', '周', '喉', 'c', '床', '动', '疗', '者', '口', '性', '面', '低', '头', '约', '域'}\n"
     ]
    }
   ],
   "source": [
    "print(len(wordSets), wordSets)"
   ]
  },
  {
   "cell_type": "code",
   "execution_count": 36,
   "id": "61ccf385-36f1-4465-93a5-1b6ddfc7458a",
   "metadata": {},
   "outputs": [
    {
     "name": "stdout",
     "output_type": "stream",
     "text": [
      "['-', '1', 'I', 'V', 'b', 'c', 'm', 'Ⅳ', 'Ⅴ', '、', '上', '下', '与', '中', '之', '于', '交', '位', '低', '体', '余', '侧', '偏', '内', '分', '切', '前', '动', '包', '区', '原', '叉', '及', '双', '口', '右', '叶', '后', '周', '喉', '囊', '回', '围', '域', '声', '处', '外', '大', '央', '头', '夹', '实', '尚', '层', '峡', '左', '干', '床', '性', '总', '方', '旁', '极', '根', '正', '残', '段', '气', '治', '浅', '消', '深', '状', '甲', '界', '疗', '皮', '直', '相', '稍', '窝', '管', '紧', '约', '级', '结', '缘', '者', '背', '胸', '脉', '腹', '腺', '膜', '臂', '至', '节', '融', '血', '表', '被', '角', '质', '较', '边', '近', '邻', '部', '锁', '锥', '间', '静', '靠', '面', '颈', '颌', '食', '骨', '（', '）', '，', '～'] -1IVbcmⅣⅤ、上下与中之于交位低体余侧偏内分切前动包区原叉及双口右叶后周喉囊回围域声处外大央头夹实尚层峡左干床性总方旁极根正残段气治浅消深状甲界疗皮直相稍窝管紧约级结缘者背胸脉腹腺膜臂至节融血表被角质较边近邻部锁锥间静靠面颈颌食骨（），～\n"
     ]
    }
   ],
   "source": [
    "wordslist=list(wordSets)\n",
    "\n",
    "wordslist.sort()\n",
    "print(wordslist, ''.join(wordslist))"
   ]
  },
  {
   "cell_type": "code",
   "execution_count": 39,
   "id": "dc20ed8d-fd43-425a-b668-8c6a32ba79f3",
   "metadata": {},
   "outputs": [],
   "source": [
    "notPositionWords='-1IVbcmⅣⅤ、（），～甲状腺'"
   ]
  },
  {
   "cell_type": "code",
   "execution_count": null,
   "id": "e994bd51-a3ca-4533-8393-00c6f1dec89e",
   "metadata": {},
   "outputs": [],
   "source": []
  }
 ],
 "metadata": {
  "kernelspec": {
   "display_name": "Python 3 (ipykernel)",
   "language": "python",
   "name": "python3"
  },
  "language_info": {
   "codemirror_mode": {
    "name": "ipython",
    "version": 3
   },
   "file_extension": ".py",
   "mimetype": "text/x-python",
   "name": "python",
   "nbconvert_exporter": "python",
   "pygments_lexer": "ipython3",
   "version": "3.10.12"
  }
 },
 "nbformat": 4,
 "nbformat_minor": 5
}
