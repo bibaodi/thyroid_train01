{
 "cells": [
  {
   "cell_type": "markdown",
   "id": "17d87d92-7c7d-49b9-9925-c1d02dbc160d",
   "metadata": {},
   "source": [
    "# 250423-statsEchoCompostions\n",
    "verify the statis data which in <task_with_pathology_0422_46917.xlsx>\n",
    "eton@250423 init"
   ]
  },
  {
   "cell_type": "code",
   "execution_count": 5,
   "id": "3e177f63-c80d-43f4-86e7-590a178ad69f",
   "metadata": {},
   "outputs": [],
   "source": [
    "import pathlib, os\n",
    "import pandas as pd\n",
    "\n",
    "spreadsheetName='task_with_pathology_0422_46917.xlsx'\n",
    "spreadsheetFolder=r'/mnt/g/241129-xin1zhipu-thyroid-datas-Continue4partitionNotEnough/'\n",
    "exfile=spreadsheetFolder+spreadsheetName\n",
    "sheetName='sop_0422'"
   ]
  },
  {
   "cell_type": "code",
   "execution_count": 2,
   "id": "f32dce0e-710a-452e-9b83-0a6412a29229",
   "metadata": {},
   "outputs": [
    {
     "name": "stdout",
     "output_type": "stream",
     "text": [
      "shape: (46917, 1) Index(['composition'], dtype='object')\n"
     ]
    }
   ],
   "source": [
    "\n",
    "\n",
    "cols=['composition']\n",
    "df = pd.read_excel(exfile, sheet_name=sheetName, usecols=cols)\n",
    "print(\"shape:\", df.shape, df.columns)"
   ]
  },
  {
   "cell_type": "code",
   "execution_count": 3,
   "id": "0502f2f0-1b56-48cd-be5b-1655c4f464ea",
   "metadata": {},
   "outputs": [
    {
     "name": "stdout",
     "output_type": "stream",
     "text": [
      "type=<class 'numpy.ndarray'>, len=10\n",
      "0 实性\n",
      "1 nan\n",
      "2 囊实性\n",
      "3 囊性\n",
      "4 囊实性(以实性为主)\n",
      "5 海绵样\n",
      "6 混合回声\n",
      "7 不均质\n",
      "8 囊性为主\n",
      "9 囊实性(以囊性为主)\n"
     ]
    }
   ],
   "source": [
    "seriesA=df[cols[0]]\n",
    "uniqueKeys = seriesA.unique()\n",
    "nofUnique = uniqueKeys.size\n",
    "print(f\"type={type(uniqueKeys)}, len={uniqueKeys.size}\")\n",
    "for ik in range(nofUnique):\n",
    "    print(ik, uniqueKeys[ik])\n",
    "    if ik >50:\n",
    "        break;"
   ]
  },
  {
   "cell_type": "code",
   "execution_count": 4,
   "id": "bf4b59ac-23ee-432c-86ba-b8519302108d",
   "metadata": {},
   "outputs": [
    {
     "ename": "TypeError",
     "evalue": "Series.count() takes 1 positional argument but 2 were given",
     "output_type": "error",
     "traceback": [
      "\u001b[0;31m---------------------------------------------------------------------------\u001b[0m",
      "\u001b[0;31mTypeError\u001b[0m                                 Traceback (most recent call last)",
      "Cell \u001b[0;32mIn[4], line 2\u001b[0m\n\u001b[1;32m      1\u001b[0m \u001b[38;5;28;01mfor\u001b[39;00m ik \u001b[38;5;129;01min\u001b[39;00m uniqueKeys:\n\u001b[0;32m----> 2\u001b[0m     \u001b[38;5;28mprint\u001b[39m(\u001b[43mseriesA\u001b[49m\u001b[38;5;241;43m.\u001b[39;49m\u001b[43mcount\u001b[49m\u001b[43m(\u001b[49m\u001b[43mik\u001b[49m\u001b[43m)\u001b[49m)\n",
      "\u001b[0;31mTypeError\u001b[0m: Series.count() takes 1 positional argument but 2 were given"
     ]
    }
   ],
   "source": [
    "for ik in uniqueKeys:\n",
    "    print(seriesA.count(ik))"
   ]
  },
  {
   "cell_type": "code",
   "execution_count": 5,
   "id": "cdade260-7c93-4e5b-9942-5981e4836f18",
   "metadata": {},
   "outputs": [
    {
     "data": {
      "text/plain": [
       "composition\n",
       "实性            31816\n",
       "囊实性            4354\n",
       "囊性              228\n",
       "囊性为主             12\n",
       "海绵样               8\n",
       "不均质               8\n",
       "囊实性(以实性为主)        4\n",
       "混合回声              2\n",
       "囊实性(以囊性为主)        2\n",
       "Name: count, dtype: int64"
      ]
     },
     "execution_count": 5,
     "metadata": {},
     "output_type": "execute_result"
    }
   ],
   "source": [
    "seriesA.value_counts()"
   ]
  },
  {
   "cell_type": "code",
   "execution_count": 7,
   "id": "94fd6de9-9393-435a-94ec-fa36f30fd867",
   "metadata": {},
   "outputs": [
    {
     "data": {
      "text/plain": [
       "composition\n",
       "实性            31816\n",
       "囊实性            4354\n",
       "囊性              228\n",
       "囊性为主             12\n",
       "海绵样               8\n",
       "不均质               8\n",
       "囊实性(以实性为主)        4\n",
       "混合回声              2\n",
       "囊实性(以囊性为主)        2\n",
       "Name: count, dtype: int64"
      ]
     },
     "execution_count": 7,
     "metadata": {},
     "output_type": "execute_result"
    }
   ],
   "source": [
    "seriesA2 = seriesA.dropna()\n",
    "seriesA2.value_counts()"
   ]
  },
  {
   "cell_type": "code",
   "execution_count": 9,
   "id": "f92e29fc-41ca-4092-9345-8720c2eea1ab",
   "metadata": {},
   "outputs": [
    {
     "name": "stdout",
     "output_type": "stream",
     "text": [
      "0     实性\n",
      "1     实性\n",
      "2     实性\n",
      "3     实性\n",
      "4     实性\n",
      "5     实性\n",
      "6     实性\n",
      "7     实性\n",
      "8     实性\n",
      "9     实性\n",
      "15    实性\n",
      "16    实性\n",
      "17    实性\n",
      "Name: composition, dtype: object\n"
     ]
    }
   ],
   "source": [
    "print(seriesA2[0:13])"
   ]
  },
  {
   "cell_type": "code",
   "execution_count": 10,
   "id": "eb6806b2-2d74-45dc-9855-4aa995bf4fd4",
   "metadata": {},
   "outputs": [
    {
     "name": "stdout",
     "output_type": "stream",
     "text": [
      "0      实性\n",
      "1      实性\n",
      "2      实性\n",
      "3      实性\n",
      "4      实性\n",
      "5      实性\n",
      "6      实性\n",
      "7      实性\n",
      "8      实性\n",
      "9      实性\n",
      "10    NaN\n",
      "11    NaN\n",
      "12    NaN\n",
      "Name: composition, dtype: object\n"
     ]
    }
   ],
   "source": [
    "print(seriesA[0:13])"
   ]
  },
  {
   "cell_type": "code",
   "execution_count": 11,
   "id": "f6100975-8cc5-4560-8733-ae3e9c2d63de",
   "metadata": {},
   "outputs": [
    {
     "data": {
      "text/plain": [
       "composition\n",
       "实性            31816\n",
       "NAN           10483\n",
       "囊实性            4354\n",
       "囊性              228\n",
       "囊性为主             12\n",
       "海绵样               8\n",
       "不均质               8\n",
       "囊实性(以实性为主)        4\n",
       "混合回声              2\n",
       "囊实性(以囊性为主)        2\n",
       "Name: count, dtype: int64"
      ]
     },
     "execution_count": 11,
     "metadata": {},
     "output_type": "execute_result"
    }
   ],
   "source": [
    "seriesAReplaceNA = seriesA.fillna('NAN')\n",
    "seriesAReplaceNA.value_counts()"
   ]
  },
  {
   "cell_type": "code",
   "execution_count": 13,
   "id": "fa3109f5-1b45-4f14-9d99-4be7b9cca130",
   "metadata": {},
   "outputs": [
    {
     "name": "stdout",
     "output_type": "stream",
     "text": [
      "shape: (46917, 1) Index(['std_composition'], dtype='object')\n"
     ]
    },
    {
     "data": {
      "text/plain": [
       "std_composition\n",
       "实性     31816\n",
       "囊实性     4360\n",
       "囊性       240\n",
       "海绵样        8\n",
       "Name: count, dtype: int64"
      ]
     },
     "execution_count": 13,
     "metadata": {},
     "output_type": "execute_result"
    }
   ],
   "source": [
    "cols=['std_composition']\n",
    "df_std_comp = pd.read_excel(exfile, sheet_name=sheetName, usecols=cols)\n",
    "print(\"shape:\", df_std_comp.shape, df_std_comp.columns)\n",
    "series_stdComp=df_std_comp[cols[0]]\n",
    "series_stdComp.value_counts()"
   ]
  },
  {
   "cell_type": "code",
   "execution_count": 2,
   "id": "5c9de71f-2882-4f9d-ac20-b497ebf85983",
   "metadata": {},
   "outputs": [
    {
     "name": "stdout",
     "output_type": "stream",
     "text": [
      "shape: (46917, 1) Index(['std_margin'], dtype='object')\n"
     ]
    }
   ],
   "source": [
    "exfile=spreadsheetFolder+spreadsheetName\n",
    "sheetName='sop_0422'\n",
    "\n",
    "cols=['std_margin']\n",
    "df_margin = pd.read_excel(exfile, sheet_name=sheetName, usecols=cols)\n",
    "print(\"shape:\", df_margin.shape, df_margin.columns)\n"
   ]
  },
  {
   "cell_type": "code",
   "execution_count": 3,
   "id": "2868bfb6-56a3-4ee1-ba84-f64f50ab53f0",
   "metadata": {},
   "outputs": [
    {
     "data": {
      "text/plain": [
       "std_margin\n",
       "不清     26906\n",
       "光滑     19628\n",
       "不规则      170\n",
       "外侵        75\n",
       "Name: count, dtype: int64"
      ]
     },
     "execution_count": 3,
     "metadata": {},
     "output_type": "execute_result"
    }
   ],
   "source": [
    "series_stdMargin = df_margin[cols[0]]\n",
    "series_stdMargin.value_counts()"
   ]
  },
  {
   "cell_type": "code",
   "execution_count": 5,
   "id": "44a11466-cb18-4b9a-ad24-7061e17d1d29",
   "metadata": {},
   "outputs": [
    {
     "data": {
      "text/plain": [
       "std_foci\n",
       "点状强回声         23605\n",
       "粗大钙化           1078\n",
       "边缘钙化            364\n",
       "粗大钙化,点状强回声       92\n",
       "边缘钙化,点状强回声       68\n",
       "大彗星尾,点状强回声       30\n",
       "大彗星尾              8\n",
       "粗大钙化,边缘钙化         4\n",
       "Name: count, dtype: int64"
      ]
     },
     "execution_count": 5,
     "metadata": {},
     "output_type": "execute_result"
    }
   ],
   "source": [
    "cols=['std_foci']\n",
    "df_foci = pd.read_excel(exfile, sheet_name=sheetName, usecols=cols)\n",
    "series_stdfoci = df_foci[cols[0]]\n",
    "series_stdfoci.value_counts()"
   ]
  },
  {
   "cell_type": "code",
   "execution_count": 8,
   "id": "e8d8e329-da26-48eb-a29b-afac243812b9",
   "metadata": {},
   "outputs": [],
   "source": [
    "def showValueCounts(cols, sheetName, exfile):\n",
    "    df_colFiltered = pd.read_excel(exfile, sheet_name=sheetName, usecols=cols)\n",
    "    series = df_colFiltered[cols[0]]\n",
    "    valCnts = series.value_counts()\n",
    "    return valCnts\n",
    "\n",
    "vcnts = showValueCounts(['std_foci'], sheetName, exfile)"
   ]
  },
  {
   "cell_type": "code",
   "execution_count": 9,
   "id": "8b017a1b-9541-4f82-b377-c5849d4f3833",
   "metadata": {},
   "outputs": [
    {
     "name": "stdout",
     "output_type": "stream",
     "text": [
      "<class 'pandas.core.series.Series'> std_foci\n",
      "点状强回声         23605\n",
      "粗大钙化           1078\n",
      "边缘钙化            364\n",
      "粗大钙化,点状强回声       92\n",
      "边缘钙化,点状强回声       68\n",
      "大彗星尾,点状强回声       30\n",
      "大彗星尾              8\n",
      "粗大钙化,边缘钙化         4\n",
      "Name: count, dtype: int64\n"
     ]
    }
   ],
   "source": [
    "print(type(vcnts), vcnts)"
   ]
  },
  {
   "cell_type": "code",
   "execution_count": 10,
   "id": "8011734e-64bc-4285-92f1-3d95704152e7",
   "metadata": {},
   "outputs": [],
   "source": [
    "def getClsDatafraame(cols, sheetName, exfile):\n",
    "    cols_df = pd.read_excel(exfile, sheet_name=sheetName, usecols=cols)\n",
    "    return cols_df\n",
    "\n",
    "df_uidFoci = showValueCounts(['sop_uid', 'std_foci'], sheetName, exfile)\n"
   ]
  },
  {
   "cell_type": "code",
   "execution_count": 11,
   "id": "01e388f0-32ef-4924-b6ae-3c2702af73fd",
   "metadata": {},
   "outputs": [],
   "source": [
    "def getClsDataframe(cols, sheetName, exfile, index_col=None):\n",
    "    cols_df = pd.read_excel(exfile, sheet_name=sheetName, usecols=cols, index_col=index_col)\n",
    "    return cols_df\n",
    "\n",
    "df_uidFociWithIdx = getClsDataframe(['sop_uid', 'std_foci'], sheetName, exfile, 'sop_uid')"
   ]
  },
  {
   "cell_type": "code",
   "execution_count": 12,
   "id": "66bda84f-2ded-41d9-86c6-1b07548965d3",
   "metadata": {},
   "outputs": [
    {
     "data": {
      "text/plain": [
       "sop_uid\n",
       "22.0000001557882.21365.0006.08045400871    1\n",
       "02.201510191526.01.0002.1445240067         1\n",
       "02.201510191526.01.0004.1445240103         1\n",
       "02.201706121161.01.0002.1497251156         1\n",
       "02.201706121161.01.0004.1497251176         1\n",
       "Name: count, dtype: int64"
      ]
     },
     "metadata": {},
     "output_type": "display_data"
    }
   ],
   "source": [
    "display(df_uidFoci.head(5))\n",
    "#df_uidFoci.setindex()"
   ]
  },
  {
   "cell_type": "code",
   "execution_count": 18,
   "id": "edf95395-9d7a-41ba-921f-d9a0a6aa010b",
   "metadata": {},
   "outputs": [
    {
     "data": {
      "text/html": [
       "<div>\n",
       "<style scoped>\n",
       "    .dataframe tbody tr th:only-of-type {\n",
       "        vertical-align: middle;\n",
       "    }\n",
       "\n",
       "    .dataframe tbody tr th {\n",
       "        vertical-align: top;\n",
       "    }\n",
       "\n",
       "    .dataframe thead th {\n",
       "        text-align: right;\n",
       "    }\n",
       "</style>\n",
       "<table border=\"1\" class=\"dataframe\">\n",
       "  <thead>\n",
       "    <tr style=\"text-align: right;\">\n",
       "      <th></th>\n",
       "      <th>std_foci</th>\n",
       "    </tr>\n",
       "    <tr>\n",
       "      <th>sop_uid</th>\n",
       "      <th></th>\n",
       "    </tr>\n",
       "  </thead>\n",
       "  <tbody>\n",
       "    <tr>\n",
       "      <th>02.201510191526.01.0002.1445240067</th>\n",
       "      <td>点状强回声</td>\n",
       "    </tr>\n",
       "    <tr>\n",
       "      <th>02.201510191526.01.0004.1445240103</th>\n",
       "      <td>点状强回声</td>\n",
       "    </tr>\n",
       "    <tr>\n",
       "      <th>02.201706121161.01.0002.1497251156</th>\n",
       "      <td>点状强回声</td>\n",
       "    </tr>\n",
       "    <tr>\n",
       "      <th>02.201706121161.01.0004.1497251176</th>\n",
       "      <td>点状强回声</td>\n",
       "    </tr>\n",
       "    <tr>\n",
       "      <th>02.201708141553.01.0006.1502705659</th>\n",
       "      <td>点状强回声</td>\n",
       "    </tr>\n",
       "  </tbody>\n",
       "</table>\n",
       "</div>"
      ],
      "text/plain": [
       "                                   std_foci\n",
       "sop_uid                                    \n",
       "02.201510191526.01.0002.1445240067    点状强回声\n",
       "02.201510191526.01.0004.1445240103    点状强回声\n",
       "02.201706121161.01.0002.1497251156    点状强回声\n",
       "02.201706121161.01.0004.1497251176    点状强回声\n",
       "02.201708141553.01.0006.1502705659    点状强回声"
      ]
     },
     "metadata": {},
     "output_type": "display_data"
    }
   ],
   "source": [
    "display(df_uidFociWithIdx.head(5))\n"
   ]
  },
  {
   "cell_type": "code",
   "execution_count": 33,
   "id": "2c1e96c2-9ea3-403f-8f4a-5e1704b73ac1",
   "metadata": {},
   "outputs": [],
   "source": [
    "df_uidFociWithIdxFillNa = df_uidFociWithIdx.fillna('NAN')\n",
    "\n",
    "filtered_df = df_uidFociWithIdxFillNa.loc[df_uidFociWithIdxFillNa['std_foci'].str.startswith('大彗星尾') ]\n",
    "filtered_df_marginCalci = df_uidFociWithIdxFillNa.loc[df_uidFociWithIdxFillNa['std_foci'].str.startswith('边缘钙化')]"
   ]
  },
  {
   "cell_type": "code",
   "execution_count": 22,
   "id": "9c1422e3-9da7-46ca-bad1-c7f3cd41f5ff",
   "metadata": {},
   "outputs": [
    {
     "data": {
      "text/html": [
       "<div>\n",
       "<style scoped>\n",
       "    .dataframe tbody tr th:only-of-type {\n",
       "        vertical-align: middle;\n",
       "    }\n",
       "\n",
       "    .dataframe tbody tr th {\n",
       "        vertical-align: top;\n",
       "    }\n",
       "\n",
       "    .dataframe thead th {\n",
       "        text-align: right;\n",
       "    }\n",
       "</style>\n",
       "<table border=\"1\" class=\"dataframe\">\n",
       "  <thead>\n",
       "    <tr style=\"text-align: right;\">\n",
       "      <th></th>\n",
       "      <th>std_foci</th>\n",
       "    </tr>\n",
       "    <tr>\n",
       "      <th>sop_uid</th>\n",
       "      <th></th>\n",
       "    </tr>\n",
       "  </thead>\n",
       "  <tbody>\n",
       "    <tr>\n",
       "      <th>02.202111081131.01.21293.0006.14405300960</th>\n",
       "      <td>大彗星尾</td>\n",
       "    </tr>\n",
       "    <tr>\n",
       "      <th>02.202111081131.01.21293.0008.14422600617</th>\n",
       "      <td>大彗星尾</td>\n",
       "    </tr>\n",
       "    <tr>\n",
       "      <th>02.202201101359.01.20177.0001.14474100270</th>\n",
       "      <td>大彗星尾</td>\n",
       "    </tr>\n",
       "    <tr>\n",
       "      <th>02.202201101359.01.20177.0002.14480600634</th>\n",
       "      <td>大彗星尾</td>\n",
       "    </tr>\n",
       "    <tr>\n",
       "      <th>02.202203021443.01.21264.0001.14592100371</th>\n",
       "      <td>大彗星尾,点状强回声</td>\n",
       "    </tr>\n",
       "    <tr>\n",
       "      <th>02.202203021443.01.21264.0003.14595800710</th>\n",
       "      <td>大彗星尾,点状强回声</td>\n",
       "    </tr>\n",
       "    <tr>\n",
       "      <th>02.202203021916.01.20096.0004.16314900545</th>\n",
       "      <td>大彗星尾,点状强回声</td>\n",
       "    </tr>\n",
       "    <tr>\n",
       "      <th>02.202203021916.01.20096.0006.16320300502</th>\n",
       "      <td>大彗星尾,点状强回声</td>\n",
       "    </tr>\n",
       "    <tr>\n",
       "      <th>02.202210140562.02.21261.0008.09441300822</th>\n",
       "      <td>大彗星尾</td>\n",
       "    </tr>\n",
       "    <tr>\n",
       "      <th>02.202210140562.02.21261.0010.09444900377</th>\n",
       "      <td>大彗星尾</td>\n",
       "    </tr>\n",
       "    <tr>\n",
       "      <th>02.202307031065.01.20188.0003.10264100823</th>\n",
       "      <td>大彗星尾,点状强回声</td>\n",
       "    </tr>\n",
       "    <tr>\n",
       "      <th>02.202307031065.01.20188.0005.10265700429</th>\n",
       "      <td>大彗星尾,点状强回声</td>\n",
       "    </tr>\n",
       "    <tr>\n",
       "      <th>02.202308111449.01.21264.0007.15034800193</th>\n",
       "      <td>大彗星尾,点状强回声</td>\n",
       "    </tr>\n",
       "    <tr>\n",
       "      <th>02.202308111449.01.21264.0008.15040200759</th>\n",
       "      <td>大彗星尾,点状强回声</td>\n",
       "    </tr>\n",
       "    <tr>\n",
       "      <th>02.202311171638.01.20159.0006.15255900793</th>\n",
       "      <td>大彗星尾,点状强回声</td>\n",
       "    </tr>\n",
       "    <tr>\n",
       "      <th>02.202311171638.01.20159.0008.15264700487</th>\n",
       "      <td>大彗星尾,点状强回声</td>\n",
       "    </tr>\n",
       "    <tr>\n",
       "      <th>02.202312250880.01.20186.0001.11004800311</th>\n",
       "      <td>大彗星尾,点状强回声</td>\n",
       "    </tr>\n",
       "    <tr>\n",
       "      <th>02.202312250880.01.20186.0002.11010300510</th>\n",
       "      <td>大彗星尾,点状强回声</td>\n",
       "    </tr>\n",
       "    <tr>\n",
       "      <th>02.202402040107.01.21424.0021.09025400552</th>\n",
       "      <td>大彗星尾,点状强回声</td>\n",
       "    </tr>\n",
       "    <tr>\n",
       "      <th>02.202402040107.01.21424.0022.09030200866</th>\n",
       "      <td>大彗星尾,点状强回声</td>\n",
       "    </tr>\n",
       "    <tr>\n",
       "      <th>02.202403181887.01.21318.0005.14580000564</th>\n",
       "      <td>大彗星尾,点状强回声</td>\n",
       "    </tr>\n",
       "    <tr>\n",
       "      <th>02.202403181887.01.21318.0008.14590400097</th>\n",
       "      <td>大彗星尾,点状强回声</td>\n",
       "    </tr>\n",
       "    <tr>\n",
       "      <th>02.202403202104.01.21318.0005.15013900066</th>\n",
       "      <td>大彗星尾,点状强回声</td>\n",
       "    </tr>\n",
       "    <tr>\n",
       "      <th>02.202403202104.01.21318.0006.15015100179</th>\n",
       "      <td>大彗星尾,点状强回声</td>\n",
       "    </tr>\n",
       "    <tr>\n",
       "      <th>02.202403250038.01.21268.0006.07545900689</th>\n",
       "      <td>大彗星尾</td>\n",
       "    </tr>\n",
       "    <tr>\n",
       "      <th>02.202403250038.01.21268.0007.07551200883</th>\n",
       "      <td>大彗星尾</td>\n",
       "    </tr>\n",
       "    <tr>\n",
       "      <th>02.202406262096.01.21318.0003.14485300643</th>\n",
       "      <td>大彗星尾,点状强回声</td>\n",
       "    </tr>\n",
       "    <tr>\n",
       "      <th>02.202406262096.01.21318.0005.14491800342</th>\n",
       "      <td>大彗星尾,点状强回声</td>\n",
       "    </tr>\n",
       "    <tr>\n",
       "      <th>02.202408060181.02.21428.0008.08035700602</th>\n",
       "      <td>大彗星尾,点状强回声</td>\n",
       "    </tr>\n",
       "    <tr>\n",
       "      <th>02.202408060181.02.21428.0009.08040100748</th>\n",
       "      <td>大彗星尾,点状强回声</td>\n",
       "    </tr>\n",
       "    <tr>\n",
       "      <th>02.202408151615.01.21268.0006.14431300101</th>\n",
       "      <td>大彗星尾,点状强回声</td>\n",
       "    </tr>\n",
       "    <tr>\n",
       "      <th>02.202408151615.01.21268.0007.14432600277</th>\n",
       "      <td>大彗星尾,点状强回声</td>\n",
       "    </tr>\n",
       "    <tr>\n",
       "      <th>02.202408191942.01.21415.0001.14073300473</th>\n",
       "      <td>大彗星尾,点状强回声</td>\n",
       "    </tr>\n",
       "    <tr>\n",
       "      <th>02.202408191942.01.21415.0003.14075800299</th>\n",
       "      <td>大彗星尾,点状强回声</td>\n",
       "    </tr>\n",
       "    <tr>\n",
       "      <th>02.202408220292.01.21428.0005.08214800774</th>\n",
       "      <td>大彗星尾,点状强回声</td>\n",
       "    </tr>\n",
       "    <tr>\n",
       "      <th>02.202408220292.01.21428.0006.08215600825</th>\n",
       "      <td>大彗星尾,点状强回声</td>\n",
       "    </tr>\n",
       "    <tr>\n",
       "      <th>02.202410311115.01.21415.0005.09290300359</th>\n",
       "      <td>大彗星尾,点状强回声</td>\n",
       "    </tr>\n",
       "    <tr>\n",
       "      <th>02.202410311115.01.21415.0006.09291700478</th>\n",
       "      <td>大彗星尾,点状强回声</td>\n",
       "    </tr>\n",
       "  </tbody>\n",
       "</table>\n",
       "</div>"
      ],
      "text/plain": [
       "                                             std_foci\n",
       "sop_uid                                              \n",
       "02.202111081131.01.21293.0006.14405300960        大彗星尾\n",
       "02.202111081131.01.21293.0008.14422600617        大彗星尾\n",
       "02.202201101359.01.20177.0001.14474100270        大彗星尾\n",
       "02.202201101359.01.20177.0002.14480600634        大彗星尾\n",
       "02.202203021443.01.21264.0001.14592100371  大彗星尾,点状强回声\n",
       "02.202203021443.01.21264.0003.14595800710  大彗星尾,点状强回声\n",
       "02.202203021916.01.20096.0004.16314900545  大彗星尾,点状强回声\n",
       "02.202203021916.01.20096.0006.16320300502  大彗星尾,点状强回声\n",
       "02.202210140562.02.21261.0008.09441300822        大彗星尾\n",
       "02.202210140562.02.21261.0010.09444900377        大彗星尾\n",
       "02.202307031065.01.20188.0003.10264100823  大彗星尾,点状强回声\n",
       "02.202307031065.01.20188.0005.10265700429  大彗星尾,点状强回声\n",
       "02.202308111449.01.21264.0007.15034800193  大彗星尾,点状强回声\n",
       "02.202308111449.01.21264.0008.15040200759  大彗星尾,点状强回声\n",
       "02.202311171638.01.20159.0006.15255900793  大彗星尾,点状强回声\n",
       "02.202311171638.01.20159.0008.15264700487  大彗星尾,点状强回声\n",
       "02.202312250880.01.20186.0001.11004800311  大彗星尾,点状强回声\n",
       "02.202312250880.01.20186.0002.11010300510  大彗星尾,点状强回声\n",
       "02.202402040107.01.21424.0021.09025400552  大彗星尾,点状强回声\n",
       "02.202402040107.01.21424.0022.09030200866  大彗星尾,点状强回声\n",
       "02.202403181887.01.21318.0005.14580000564  大彗星尾,点状强回声\n",
       "02.202403181887.01.21318.0008.14590400097  大彗星尾,点状强回声\n",
       "02.202403202104.01.21318.0005.15013900066  大彗星尾,点状强回声\n",
       "02.202403202104.01.21318.0006.15015100179  大彗星尾,点状强回声\n",
       "02.202403250038.01.21268.0006.07545900689        大彗星尾\n",
       "02.202403250038.01.21268.0007.07551200883        大彗星尾\n",
       "02.202406262096.01.21318.0003.14485300643  大彗星尾,点状强回声\n",
       "02.202406262096.01.21318.0005.14491800342  大彗星尾,点状强回声\n",
       "02.202408060181.02.21428.0008.08035700602  大彗星尾,点状强回声\n",
       "02.202408060181.02.21428.0009.08040100748  大彗星尾,点状强回声\n",
       "02.202408151615.01.21268.0006.14431300101  大彗星尾,点状强回声\n",
       "02.202408151615.01.21268.0007.14432600277  大彗星尾,点状强回声\n",
       "02.202408191942.01.21415.0001.14073300473  大彗星尾,点状强回声\n",
       "02.202408191942.01.21415.0003.14075800299  大彗星尾,点状强回声\n",
       "02.202408220292.01.21428.0005.08214800774  大彗星尾,点状强回声\n",
       "02.202408220292.01.21428.0006.08215600825  大彗星尾,点状强回声\n",
       "02.202410311115.01.21415.0005.09290300359  大彗星尾,点状强回声\n",
       "02.202410311115.01.21415.0006.09291700478  大彗星尾,点状强回声"
      ]
     },
     "metadata": {},
     "output_type": "display_data"
    }
   ],
   "source": [
    "display(filtered_df)"
   ]
  },
  {
   "cell_type": "code",
   "execution_count": null,
   "id": "e4e30ff1-6adc-4f47-a03b-65561fe9158d",
   "metadata": {},
   "outputs": [],
   "source": [
    "## filtered_df['sop_uid'].to_list()"
   ]
  },
  {
   "cell_type": "code",
   "execution_count": 24,
   "id": "77f6226e-ecd5-4a07-b958-df0fa702a734",
   "metadata": {},
   "outputs": [
    {
     "data": {
      "text/plain": [
       "Index(['std_foci'], dtype='object')"
      ]
     },
     "execution_count": 24,
     "metadata": {},
     "output_type": "execute_result"
    }
   ],
   "source": [
    "filtered_df.columns"
   ]
  },
  {
   "cell_type": "code",
   "execution_count": 25,
   "id": "858b3dc2-f33c-4535-a9ce-37d567b78952",
   "metadata": {},
   "outputs": [
    {
     "data": {
      "text/plain": [
       "pandas.core.indexes.base.Index"
      ]
     },
     "execution_count": 25,
     "metadata": {},
     "output_type": "execute_result"
    }
   ],
   "source": [
    "type(filtered_df.index)"
   ]
  },
  {
   "cell_type": "code",
   "execution_count": 26,
   "id": "e9eab384-97f9-4c7e-bc63-effd62b94b24",
   "metadata": {},
   "outputs": [
    {
     "data": {
      "text/plain": [
       "Index(['02.202111081131.01.21293.0006.14405300960',\n",
       "       '02.202111081131.01.21293.0008.14422600617',\n",
       "       '02.202201101359.01.20177.0001.14474100270',\n",
       "       '02.202201101359.01.20177.0002.14480600634',\n",
       "       '02.202203021443.01.21264.0001.14592100371',\n",
       "       '02.202203021443.01.21264.0003.14595800710',\n",
       "       '02.202203021916.01.20096.0004.16314900545',\n",
       "       '02.202203021916.01.20096.0006.16320300502',\n",
       "       '02.202210140562.02.21261.0008.09441300822',\n",
       "       '02.202210140562.02.21261.0010.09444900377',\n",
       "       '02.202307031065.01.20188.0003.10264100823',\n",
       "       '02.202307031065.01.20188.0005.10265700429',\n",
       "       '02.202308111449.01.21264.0007.15034800193',\n",
       "       '02.202308111449.01.21264.0008.15040200759',\n",
       "       '02.202311171638.01.20159.0006.15255900793',\n",
       "       '02.202311171638.01.20159.0008.15264700487',\n",
       "       '02.202312250880.01.20186.0001.11004800311',\n",
       "       '02.202312250880.01.20186.0002.11010300510',\n",
       "       '02.202402040107.01.21424.0021.09025400552',\n",
       "       '02.202402040107.01.21424.0022.09030200866',\n",
       "       '02.202403181887.01.21318.0005.14580000564',\n",
       "       '02.202403181887.01.21318.0008.14590400097',\n",
       "       '02.202403202104.01.21318.0005.15013900066',\n",
       "       '02.202403202104.01.21318.0006.15015100179',\n",
       "       '02.202403250038.01.21268.0006.07545900689',\n",
       "       '02.202403250038.01.21268.0007.07551200883',\n",
       "       '02.202406262096.01.21318.0003.14485300643',\n",
       "       '02.202406262096.01.21318.0005.14491800342',\n",
       "       '02.202408060181.02.21428.0008.08035700602',\n",
       "       '02.202408060181.02.21428.0009.08040100748',\n",
       "       '02.202408151615.01.21268.0006.14431300101',\n",
       "       '02.202408151615.01.21268.0007.14432600277',\n",
       "       '02.202408191942.01.21415.0001.14073300473',\n",
       "       '02.202408191942.01.21415.0003.14075800299',\n",
       "       '02.202408220292.01.21428.0005.08214800774',\n",
       "       '02.202408220292.01.21428.0006.08215600825',\n",
       "       '02.202410311115.01.21415.0005.09290300359',\n",
       "       '02.202410311115.01.21415.0006.09291700478'],\n",
       "      dtype='object', name='sop_uid')"
      ]
     },
     "execution_count": 26,
     "metadata": {},
     "output_type": "execute_result"
    }
   ],
   "source": [
    "filtered_df.index"
   ]
  },
  {
   "cell_type": "code",
   "execution_count": 31,
   "id": "f4e239fd-bfd8-441c-bef1-bb061356b318",
   "metadata": {},
   "outputs": [
    {
     "name": "stdout",
     "output_type": "stream",
     "text": [
      "02.202111081131.\n",
      "02.202111081131.\n",
      "02.202201101359.\n",
      "02.202201101359.\n",
      "02.202203021443.\n",
      "02.202203021443.\n",
      "02.202203021916.\n",
      "02.202203021916.\n",
      "02.202210140562.\n",
      "02.202210140562.\n",
      "02.202307031065.\n",
      "02.202307031065.\n",
      "02.202308111449.\n",
      "02.202308111449.\n",
      "02.202311171638.\n",
      "02.202311171638.\n",
      "02.202312250880.\n",
      "02.202312250880.\n",
      "02.202402040107.\n",
      "02.202402040107.\n",
      "02.202403181887.\n",
      "02.202403181887.\n",
      "02.202403202104.\n",
      "02.202403202104.\n",
      "02.202403250038.\n",
      "02.202403250038.\n",
      "02.202406262096.\n",
      "02.202406262096.\n",
      "02.202408060181.\n",
      "02.202408060181.\n",
      "02.202408151615.\n",
      "02.202408151615.\n",
      "02.202408191942.\n",
      "02.202408191942.\n",
      "02.202408220292.\n",
      "02.202408220292.\n",
      "02.202410311115.\n",
      "02.202410311115.\n"
     ]
    }
   ],
   "source": [
    "idxlist = filtered_df.index.to_list()\n",
    "for iidx in idxlist:\n",
    "    print(iidx[0:16])"
   ]
  },
  {
   "cell_type": "code",
   "execution_count": 42,
   "id": "fd3b1d82-df4b-4d3a-90f2-e88f683d9bc8",
   "metadata": {},
   "outputs": [],
   "source": [
    "idxlist = filtered_df_marginCalci.index.to_list()\n",
    "\n",
    "with open(\"/tmp/marginCalci.list\", 'w', newline='\\n') as fp:\n",
    "    fp.writelines('\\n'.join(idxlist))\n",
    "    #for iidx in idxlist:\n",
    "    #    fp.write(iidx)"
   ]
  },
  {
   "cell_type": "code",
   "execution_count": 40,
   "id": "0cccacf9-5b10-42c9-b359-48340b2fde66",
   "metadata": {},
   "outputs": [
    {
     "name": "stdout",
     "output_type": "stream",
     "text": [
      "Help on TextIOWrapper object:\n",
      "\n",
      "class TextIOWrapper(_TextIOBase)\n",
      " |  TextIOWrapper(buffer, encoding=None, errors=None, newline=None, line_buffering=False, write_through=False)\n",
      " |  \n",
      " |  Character and line based layer over a BufferedIOBase object, buffer.\n",
      " |  \n",
      " |  encoding gives the name of the encoding that the stream will be\n",
      " |  decoded or encoded with. It defaults to locale.getpreferredencoding(False).\n",
      " |  \n",
      " |  errors determines the strictness of encoding and decoding (see\n",
      " |  help(codecs.Codec) or the documentation for codecs.register) and\n",
      " |  defaults to \"strict\".\n",
      " |  \n",
      " |  newline controls how line endings are handled. It can be None, '',\n",
      " |  '\\n', '\\r', and '\\r\\n'.  It works as follows:\n",
      " |  \n",
      " |  * On input, if newline is None, universal newlines mode is\n",
      " |    enabled. Lines in the input can end in '\\n', '\\r', or '\\r\\n', and\n",
      " |    these are translated into '\\n' before being returned to the\n",
      " |    caller. If it is '', universal newline mode is enabled, but line\n",
      " |    endings are returned to the caller untranslated. If it has any of\n",
      " |    the other legal values, input lines are only terminated by the given\n",
      " |    string, and the line ending is returned to the caller untranslated.\n",
      " |  \n",
      " |  * On output, if newline is None, any '\\n' characters written are\n",
      " |    translated to the system default line separator, os.linesep. If\n",
      " |    newline is '' or '\\n', no translation takes place. If newline is any\n",
      " |    of the other legal values, any '\\n' characters written are translated\n",
      " |    to the given string.\n",
      " |  \n",
      " |  If line_buffering is True, a call to flush is implied when a call to\n",
      " |  write contains a newline character.\n",
      " |  \n",
      " |  Method resolution order:\n",
      " |      TextIOWrapper\n",
      " |      _TextIOBase\n",
      " |      _IOBase\n",
      " |      builtins.object\n",
      " |  \n",
      " |  Methods defined here:\n",
      " |  \n",
      " |  __init__(self, /, *args, **kwargs)\n",
      " |      Initialize self.  See help(type(self)) for accurate signature.\n",
      " |  \n",
      " |  __next__(self, /)\n",
      " |      Implement next(self).\n",
      " |  \n",
      " |  __repr__(self, /)\n",
      " |      Return repr(self).\n",
      " |  \n",
      " |  close(self, /)\n",
      " |      Flush and close the IO object.\n",
      " |      \n",
      " |      This method has no effect if the file is already closed.\n",
      " |  \n",
      " |  detach(self, /)\n",
      " |      Separate the underlying buffer from the TextIOBase and return it.\n",
      " |      \n",
      " |      After the underlying buffer has been detached, the TextIO is in an\n",
      " |      unusable state.\n",
      " |  \n",
      " |  fileno(self, /)\n",
      " |      Returns underlying file descriptor if one exists.\n",
      " |      \n",
      " |      OSError is raised if the IO object does not use a file descriptor.\n",
      " |  \n",
      " |  flush(self, /)\n",
      " |      Flush write buffers, if applicable.\n",
      " |      \n",
      " |      This is not implemented for read-only and non-blocking streams.\n",
      " |  \n",
      " |  isatty(self, /)\n",
      " |      Return whether this is an 'interactive' stream.\n",
      " |      \n",
      " |      Return False if it can't be determined.\n",
      " |  \n",
      " |  read(self, size=-1, /)\n",
      " |      Read at most n characters from stream.\n",
      " |      \n",
      " |      Read from underlying buffer until we have n characters or we hit EOF.\n",
      " |      If n is negative or omitted, read until EOF.\n",
      " |  \n",
      " |  readable(self, /)\n",
      " |      Return whether object was opened for reading.\n",
      " |      \n",
      " |      If False, read() will raise OSError.\n",
      " |  \n",
      " |  readline(self, size=-1, /)\n",
      " |      Read until newline or EOF.\n",
      " |      \n",
      " |      Returns an empty string if EOF is hit immediately.\n",
      " |  \n",
      " |  reconfigure(self, /, *, encoding=None, errors=None, newline=None, line_buffering=None, write_through=None)\n",
      " |      Reconfigure the text stream with new parameters.\n",
      " |      \n",
      " |      This also does an implicit stream flush.\n",
      " |  \n",
      " |  seek(self, cookie, whence=0, /)\n",
      " |      Change stream position.\n",
      " |      \n",
      " |      Change the stream position to the given byte offset. The offset is\n",
      " |      interpreted relative to the position indicated by whence.  Values\n",
      " |      for whence are:\n",
      " |      \n",
      " |      * 0 -- start of stream (the default); offset should be zero or positive\n",
      " |      * 1 -- current stream position; offset may be negative\n",
      " |      * 2 -- end of stream; offset is usually negative\n",
      " |      \n",
      " |      Return the new absolute position.\n",
      " |  \n",
      " |  seekable(self, /)\n",
      " |      Return whether object supports random access.\n",
      " |      \n",
      " |      If False, seek(), tell() and truncate() will raise OSError.\n",
      " |      This method may need to do a test seek().\n",
      " |  \n",
      " |  tell(self, /)\n",
      " |      Return current stream position.\n",
      " |  \n",
      " |  truncate(self, pos=None, /)\n",
      " |      Truncate file to size bytes.\n",
      " |      \n",
      " |      File pointer is left unchanged.  Size defaults to the current IO\n",
      " |      position as reported by tell().  Returns the new size.\n",
      " |  \n",
      " |  writable(self, /)\n",
      " |      Return whether object was opened for writing.\n",
      " |      \n",
      " |      If False, write() will raise OSError.\n",
      " |  \n",
      " |  write(self, text, /)\n",
      " |      Write string to stream.\n",
      " |      Returns the number of characters written (which is always equal to\n",
      " |      the length of the string).\n",
      " |  \n",
      " |  ----------------------------------------------------------------------\n",
      " |  Static methods defined here:\n",
      " |  \n",
      " |  __new__(*args, **kwargs) from builtins.type\n",
      " |      Create and return a new object.  See help(type) for accurate signature.\n",
      " |  \n",
      " |  ----------------------------------------------------------------------\n",
      " |  Data descriptors defined here:\n",
      " |  \n",
      " |  buffer\n",
      " |  \n",
      " |  closed\n",
      " |  \n",
      " |  encoding\n",
      " |      Encoding of the text stream.\n",
      " |      \n",
      " |      Subclasses should override.\n",
      " |  \n",
      " |  errors\n",
      " |      The error setting of the decoder or encoder.\n",
      " |      \n",
      " |      Subclasses should override.\n",
      " |  \n",
      " |  line_buffering\n",
      " |  \n",
      " |  name\n",
      " |  \n",
      " |  newlines\n",
      " |      Line endings translated so far.\n",
      " |      \n",
      " |      Only line endings translated during reading are considered.\n",
      " |      \n",
      " |      Subclasses should override.\n",
      " |  \n",
      " |  write_through\n",
      " |  \n",
      " |  ----------------------------------------------------------------------\n",
      " |  Methods inherited from _IOBase:\n",
      " |  \n",
      " |  __del__(...)\n",
      " |  \n",
      " |  __enter__(...)\n",
      " |  \n",
      " |  __exit__(...)\n",
      " |  \n",
      " |  __iter__(self, /)\n",
      " |      Implement iter(self).\n",
      " |  \n",
      " |  readlines(self, hint=-1, /)\n",
      " |      Return a list of lines from the stream.\n",
      " |      \n",
      " |      hint can be specified to control the number of lines read: no more\n",
      " |      lines will be read if the total size (in bytes/characters) of all\n",
      " |      lines so far exceeds hint.\n",
      " |  \n",
      " |  writelines(self, lines, /)\n",
      " |      Write a list of lines to stream.\n",
      " |      \n",
      " |      Line separators are not added, so it is usual for each of the\n",
      " |      lines provided to have a line separator at the end.\n",
      " |  \n",
      " |  ----------------------------------------------------------------------\n",
      " |  Data descriptors inherited from _IOBase:\n",
      " |  \n",
      " |  __dict__\n",
      "\n"
     ]
    }
   ],
   "source": [
    "fp = open(\"/tmp/x\", 'w', newline='\\n')\n",
    "help(fp)"
   ]
  },
  {
   "cell_type": "code",
   "execution_count": null,
   "id": "76ab0e00-45f4-4b2d-89f9-9a07438e3bc9",
   "metadata": {},
   "outputs": [],
   "source": []
  }
 ],
 "metadata": {
  "kernelspec": {
   "display_name": "Python 3 (ipykernel)",
   "language": "python",
   "name": "python3"
  },
  "language_info": {
   "codemirror_mode": {
    "name": "ipython",
    "version": 3
   },
   "file_extension": ".py",
   "mimetype": "text/x-python",
   "name": "python",
   "nbconvert_exporter": "python",
   "pygments_lexer": "ipython3",
   "version": "3.10.12"
  }
 },
 "nbformat": 4,
 "nbformat_minor": 5
}
