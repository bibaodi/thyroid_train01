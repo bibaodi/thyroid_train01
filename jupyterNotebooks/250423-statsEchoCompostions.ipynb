{
 "cells": [
  {
   "cell_type": "markdown",
   "id": "17d87d92-7c7d-49b9-9925-c1d02dbc160d",
   "metadata": {},
   "source": [
    "# 250423-statsEchoCompostions\n",
    "verify the statis data which in <task_with_pathology_0422_46917.xlsx>\n",
    "eton@250423 init"
   ]
  },
  {
   "cell_type": "code",
   "execution_count": 1,
   "id": "3e177f63-c80d-43f4-86e7-590a178ad69f",
   "metadata": {},
   "outputs": [],
   "source": [
    "import pathlib, os\n",
    "import pandas as pd\n",
    "\n",
    "spreadsheetName='task_with_pathology_0422_46917.xlsx'\n",
    "spreadsheetFolder=r'/mnt/g/241129-xin1zhipu-thyroid-datas-Continue4partitionNotEnough/'\n"
   ]
  },
  {
   "cell_type": "code",
   "execution_count": 2,
   "id": "f32dce0e-710a-452e-9b83-0a6412a29229",
   "metadata": {},
   "outputs": [
    {
     "name": "stdout",
     "output_type": "stream",
     "text": [
      "shape: (46917, 1) Index(['composition'], dtype='object')\n"
     ]
    }
   ],
   "source": [
    "exfile=spreadsheetFolder+spreadsheetName\n",
    "sheetName='sop_0422'\n",
    "\n",
    "cols=['composition']\n",
    "df = pd.read_excel(exfile, sheet_name=sheetName, usecols=cols)\n",
    "print(\"shape:\", df.shape, df.columns)"
   ]
  },
  {
   "cell_type": "code",
   "execution_count": 3,
   "id": "0502f2f0-1b56-48cd-be5b-1655c4f464ea",
   "metadata": {},
   "outputs": [
    {
     "name": "stdout",
     "output_type": "stream",
     "text": [
      "type=<class 'numpy.ndarray'>, len=10\n",
      "0 实性\n",
      "1 nan\n",
      "2 囊实性\n",
      "3 囊性\n",
      "4 囊实性(以实性为主)\n",
      "5 海绵样\n",
      "6 混合回声\n",
      "7 不均质\n",
      "8 囊性为主\n",
      "9 囊实性(以囊性为主)\n"
     ]
    }
   ],
   "source": [
    "seriesA=df[cols[0]]\n",
    "uniqueKeys = seriesA.unique()\n",
    "nofUnique = uniqueKeys.size\n",
    "print(f\"type={type(uniqueKeys)}, len={uniqueKeys.size}\")\n",
    "for ik in range(nofUnique):\n",
    "    print(ik, uniqueKeys[ik])\n",
    "    if ik >50:\n",
    "        break;"
   ]
  },
  {
   "cell_type": "code",
   "execution_count": 4,
   "id": "bf4b59ac-23ee-432c-86ba-b8519302108d",
   "metadata": {},
   "outputs": [
    {
     "ename": "TypeError",
     "evalue": "Series.count() takes 1 positional argument but 2 were given",
     "output_type": "error",
     "traceback": [
      "\u001b[0;31m---------------------------------------------------------------------------\u001b[0m",
      "\u001b[0;31mTypeError\u001b[0m                                 Traceback (most recent call last)",
      "Cell \u001b[0;32mIn[4], line 2\u001b[0m\n\u001b[1;32m      1\u001b[0m \u001b[38;5;28;01mfor\u001b[39;00m ik \u001b[38;5;129;01min\u001b[39;00m uniqueKeys:\n\u001b[0;32m----> 2\u001b[0m     \u001b[38;5;28mprint\u001b[39m(\u001b[43mseriesA\u001b[49m\u001b[38;5;241;43m.\u001b[39;49m\u001b[43mcount\u001b[49m\u001b[43m(\u001b[49m\u001b[43mik\u001b[49m\u001b[43m)\u001b[49m)\n",
      "\u001b[0;31mTypeError\u001b[0m: Series.count() takes 1 positional argument but 2 were given"
     ]
    }
   ],
   "source": [
    "for ik in uniqueKeys:\n",
    "    print(seriesA.count(ik))"
   ]
  },
  {
   "cell_type": "code",
   "execution_count": 5,
   "id": "cdade260-7c93-4e5b-9942-5981e4836f18",
   "metadata": {},
   "outputs": [
    {
     "data": {
      "text/plain": [
       "composition\n",
       "实性            31816\n",
       "囊实性            4354\n",
       "囊性              228\n",
       "囊性为主             12\n",
       "海绵样               8\n",
       "不均质               8\n",
       "囊实性(以实性为主)        4\n",
       "混合回声              2\n",
       "囊实性(以囊性为主)        2\n",
       "Name: count, dtype: int64"
      ]
     },
     "execution_count": 5,
     "metadata": {},
     "output_type": "execute_result"
    }
   ],
   "source": [
    "seriesA.value_counts()"
   ]
  },
  {
   "cell_type": "code",
   "execution_count": 7,
   "id": "94fd6de9-9393-435a-94ec-fa36f30fd867",
   "metadata": {},
   "outputs": [
    {
     "data": {
      "text/plain": [
       "composition\n",
       "实性            31816\n",
       "囊实性            4354\n",
       "囊性              228\n",
       "囊性为主             12\n",
       "海绵样               8\n",
       "不均质               8\n",
       "囊实性(以实性为主)        4\n",
       "混合回声              2\n",
       "囊实性(以囊性为主)        2\n",
       "Name: count, dtype: int64"
      ]
     },
     "execution_count": 7,
     "metadata": {},
     "output_type": "execute_result"
    }
   ],
   "source": [
    "seriesA2 = seriesA.dropna()\n",
    "seriesA2.value_counts()"
   ]
  },
  {
   "cell_type": "code",
   "execution_count": 9,
   "id": "f92e29fc-41ca-4092-9345-8720c2eea1ab",
   "metadata": {},
   "outputs": [
    {
     "name": "stdout",
     "output_type": "stream",
     "text": [
      "0     实性\n",
      "1     实性\n",
      "2     实性\n",
      "3     实性\n",
      "4     实性\n",
      "5     实性\n",
      "6     实性\n",
      "7     实性\n",
      "8     实性\n",
      "9     实性\n",
      "15    实性\n",
      "16    实性\n",
      "17    实性\n",
      "Name: composition, dtype: object\n"
     ]
    }
   ],
   "source": [
    "print(seriesA2[0:13])"
   ]
  },
  {
   "cell_type": "code",
   "execution_count": 10,
   "id": "eb6806b2-2d74-45dc-9855-4aa995bf4fd4",
   "metadata": {},
   "outputs": [
    {
     "name": "stdout",
     "output_type": "stream",
     "text": [
      "0      实性\n",
      "1      实性\n",
      "2      实性\n",
      "3      实性\n",
      "4      实性\n",
      "5      实性\n",
      "6      实性\n",
      "7      实性\n",
      "8      实性\n",
      "9      实性\n",
      "10    NaN\n",
      "11    NaN\n",
      "12    NaN\n",
      "Name: composition, dtype: object\n"
     ]
    }
   ],
   "source": [
    "print(seriesA[0:13])"
   ]
  },
  {
   "cell_type": "code",
   "execution_count": 11,
   "id": "f6100975-8cc5-4560-8733-ae3e9c2d63de",
   "metadata": {},
   "outputs": [
    {
     "data": {
      "text/plain": [
       "composition\n",
       "实性            31816\n",
       "NAN           10483\n",
       "囊实性            4354\n",
       "囊性              228\n",
       "囊性为主             12\n",
       "海绵样               8\n",
       "不均质               8\n",
       "囊实性(以实性为主)        4\n",
       "混合回声              2\n",
       "囊实性(以囊性为主)        2\n",
       "Name: count, dtype: int64"
      ]
     },
     "execution_count": 11,
     "metadata": {},
     "output_type": "execute_result"
    }
   ],
   "source": [
    "seriesAReplaceNA = seriesA.fillna('NAN')\n",
    "seriesAReplaceNA.value_counts()"
   ]
  },
  {
   "cell_type": "code",
   "execution_count": 13,
   "id": "fa3109f5-1b45-4f14-9d99-4be7b9cca130",
   "metadata": {},
   "outputs": [
    {
     "name": "stdout",
     "output_type": "stream",
     "text": [
      "shape: (46917, 1) Index(['std_composition'], dtype='object')\n"
     ]
    },
    {
     "data": {
      "text/plain": [
       "std_composition\n",
       "实性     31816\n",
       "囊实性     4360\n",
       "囊性       240\n",
       "海绵样        8\n",
       "Name: count, dtype: int64"
      ]
     },
     "execution_count": 13,
     "metadata": {},
     "output_type": "execute_result"
    }
   ],
   "source": [
    "cols=['std_composition']\n",
    "df_std_comp = pd.read_excel(exfile, sheet_name=sheetName, usecols=cols)\n",
    "print(\"shape:\", df_std_comp.shape, df_std_comp.columns)\n",
    "series_stdComp=df_std_comp[cols[0]]\n",
    "series_stdComp.value_counts()"
   ]
  },
  {
   "cell_type": "code",
   "execution_count": 2,
   "id": "5c9de71f-2882-4f9d-ac20-b497ebf85983",
   "metadata": {},
   "outputs": [
    {
     "name": "stdout",
     "output_type": "stream",
     "text": [
      "shape: (46917, 1) Index(['std_margin'], dtype='object')\n"
     ]
    }
   ],
   "source": [
    "exfile=spreadsheetFolder+spreadsheetName\n",
    "sheetName='sop_0422'\n",
    "\n",
    "cols=['std_margin']\n",
    "df_margin = pd.read_excel(exfile, sheet_name=sheetName, usecols=cols)\n",
    "print(\"shape:\", df_margin.shape, df_margin.columns)\n"
   ]
  },
  {
   "cell_type": "code",
   "execution_count": 3,
   "id": "2868bfb6-56a3-4ee1-ba84-f64f50ab53f0",
   "metadata": {},
   "outputs": [
    {
     "data": {
      "text/plain": [
       "std_margin\n",
       "不清     26906\n",
       "光滑     19628\n",
       "不规则      170\n",
       "外侵        75\n",
       "Name: count, dtype: int64"
      ]
     },
     "execution_count": 3,
     "metadata": {},
     "output_type": "execute_result"
    }
   ],
   "source": [
    "series_stdMargin = df_margin[cols[0]]\n",
    "series_stdMargin.value_counts()"
   ]
  },
  {
   "cell_type": "code",
   "execution_count": null,
   "id": "44a11466-cb18-4b9a-ad24-7061e17d1d29",
   "metadata": {},
   "outputs": [],
   "source": []
  }
 ],
 "metadata": {
  "kernelspec": {
   "display_name": "Python 3 (ipykernel)",
   "language": "python",
   "name": "python3"
  },
  "language_info": {
   "codemirror_mode": {
    "name": "ipython",
    "version": 3
   },
   "file_extension": ".py",
   "mimetype": "text/x-python",
   "name": "python",
   "nbconvert_exporter": "python",
   "pygments_lexer": "ipython3",
   "version": "3.10.12"
  }
 },
 "nbformat": 4,
 "nbformat_minor": 5
}
