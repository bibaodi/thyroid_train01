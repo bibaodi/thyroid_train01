{
 "cells": [
  {
   "cell_type": "code",
   "execution_count": 4,
   "id": "7145190c-d0a1-4cef-9def-1d488866b780",
   "metadata": {},
   "outputs": [
    {
     "name": "stdout",
     "output_type": "stream",
     "text": [
      "Train paths: ['path/to/file5', 'path/to/file3', 'path/to/file1', 'path/to/file4']\n",
      "Test paths: ['path/to/file2']\n"
     ]
    }
   ],
   "source": [
    "# split data to train_test\n",
    "#!pip install scikit-learn\n",
    "from sklearn.model_selection import train_test_split\n",
    "\n",
    "# Example list of paths\n",
    "paths = [\n",
    "    'path/to/file1',\n",
    "    'path/to/file2',\n",
    "    'path/to/file3',\n",
    "    'path/to/file4',\n",
    "    'path/to/file5'\n",
    "]\n",
    "\n",
    "# Split the list into 80% training and 20% testing\n",
    "train_paths, test_paths = train_test_split(paths, test_size=0.2, random_state=42)\n",
    "#sklearn.model_selection.train_test_split(*arrays, test_size=None, train_size=None, random_state=None, shuffle=True, stratify=None)\n",
    "\n",
    "print(\"Train paths:\", train_paths)\n",
    "print(\"Test paths:\", test_paths)"
   ]
  },
  {
   "cell_type": "code",
   "execution_count": 13,
   "id": "705c7510-7a94-4592-9ad8-101567ccc3f4",
   "metadata": {},
   "outputs": [
    {
     "name": "stdout",
     "output_type": "stream",
     "text": [
      "allFileIndice=['301PACS02-2401010285_frm-0001', '301PACS02-2401010285_frm-0002', '301PACS02-2401010320_frm-0001', '301PACS02-2401010320_frm-0002', '301PACS02-2401010411.01_frm-0001', '301PACS02-2401010411.01_frm-0002']\n",
      "Train paths: ['301PACS02-2401010411.01_frm-0002', '301PACS02-2401010320_frm-0001', '301PACS02-2401010411.01_frm-0001', '301PACS02-2401010320_frm-0002']\n",
      "Test paths: ['301PACS02-2401010285_frm-0001', '301PACS02-2401010285_frm-0002']\n"
     ]
    }
   ],
   "source": [
    "yoloDatas=r'/mnt/f/241129-zhipu-thyroid-datas/17--labelmeFormatOrganized/241223-301pacsDataInlbmfmt.yoloBoM'\n",
    "\n",
    "# split data to train_test\n",
    "#!pip install scikit-learn\n",
    "from sklearn.model_selection import train_test_split\n",
    "import pathlib\n",
    "\n",
    "root=pathlib.Path(yoloDatas)\n",
    "\n",
    "subI=\"images\"\n",
    "subL=\"labels\"\n",
    "\n",
    "pathLabels=root.joinpath(subL)\n",
    "pathImages=root.joinpath(subI)\n",
    "#print(f\"pathImages={pathImages}\")\n",
    "allLabels = pathLabels.iterdir()\n",
    "\n",
    "## -01 get all file indice;\n",
    "allFileIndice=[]\n",
    "N=0\n",
    "for ilabel in allLabels:\n",
    "    N+=1\n",
    "    iimage=pathImages.joinpath(ilabel.name)\n",
    "    iimage=iimage.with_suffix(\".png\")\n",
    "\n",
    "    allFileIndice.append(ilabel.stem)\n",
    "    #print(ilabel, iimage)\n",
    "    if N >5:\n",
    "        break\n",
    "        \n",
    "print(f\"allFileIndice={allFileIndice}\")\n",
    "\n",
    "## -02 split it;\n",
    "train_paths, test_paths = train_test_split(allFileIndice, test_size=0.2, random_state=42)\n",
    "#sklearn.model_selection.train_test_split(*arrays, test_size=None, train_size=None, random_state=None, shuffle=True, stratify=None)\n",
    "\n",
    "print(\"Train paths:\", train_paths)\n",
    "print(\"Test paths:\", test_paths)\n",
    "\n",
    "## -03 generate path: txt and png\n",
    "originPath=\n"
   ]
  },
  {
   "cell_type": "code",
   "execution_count": 2,
   "id": "2fe36a11-0db9-4504-91b7-ef74cb162c89",
   "metadata": {},
   "outputs": [
    {
     "name": "stdout",
     "output_type": "stream",
     "text": [
      "Looking in indexes: https://pypi.tuna.tsinghua.edu.cn/simple\n",
      "Collecting sklearn\n",
      "  Downloading https://pypi.tuna.tsinghua.edu.cn/packages/46/1c/395a83ee7b2d2ad7a05b453872053d41449564477c81dc356f720b16eac4/sklearn-0.0.post12.tar.gz (2.6 kB)\n",
      "  Preparing metadata (setup.py) ... \u001b[?25lerror\n",
      "  \u001b[1;31merror\u001b[0m: \u001b[1msubprocess-exited-with-error\u001b[0m\n",
      "  \n",
      "  \u001b[31m×\u001b[0m \u001b[32mpython setup.py egg_info\u001b[0m did not run successfully.\n",
      "  \u001b[31m│\u001b[0m exit code: \u001b[1;36m1\u001b[0m\n",
      "  \u001b[31m╰─>\u001b[0m \u001b[31m[15 lines of output]\u001b[0m\n",
      "  \u001b[31m   \u001b[0m The 'sklearn' PyPI package is deprecated, use 'scikit-learn'\n",
      "  \u001b[31m   \u001b[0m rather than 'sklearn' for pip commands.\n",
      "  \u001b[31m   \u001b[0m \n",
      "  \u001b[31m   \u001b[0m Here is how to fix this error in the main use cases:\n",
      "  \u001b[31m   \u001b[0m - use 'pip install scikit-learn' rather than 'pip install sklearn'\n",
      "  \u001b[31m   \u001b[0m - replace 'sklearn' by 'scikit-learn' in your pip requirements files\n",
      "  \u001b[31m   \u001b[0m   (requirements.txt, setup.py, setup.cfg, Pipfile, etc ...)\n",
      "  \u001b[31m   \u001b[0m - if the 'sklearn' package is used by one of your dependencies,\n",
      "  \u001b[31m   \u001b[0m   it would be great if you take some time to track which package uses\n",
      "  \u001b[31m   \u001b[0m   'sklearn' instead of 'scikit-learn' and report it to their issue tracker\n",
      "  \u001b[31m   \u001b[0m - as a last resort, set the environment variable\n",
      "  \u001b[31m   \u001b[0m   SKLEARN_ALLOW_DEPRECATED_SKLEARN_PACKAGE_INSTALL=True to avoid this error\n",
      "  \u001b[31m   \u001b[0m \n",
      "  \u001b[31m   \u001b[0m More information is available at\n",
      "  \u001b[31m   \u001b[0m https://github.com/scikit-learn/sklearn-pypi-package\n",
      "  \u001b[31m   \u001b[0m \u001b[31m[end of output]\u001b[0m\n",
      "  \n",
      "  \u001b[1;35mnote\u001b[0m: This error originates from a subprocess, and is likely not a problem with pip.\n",
      "\u001b[1;31merror\u001b[0m: \u001b[1mmetadata-generation-failed\u001b[0m\n",
      "\n",
      "\u001b[31m×\u001b[0m Encountered error while generating package metadata.\n",
      "\u001b[31m╰─>\u001b[0m See above for output.\n",
      "\n",
      "\u001b[1;35mnote\u001b[0m: This is an issue with the package mentioned above, not pip.\n",
      "\u001b[1;36mhint\u001b[0m: See above for details.\n",
      "\u001b[?25h"
     ]
    }
   ],
   "source": [
    "!pip install sklearn"
   ]
  },
  {
   "cell_type": "code",
   "execution_count": 3,
   "id": "07da3175-1ad4-49e6-8a19-c0a4929a5834",
   "metadata": {},
   "outputs": [
    {
     "name": "stdout",
     "output_type": "stream",
     "text": [
      "Looking in indexes: https://pypi.tuna.tsinghua.edu.cn/simple\n",
      "Collecting scikit-learn\n",
      "  Downloading https://pypi.tuna.tsinghua.edu.cn/packages/b7/91/ab3c697188f224d658969f678be86b0968ccc52774c8ab4a86a07be13c25/scikit_learn-1.6.1-cp310-cp310-manylinux_2_17_x86_64.manylinux2014_x86_64.whl (13.5 MB)\n",
      "\u001b[2K     \u001b[90m━━━━━━━━━━━━━━━━━━━━━━━━━━━━━━━━━━━━━━━━\u001b[0m \u001b[32m13.5/13.5 MB\u001b[0m \u001b[31m8.0 MB/s\u001b[0m eta \u001b[36m0:00:00\u001b[0m:00:01\u001b[0m00:01\u001b[0m\n",
      "Requirement already satisfied: numpy>=1.19.5 in /home/bibao/venv_tf2/lib/python3.10/site-packages (from scikit-learn) (2.1.3)\n",
      "Requirement already satisfied: scipy>=1.6.0 in /home/bibao/venv_tf2/lib/python3.10/site-packages (from scikit-learn) (1.14.1)\n",
      "Collecting joblib>=1.2.0 (from scikit-learn)\n",
      "  Downloading https://pypi.tuna.tsinghua.edu.cn/packages/91/29/df4b9b42f2be0b623cbd5e2140cafcaa2bef0759a00b7b70104dcfe2fb51/joblib-1.4.2-py3-none-any.whl (301 kB)\n",
      "Collecting threadpoolctl>=3.1.0 (from scikit-learn)\n",
      "  Downloading https://pypi.tuna.tsinghua.edu.cn/packages/4b/2c/ffbf7a134b9ab11a67b0cf0726453cedd9c5043a4fe7a35d1cefa9a1bcfb/threadpoolctl-3.5.0-py3-none-any.whl (18 kB)\n",
      "Installing collected packages: threadpoolctl, joblib, scikit-learn\n",
      "Successfully installed joblib-1.4.2 scikit-learn-1.6.1 threadpoolctl-3.5.0\n"
     ]
    }
   ],
   "source": [
    "!pip install scikit-learn\n"
   ]
  },
  {
   "cell_type": "code",
   "execution_count": 17,
   "id": "5e19ab71-0cc6-40e1-8344-4c6534786c5a",
   "metadata": {},
   "outputs": [
    {
     "name": "stdout",
     "output_type": "stream",
     "text": [
      "234.png\n"
     ]
    }
   ],
   "source": [
    "ss=r\"234_crop.png\"\n",
    "ss=ss.replace(\"_crop\", \"\")\n",
    "\n",
    "print(ss)"
   ]
  },
  {
   "cell_type": "code",
   "execution_count": null,
   "id": "8cb33a45-e32c-426b-8835-2523475314d0",
   "metadata": {},
   "outputs": [],
   "source": []
  }
 ],
 "metadata": {
  "kernelspec": {
   "display_name": "Python 3 (ipykernel)",
   "language": "python",
   "name": "python3"
  },
  "language_info": {
   "codemirror_mode": {
    "name": "ipython",
    "version": 3
   },
   "file_extension": ".py",
   "mimetype": "text/x-python",
   "name": "python",
   "nbconvert_exporter": "python",
   "pygments_lexer": "ipython3",
   "version": "3.10.12"
  }
 },
 "nbformat": 4,
 "nbformat_minor": 5
}
