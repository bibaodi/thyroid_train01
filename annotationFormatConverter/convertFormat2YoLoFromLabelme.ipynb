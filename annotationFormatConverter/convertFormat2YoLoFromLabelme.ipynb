{
 "cells": [
  {
   "cell_type": "markdown",
   "id": "517ba126-b0bd-49f5-90ad-163a3bda81ae",
   "metadata": {},
   "source": [
    "- for object detection model, create dataset for YOLO\n",
    "- eton@250104\n",
    "- ref: https://docs.ultralytics.com/yolov5/tutorials/train_custom_data/#option-2-create-a-manual-dataset\n"
   ]
  },
  {
   "cell_type": "markdown",
   "id": "3dedb4fd-25fc-4a28-9455-aae83c91e6d7",
   "metadata": {},
   "source": [
    "## 1. Create dataset.yaml\n",
    "dataset.yaml is the dataset config file that defines 1) the dataset root directory path and relative paths to train / val / test image directories (or *.txt files with image paths) and 2) a class names dictionary:\n",
    "```\n",
    "# Train/val/test sets as 1) dir: path/to/imgs, 2) file: path/to/imgs.txt, or 3) list: [path/to/imgs1, path/to/imgs2, ..]\n",
    "path: ../datasets/coco128 # dataset root dir\n",
    "train: images/train2017 # train images (relative to 'path') 128 images\n",
    "val: images/train2017 # val images (relative to 'path') 128 images\n",
    "test: # test images (optional)\n",
    "\n",
    "# Classes (80 COCO classes)\n",
    "names:\n",
    "    0: person\n",
    "    1: bicycle\n",
    "    ...\n",
    "```\n",
    "\n",
    "## 2. Create Labels\n",
    "After using an annotation tool to label your images, export your labels to YOLO format, with one *.txt file per image (if no objects in image, no *.txt file is required). The *.txt file specifications are:\n",
    "\n",
    "- One row per object\n",
    "- Each row is `class x_center y_center width height` format.\n",
    "- Box coordinates must be in normalized xywh format (from 0 to 1). If your boxes are in pixels, divide x_center and width by image width, and y_center and height by image height.\n",
    "- Class numbers are zero-indexed (start from 0)."
   ]
  },
  {
   "cell_type": "code",
   "execution_count": null,
   "id": "c320e4e4-2c10-4121-9fb1-27881922b61e",
   "metadata": {},
   "outputs": [],
   "source": [
    "import json\n",
    "import os\n",
    "import pathlib\n",
    "\n"
   ]
  }
 ],
 "metadata": {
  "kernelspec": {
   "display_name": "Python 3 (ipykernel)",
   "language": "python",
   "name": "python3"
  },
  "language_info": {
   "codemirror_mode": {
    "name": "ipython",
    "version": 3
   },
   "file_extension": ".py",
   "mimetype": "text/x-python",
   "name": "python",
   "nbconvert_exporter": "python",
   "pygments_lexer": "ipython3",
   "version": "3.10.12"
  }
 },
 "nbformat": 4,
 "nbformat_minor": 5
}
