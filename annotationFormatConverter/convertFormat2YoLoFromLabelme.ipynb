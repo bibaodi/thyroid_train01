{
 "cells": [
  {
   "cell_type": "markdown",
   "id": "517ba126-b0bd-49f5-90ad-163a3bda81ae",
   "metadata": {},
   "source": [
    "- for object detection model, create dataset for YOLO. \\forObjectDetect_PACSDataInLabelmeFormatConvert2YoloFormat\n",
    "- eton@250104\n",
    "- ref: https://docs.ultralytics.com/yolov5/tutorials/train_custom_data/#option-2-create-a-manual-dataset\n"
   ]
  },
  {
   "cell_type": "markdown",
   "id": "3dedb4fd-25fc-4a28-9455-aae83c91e6d7",
   "metadata": {},
   "source": [
    "## 1. Create dataset.yaml\n",
    "dataset.yaml is the dataset config file that defines 1) the dataset root directory path and relative paths to train / val / test image directories (or *.txt files with image paths) and 2) a class names dictionary:\n",
    "```\n",
    "# Train/val/test sets as 1) dir: path/to/imgs, 2) file: path/to/imgs.txt, or 3) list: [path/to/imgs1, path/to/imgs2, ..]\n",
    "path: ../datasets/coco128 # dataset root dir\n",
    "train: images/train2017 # train images (relative to 'path') 128 images\n",
    "val: images/train2017 # val images (relative to 'path') 128 images\n",
    "test: # test images (optional)\n",
    "\n",
    "# Classes (80 COCO classes)\n",
    "names:\n",
    "    0: person\n",
    "    1: bicycle\n",
    "    ...\n",
    "```\n",
    "\n",
    "## 2. Create Labels\n",
    "After using an annotation tool to label your images, export your labels to YOLO format, with one *.txt file per image (if no objects in image, no *.txt file is required). The *.txt file specifications are:\n",
    "\n",
    "- One row per object\n",
    "- Each row is `class x_center y_center width height` format.\n",
    "- Box coordinates must be in normalized xywh format (from 0 to 1). If your boxes are in pixels, divide x_center and width by image width, and y_center and height by image height.\n",
    "- Class numbers are zero-indexed (start from 0).\n",
    "\n",
    "## 3. Organize Directories\n",
    "\n",
    "Organize your train and val images and labels according to the example below. YOLOv5 assumes /coco128 is inside a /datasets directory next to the /yolov5 directory. \n",
    "YOLOv5 locates labels automatically for each image by replacing the last instance of /images/ in each image path with /labels/. For example:\n",
    "```\n",
    "../datasets/coco128/images/im0.jpg  # image\n",
    "../datasets/coco128/labels/im0.txt  # label\n",
    "```"
   ]
  },
  {
   "cell_type": "code",
   "execution_count": 145,
   "id": "59fdad2f-d217-4a98-b1a6-16cfae34a79a",
   "metadata": {},
   "outputs": [
    {
     "name": "stdout",
     "output_type": "stream",
     "text": [
      "debug: The [02.202401010411.01] corresponding value in ti_rads is: ['4']\n",
      "matchedTR=4, 4\n"
     ]
    }
   ],
   "source": [
    "import pandas \n",
    "import re\n",
    "## !pip install xlrd\n",
    "\n",
    "def convert_leading_digits_to_number(tirads_str:str, default_class:int=0):\n",
    "    if type(tirads_str) is not str or len(tirads_str)<1:\n",
    "        return default_class\n",
    "        #raise ValueError(\"Input string is empty\")\n",
    "\n",
    "    # Initialize an empty string to collect digits\n",
    "    digits = \"\"\n",
    "\n",
    "    # Iterate through the characters in the string\n",
    "    for char in tirads_str:\n",
    "        if char.isdigit():\n",
    "            digits += char\n",
    "        else:\n",
    "            break\n",
    "\n",
    "    # Check if any digits were collected\n",
    "    if digits:\n",
    "        return int(digits)\n",
    "    else:\n",
    "        return default_class\n",
    "\n",
    "\n",
    "def extractAllMatchedFileName(excelFile:str, sheetName:str, colName_select:str, targetKeyToMatch:str, outputColName:str):\n",
    "    colName_tirads=outputColName #u'ti_rads'\n",
    "    \n",
    "    data = {}\n",
    "    with pandas.ExcelFile(excelFile) as xls:\n",
    "        data[sheetName] = pandas.read_excel(xls, sheetName, usecols=[colName_tirads, colName_select])\n",
    "    \n",
    "    sheet1Dataframe= data[sheetName]\n",
    "    #print(type(sheet1Dataframe),sheet1Dataframe.shape,sheet1Dataframe[0:5][:], sheet1Dataframe[colName_select][0:5])\n",
    "    eleNum=sheet1Dataframe.shape[0]\n",
    "\n",
    "    if type(targetKeyToMatch) is not str:\n",
    "        targetKeyToMatch=str(targetKeyToMatch)\n",
    "    \n",
    "    keyCol = sheet1Dataframe[colName_select]\n",
    "    valCol = sheet1Dataframe[outputColName]\n",
    "    # Target value to match in ColumnA\n",
    "    corresponding_value = '0'\n",
    "    \n",
    "    # Find the row where ColumnA matches the target value\n",
    "    if 0: # match by equal\n",
    "        matching_row = sheet1Dataframe[keyCol == targetKeyToMatch]\n",
    "    matching_row = sheet1Dataframe[keyCol.str.contains( targetKeyToMatch)]\n",
    "    #print(f\"debug: matching_row: {type(matching_row)}, {matching_row.shape}, {matching_row}, {type(matching_row[outputColName])} <<<<<\")\n",
    "    #print(f\"debug: matching_row: {type(matching_row[outputColName])}, {matching_row[outputColName].shape}, {matching_row[outputColName].index} <<<<<\")\n",
    "\n",
    "\n",
    "    \n",
    "    # Get the corresponding value in ColumnB\n",
    "    if not matching_row.empty:\n",
    "        corresponding_value =matching_row[outputColName]# matching_row.at[outputColName]#sheet1Dataframe.get(targetKeyToMatch, 9990)#\n",
    "        corresponding_value = corresponding_value.to_list()\n",
    "        print(f\"debug: The [{targetKeyToMatch}] corresponding value in {outputColName} is: {corresponding_value}\")\n",
    "    else:\n",
    "        print(f\"Warning: No match found for the target value: {target_value}\")\n",
    "    if  type(corresponding_value) is list and  len(corresponding_value)>0:\n",
    "        return corresponding_value[0]\n",
    "    else:\n",
    "        return '0'\n",
    "\n",
    "exlfile=r'/mnt/f/241129-zhipu-thyroid-datas/01-mini-batch/forObjectDetect_PACSDataInLabelmeFormatConvert2YoloFormat/dataHasTIRADS_250105.xls'\n",
    "sheetName=\"origintable\"\n",
    "selectColName='access_no'\n",
    "matchKey='02.202401010411.01'\n",
    "outputColName=u'ti_rads'\n",
    "\n",
    "matchedTRs=extractAllMatchedFileName(exlfile,sheetName, selectColName, matchKey, outputColName)\n",
    "matchedTRi=convert_leading_digits_to_number(matchedTRs)\n",
    "print(f\"matchedTR={matchedTRs}, {matchedTRi}\")"
   ]
  },
  {
   "cell_type": "code",
   "execution_count": 136,
   "id": "4fcdbb00-cc7f-4074-9121-e90d2c33b32f",
   "metadata": {},
   "outputs": [],
   "source": [
    "import datetime\n",
    "import logging\n",
    "\n",
    "from tqdm import tqdm\n",
    "from multimethod import multimethod\n",
    "\n",
    "\n",
    "logger = logging.getLogger(__name__)\n",
    "\n",
    "def initLogger():\n",
    "    # Get the current date and time\n",
    "    now = datetime.datetime.now()\n",
    "    # Format the date and time as a string\n",
    "    formatted_date_time = now.strftime(\"%y%m%dT%H%M%S\")\n",
    "    # Create the log file name\n",
    "    log_file_name = f\"convert301PACS_formart_{formatted_date_time}.log\"\n",
    "    _ver = sys.version_info\n",
    "    if _ver.minor < 10:\n",
    "        print(f\"WARNING: this Program develop in Python3.10.12, Current Version May has Problem in `pathlib.Path` to `str` convert.\")\n",
    "        logging.basicConfig(filename=log_file_name,  level=logging.DEBUG)\n",
    "    else:\n",
    "        logging.basicConfig(filename=log_file_name, encoding='utf-8', level=logging.DEBUG)"
   ]
  },
  {
   "cell_type": "code",
   "execution_count": 151,
   "id": "c320e4e4-2c10-4121-9fb1-27881922b61e",
   "metadata": {},
   "outputs": [],
   "source": [
    "import json\n",
    "import os\n",
    "import pathlib\n",
    "import shutil\n",
    "import numpy as np\n",
    "import cv2\n",
    "import matplotlib.pyplot as plt\n",
    "\n",
    "\n",
    "def getPath4AfterConverted(imgIncasepath:pathlib.Path):\n",
    "\n",
    "    return \n",
    "\n",
    "class PacsCaseName_LabelmeCaseName_mapper:\n",
    "    self_sprefix='301PACS'\n",
    "    self_smarker='-'\n",
    "    \n",
    "    @staticmethod\n",
    "    def getPath4AfterConverted(casepath:pathlib.Path):\n",
    "        pathParent = casepath.parent\n",
    "        caseName=casepath.name\n",
    "        substring=\".20\" ##02.202410281498.01 -> 301PACS02-2410281498.01\n",
    "        if substring in caseName:\n",
    "            caseName=caseName.replace(substring, \"-\")\n",
    "    \n",
    "        substring=\".000000\" ##22.0000001629044 -> 301PACS22-1629044\n",
    "        if substring in caseName:\n",
    "            caseName=caseName.replace(substring, \"-\")\n",
    "        caseName=f\"301PACS{caseName}\"\n",
    "        labelmeFmtfoler=pathParent.joinpath(caseName)\n",
    "    \n",
    "        return labelmeFmtfoler\n",
    "    \n",
    "    @staticmethod\n",
    "    def mapNameInLabelmeFmtToOriginAAccessionNum(casenameInlblme:str):\n",
    "        \"\"\"\n",
    "        remove the prefix, keep the part which will be matched in origin accession number\n",
    "        \"\"\"\n",
    "        accession_no=''\n",
    "        \n",
    "        parts=casenameInlblme.split(PacsCaseName_LabelmeCaseName_mapper.self_smarker)\n",
    "        \n",
    "        if len(parts)>1:\n",
    "            accession_no=parts[-1]\n",
    "    \n",
    "        return accession_no\n",
    "    \n",
    "\n",
    "from PIL import Image, UnidentifiedImageError\n",
    "\n",
    "def getImageSizeWithoutReadWholeContents(image_path:pathlib.Path):\n",
    "    imgsize=(0,0)\n",
    "    try:\n",
    "        with Image.open(image_path) as img:\n",
    "            width, height = img.size\n",
    "            print(f\"Image size: {width}x{height}\")\n",
    "            imgsize=(width, height)\n",
    "            return imgsize\n",
    "    except UnidentifiedImageError:\n",
    "        print(\"Failed to identify the image file.\")\n",
    "    except IOError:\n",
    "        print(\"Failed to open the image file.\")\n",
    "\n",
    "    return imgsize\n",
    "\n",
    "\n",
    "def rectFromPixelToYoloFormat_CenterXYWH_inPercent(rectInPos:list, imgWidth:int, imgHeight:int):\n",
    "    yoloRect=[]\n",
    "    if type(rectInPos) is not list or len(rectInPos) !=4:\n",
    "        print(f\"Err: input rect Err:{rectInPos}\")\n",
    "        return yoloRect\n",
    "    for coord in rectInPos:\n",
    "        if coord > imgWidth and coord > imgHeight:\n",
    "            print(f\"Err: input rect coordinate not in range:{rectInPos}, {imgWidth}, {imgHeight}\")\n",
    "            return yoloRect\n",
    "\n",
    "    rectLeft, rectTop, rectRight, rectBottom=rectInPos\n",
    "\n",
    "    rectW=rectRight - rectLeft\n",
    "    rectH=rectBottom - rectTop\n",
    "\n",
    "    rectWp = rectW / imgWidth\n",
    "    rectHp = rectH / imgHeight\n",
    "    \n",
    "    rectCx=(rectRight + rectLeft)/2\n",
    "    rectCy=(rectBottom + rectTop)/2\n",
    "\n",
    "    rectCxp=rectCx/imgWidth\n",
    "    rectCyp=rectCy/imgHeight\n",
    "\n",
    "    yoloRect=[rectCxp, rectCyp, rectWp, rectHp]\n",
    "    return yoloRect\n",
    "    \n",
    "\n",
    "def polygonToRectangle(polygonPts:list):\n",
    "    \"\"\"\n",
    "    input a polygon in list of  points(x,y);\n",
    "    output:\n",
    "        1. a rectangle in list of points(topleft.x, toplet.y, bottomright.x, bottomright.y)\n",
    "        2. Empty list if failed\n",
    "    eton@250104\n",
    "    \"\"\"\n",
    "    rectangle=[]\n",
    "    if len(polygonPts)<2:\n",
    "        return rectangle\n",
    "    pts = np.array(polygonPts, dtype=np.int32)\n",
    "    Xs=pts[:, 0]\n",
    "    Ys=pts[:, 1]\n",
    "    #print(f\"debug: pts in npX:{Xs},Ys={Ys} \")\n",
    "    x_min=np.min(Xs)\n",
    "    y_min=np.min(Ys)\n",
    "\n",
    "    x_max=np.max(Xs)\n",
    "    y_max=np.max(Ys)\n",
    "\n",
    "    rectangle=[x_min, y_min,x_max,  y_max]\n",
    "    #print(f\"debug: pts in rectangle:{rectangle} \")\n",
    "    return rectangle\n",
    "\n",
    "def showRectInImg(image_file, shape_rect, lbm_pointsInOneShape):\n",
    "    img=cv2.imread(image_file)\n",
    "    rectColor=(0,0,255)#GRB\n",
    "    rectLineWeight=3\n",
    "    pttopleft=tuple(shape_rect[0:2])\n",
    "    ptBR=tuple(shape_rect[2:4])\n",
    "    cv2.rectangle(img,pttopleft,ptBR,rectColor,rectLineWeight)\n",
    "\n",
    "    polygonPts=np.array([lbm_pointsInOneShape], np.int32)#list of list of points\n",
    "    polygonPts4cv=polygonPts.reshape((-1, 1, 2))\n",
    "\n",
    "    polygonColor=(255,0,0)\n",
    "    cv2.polylines(img, [polygonPts4cv], isClosed=True, color=polygonColor, thickness=1)\n",
    "    plt.imshow(img)\n",
    "\n",
    "outputYoloFolder=r'/mnt/f/241129-zhipu-thyroid-datas/01-mini-batch/yoloDataset01'\n",
    "exlfile=r'/mnt/f/241129-zhipu-thyroid-datas/01-mini-batch/forObjectDetect_PACSDataInLabelmeFormatConvert2YoloFormat/dataHasTIRADS_250105.xls'\n",
    "selectColName='access_no'\n",
    "outputColName=u'ti_rads'\n",
    "\n",
    "def saveImageAndLabelsToTargetPath(outputYoloPath:pathlib.Path, inImgPath:pathlib.Path, inLabelsList:list):\n",
    "    if type(outputYoloPath) is str:\n",
    "        outputYoloPath=pathlib.Path(outputYoloPath)\n",
    "\n",
    "    outputImgStem=r'images'\n",
    "    outputLabelStem=r'labels'\n",
    "    outputYoloPath_img=outputYoloPath.joinpath(outputImgStem)\n",
    "    outputYoloPath_txt=outputYoloPath.joinpath(outputLabelStem)\n",
    "    for ipath in [outputYoloPath_img, outputYoloPath_txt]:\n",
    "        if not ipath.is_dir():\n",
    "            ipath.mkdir(mode=0o666, parents=True, exist_ok=True)\n",
    "            print(f\"debug: create not exist folder:[{ipath}]\")\n",
    "\n",
    "    if not inImgPath.is_file():\n",
    "        print(f\"\\timage not exist.[{inImgPath}]\")\n",
    "        return -1\n",
    "\n",
    "    imgfileSuffix=inImgPath.suffix\n",
    "    imgfileStem=inImgPath.name\n",
    "    caseStem=inImgPath.parent.name\n",
    "    \n",
    "    filenameStemInYolo=caseStem+'_'+imgfileStem\n",
    "    newImagePath=outputYoloPath_img.joinpath(filenameStemInYolo)\n",
    "\n",
    "    try:\n",
    "        shutil.copyfile(inImgPath, newImagePath)\n",
    "        print(f\"debug: File copied from {inImgPath} to {newImagePath} with metadata\")\n",
    "    except FileNotFoundError:\n",
    "        print(f\"Err:Source file not found: {inImgPath}\")\n",
    "    except PermissionError:\n",
    "        print(f\"Err:Permission denied: Cannot copy to {newImagePath}\")\n",
    "    except Exception as e:\n",
    "        print(f\"Err: An error occurred: {e}\")\n",
    "\n",
    "    txtname=filenameStemInYolo.replace(imgfileSuffix, '.txt')\n",
    "    newLabelfilePath=outputYoloPath_txt.joinpath(txtname)\n",
    "    with open(newLabelfilePath, 'w') as txtfp:\n",
    "        for oneRect in inLabelsList:\n",
    "            txtfp.write(' '.join(map(str, oneRect))+ '\\n')\n",
    "    print(f\"debug: end of file create {newImagePath}\")\n",
    "    return 0\n",
    "\n",
    "def parseXiaobaoJson(json_file:pathlib.Path, leastPointCount:int=4):\n",
    "    \"\"\"\n",
    "        1. deal with one xiaobai's json;\n",
    "        2. get all shape, create with rectangle;\n",
    "        3. save rectangles in YOLO format;\n",
    "        4. all files in one folder, no sub-folder is supported.\n",
    "        eton@250104\n",
    "    \"\"\"\n",
    "    if type(json_file) is str:\n",
    "        json_file=pathlib.Path(json_file)\n",
    "        \n",
    "    if not json_file.is_absolute():\n",
    "        print(f\"\\tjson target not absolute path:[{json_file}]\")\n",
    "        return -3\n",
    "    if not json_file.is_file():\n",
    "        print(f\"\\tjson target not exist.[{json_file}]\")\n",
    "        return -1\n",
    "    \n",
    "    jsonbasename=json_file.name\n",
    "    if not jsonbasename.startswith(\"frm-\"):\n",
    "        print(f\"\\tfile prefix not match:[{jsonbasename}]\")\n",
    "        return -2\n",
    "    imagefolder=json_file.parent\n",
    "    caseNameinLblme=imagefolder.name\n",
    "    image_file=json_file.with_suffix(\".png\")\n",
    "\n",
    "    lbm_shapes=None\n",
    "    # 01-read from nodule-json-file\n",
    "    with open(json_file, 'r') as f:\n",
    "        lbm_json = json.load(f)\n",
    "        imagepath=lbm_json['imagePath']\n",
    "        image_file = imagefolder.joinpath(imagepath)\n",
    "        if not image_file.is_file():\n",
    "            print(f\"Err: image file in json not found.[{image_file}]\")\n",
    "            return -4\n",
    "        \n",
    "        lbm_shapes=lbm_json['shapes']\n",
    "    # process shapes in json\n",
    "    allRects=[]\n",
    "    if lbm_shapes is None:\n",
    "        return 2005\n",
    "\n",
    "    for ishape, lbm_shapeItem in enumerate(lbm_shapes):\n",
    "        lbm_pointsInOneShape=lbm_shapeItem[\"points\"]\n",
    "        lbm_classInOneShape=lbm_shapeItem[\"label\"]\n",
    "        pointCntInShape=len(lbm_pointsInOneShape)\n",
    "        #print(f\"\\t{json_file} shape[{ishape}] has point in shape is: {pointCntInShape}.\")\n",
    "        if pointCntInShape < leastPointCount:\n",
    "            print(f\"\\tErr:{json_file}_shape[{ishape}] has point in shape less then {leastPointCount}>{pointCntInShape}.\")\n",
    "            return -1\n",
    "        print(f\"polygon[{lbm_classInOneShape}] is:{lbm_pointsInOneShape}\")\n",
    "        #01 polygon to rectangle;\n",
    "        shape_rect = polygonToRectangle(lbm_pointsInOneShape)\n",
    "        #02 show in image\n",
    "        debug_this=False\n",
    "        if type(debug_this) is not None and debug_this:\n",
    "            showRectInImg(image_file, shape_rect, lbm_pointsInOneShape)\n",
    "        #03 rectangle to YOLO\n",
    "        imgW, imgH = getImageSizeWithoutReadWholeContents(image_file)\n",
    "        shape_yolorect=rectFromPixelToYoloFormat_CenterXYWH_inPercent(shape_rect, imgW, imgH)\n",
    "        #03.2-add class to label\n",
    "        matchKey = PacsCaseName_LabelmeCaseName_mapper.mapNameInLabelmeFmtToOriginAAccessionNum(caseNameinLblme)\n",
    "        matchedTRs=extractAllMatchedFileName(exlfile,sheetName, selectColName, matchKey, outputColName)\n",
    "        matchedTRi=convert_leading_digits_to_number(matchedTRs)\n",
    "        shape_yolorect.insert(0, matchedTRi)\n",
    "        \n",
    "        allRects.append(shape_yolorect)\n",
    "        #print(f\"debug: shape_rect={shape_rect}, shape_yolorect={shape_yolorect}\")\n",
    "\n",
    "        #04 save image and Yolo.txt to new folder\n",
    "    if len(allRects)>0:\n",
    "        saveImageAndLabelsToTargetPath(outputYoloFolder, image_file, allRects)\n",
    "                \n",
    "    return 0\n",
    "\n",
    "def processOnePACSfolder(casepath:pathlib.Path):\n",
    "    if type(casepath) is str:\n",
    "        casepath=pathlib.Path(casepath)\n",
    "    if  not casepath.is_dir():\n",
    "        logger.info(f\"not exist dir:{casepath}\")\n",
    "        return -1\n",
    "        \n",
    "    labelmefolderpath=casepath\n",
    "    \n",
    "    imgs=[iimg for iimg in sorted(casepath.glob('*.{jpg,png,jpeg,bmp}'))]\n",
    "    jsons=[ijson for ijson in sorted(casepath.glob(\"*.json\"))]\n",
    "\n",
    "    if len(jsons) < 1:\n",
    "        logger.info(\"Err: json file not found in casefolder:{casepath}\")\n",
    "        return -1\n",
    "    \n",
    "    for ijsonpath in jsons:\n",
    "        ret  = parseXiaobaoJson(ijsonpath)\n",
    "        logger.info(f\"debug: ret={ret}\")\n",
    "        if ret <0:\n",
    "            logger.info(f\"Err: parse json failed\")\n",
    "        \n",
    "    return 0\n",
    "\n",
    "def process_multiPACScases(casesFolder):\n",
    "    working_dir=pathlib.Path(casesFolder)\n",
    "    casefolders = working_dir.iterdir()\n",
    "\n",
    "    for icase in tqdm(casefolders, desc=\"PACS Format Converting2YOLO:\"):\n",
    "        icasepath=icase\n",
    "        caseName=icasepath.name\n",
    "        if caseName.startswith(\"YOLO\"):\n",
    "            continue\n",
    "        logger.info(f\"\\n\\n^^^Process:{icasepath}\")\n",
    "        failed = processOnePACSfolder(icasepath)\n",
    "\n",
    "        if 0 != failed:\n",
    "            logger.info(f\"\\tprocess pacs folder failed!!!\")\n",
    "            break\n",
    "        else:\n",
    "            logger.info(\" process pacs folder success,,,\")\n",
    "\n",
    "rootFolder=r'/mnt/f/241129-zhipu-thyroid-datas/01-mini-batch/forObjectDetect_PACSDataInLabelmeFormatConvert2YoloFormat'\n",
    "oneCasefolder=r'/mnt/f/241129-zhipu-thyroid-datas/01-mini-batch/forObjectDetect_PACSDataInLabelmeFormatConvert2YoloFormat/301PACS02-2401020402.01'\n",
    "#processOnePACSfolder(oneCasefolder)"
   ]
  },
  {
   "cell_type": "code",
   "execution_count": 150,
   "id": "41ff1174-3f11-4f1b-b458-02c46a54bfa2",
   "metadata": {},
   "outputs": [
    {
     "name": "stderr",
     "output_type": "stream",
     "text": [
      "PACS Format Converting2YOLO:: 0it [00:00, ?it/s]"
     ]
    },
    {
     "name": "stdout",
     "output_type": "stream",
     "text": [
      "polygon[ThyNodu] is:[[334, 417], [216, 408], [126, 361], [89, 289], [113, 212], [194, 151], [308, 121], [426, 130], [516, 177], [553, 249], [529, 326], [448, 387], [334, 417]]\n",
      "Image size: 822x570\n",
      "debug: The [2401010285] corresponding value in ti_rads is: ['3']\n",
      "debug: shape_rect=[np.int32(89), np.int32(121), np.int32(553), np.int32(417)], shape_yolorect=[3, np.float64(0.3905109489051095), np.float64(0.47192982456140353), np.float64(0.5644768856447688), np.float64(0.519298245614035)]\n",
      "debug: create not exist folder:[/mnt/f/241129-zhipu-thyroid-datas/01-mini-batch/yoloDataset01/images]\n",
      "debug: create not exist folder:[/mnt/f/241129-zhipu-thyroid-datas/01-mini-batch/yoloDataset01/labels]\n",
      "debug: File copied from /mnt/f/241129-zhipu-thyroid-datas/01-mini-batch/forObjectDetect_PACSDataInLabelmeFormatConvert2YoloFormat/301PACS02-2401010285/frm-0001.png to /mnt/f/241129-zhipu-thyroid-datas/01-mini-batch/yoloDataset01/images/301PACS02-2401010285_frm-0001.png with metadata\n",
      "debug: end of file create /mnt/f/241129-zhipu-thyroid-datas/01-mini-batch/yoloDataset01/images/301PACS02-2401010285_frm-0001.png\n",
      "polygon[ThyNodu] is:[[412, 474], [251, 470], [125, 408], [66, 305], [90, 190], [191, 92], [342, 38], [503, 42], [629, 104], [688, 207], [664, 322], [563, 420], [412, 474]]\n",
      "Image size: 822x568\n",
      "debug: The [2401010285] corresponding value in ti_rads is: ['3']\n",
      "debug: shape_rect=[np.int32(66), np.int32(38), np.int32(688), np.int32(474)], shape_yolorect=[3, np.float64(0.4586374695863747), np.float64(0.4507042253521127), np.float64(0.7566909975669099), np.float64(0.7676056338028169)]\n"
     ]
    },
    {
     "name": "stderr",
     "output_type": "stream",
     "text": [
      "PACS Format Converting2YOLO:: 1it [00:21, 21.90s/it]"
     ]
    },
    {
     "name": "stdout",
     "output_type": "stream",
     "text": [
      "debug: File copied from /mnt/f/241129-zhipu-thyroid-datas/01-mini-batch/forObjectDetect_PACSDataInLabelmeFormatConvert2YoloFormat/301PACS02-2401010285/frm-0002.png to /mnt/f/241129-zhipu-thyroid-datas/01-mini-batch/yoloDataset01/images/301PACS02-2401010285_frm-0002.png with metadata\n",
      "debug: end of file create /mnt/f/241129-zhipu-thyroid-datas/01-mini-batch/yoloDataset01/images/301PACS02-2401010285_frm-0002.png\n",
      "polygon[ThyNodu] is:[[547, 176], [535, 211], [511, 235], [482, 241], [456, 228], [438, 199], [435, 162], [447, 127], [471, 103], [500, 97], [526, 110], [544, 139], [547, 176]]\n",
      "Image size: 800x560\n",
      "debug: The [2401010320] corresponding value in ti_rads is: ['4']\n",
      "debug: shape_rect=[np.int32(435), np.int32(97), np.int32(547), np.int32(241)], shape_yolorect=[4, np.float64(0.61375), np.float64(0.30178571428571427), np.float64(0.14), np.float64(0.2571428571428571)]\n",
      "debug: File copied from /mnt/f/241129-zhipu-thyroid-datas/01-mini-batch/forObjectDetect_PACSDataInLabelmeFormatConvert2YoloFormat/301PACS02-2401010320/frm-0001.png to /mnt/f/241129-zhipu-thyroid-datas/01-mini-batch/yoloDataset01/images/301PACS02-2401010320_frm-0001.png with metadata\n",
      "debug: end of file create /mnt/f/241129-zhipu-thyroid-datas/01-mini-batch/yoloDataset01/images/301PACS02-2401010320_frm-0001.png\n",
      "polygon[ThyNodu] is:[[380, 200], [343, 195], [315, 178], [304, 154], [313, 128], [338, 109], [374, 100], [411, 105], [439, 122], [450, 146], [441, 172], [416, 191], [380, 200]]\n",
      "Image size: 800x451\n",
      "debug: The [2401010320] corresponding value in ti_rads is: ['4']\n",
      "debug: shape_rect=[np.int32(304), np.int32(100), np.int32(450), np.int32(200)], shape_yolorect=[4, np.float64(0.47125), np.float64(0.3325942350332594), np.float64(0.1825), np.float64(0.22172949002217296)]\n"
     ]
    },
    {
     "name": "stderr",
     "output_type": "stream",
     "text": [
      "PACS Format Converting2YOLO:: 2it [00:26, 11.92s/it]"
     ]
    },
    {
     "name": "stdout",
     "output_type": "stream",
     "text": [
      "debug: File copied from /mnt/f/241129-zhipu-thyroid-datas/01-mini-batch/forObjectDetect_PACSDataInLabelmeFormatConvert2YoloFormat/301PACS02-2401010320/frm-0002.png to /mnt/f/241129-zhipu-thyroid-datas/01-mini-batch/yoloDataset01/images/301PACS02-2401010320_frm-0002.png with metadata\n",
      "debug: end of file create /mnt/f/241129-zhipu-thyroid-datas/01-mini-batch/yoloDataset01/images/301PACS02-2401010320_frm-0002.png\n",
      "polygon[ThyNodu] is:[[302, 217], [282, 212], [269, 201], [264, 187], [270, 173], [285, 164], [304, 161], [324, 166], [337, 177], [342, 191], [336, 205], [321, 214], [302, 217]]\n",
      "Image size: 690x601\n",
      "debug: The [2401010411.01] corresponding value in ti_rads is: ['4']\n",
      "debug: shape_rect=[np.int32(264), np.int32(161), np.int32(342), np.int32(217)], shape_yolorect=[4, np.float64(0.4391304347826087), np.float64(0.3144758735440932), np.float64(0.11304347826086956), np.float64(0.09317803660565724)]\n",
      "debug: File copied from /mnt/f/241129-zhipu-thyroid-datas/01-mini-batch/forObjectDetect_PACSDataInLabelmeFormatConvert2YoloFormat/301PACS02-2401010411.01/frm-0001.png to /mnt/f/241129-zhipu-thyroid-datas/01-mini-batch/yoloDataset01/images/301PACS02-2401010411.01_frm-0001.png with metadata\n",
      "debug: end of file create /mnt/f/241129-zhipu-thyroid-datas/01-mini-batch/yoloDataset01/images/301PACS02-2401010411.01_frm-0001.png\n",
      "polygon[ThyNodu] is:[[351, 162], [351, 144], [359, 128], [374, 118], [392, 118], [407, 128], [417, 144], [417, 162], [409, 178], [394, 188], [376, 188], [361, 178], [351, 162]]\n",
      "Image size: 688x602\n",
      "debug: The [2401010411.01] corresponding value in ti_rads is: ['4']\n",
      "debug: shape_rect=[np.int32(351), np.int32(118), np.int32(417), np.int32(188)], shape_yolorect=[4, np.float64(0.5581395348837209), np.float64(0.2541528239202658), np.float64(0.09593023255813954), np.float64(0.11627906976744186)]\n"
     ]
    },
    {
     "name": "stderr",
     "output_type": "stream",
     "text": [
      "PACS Format Converting2YOLO:: 3it [00:31,  8.76s/it]"
     ]
    },
    {
     "name": "stdout",
     "output_type": "stream",
     "text": [
      "debug: File copied from /mnt/f/241129-zhipu-thyroid-datas/01-mini-batch/forObjectDetect_PACSDataInLabelmeFormatConvert2YoloFormat/301PACS02-2401010411.01/frm-0002.png to /mnt/f/241129-zhipu-thyroid-datas/01-mini-batch/yoloDataset01/images/301PACS02-2401010411.01_frm-0002.png with metadata\n",
      "debug: end of file create /mnt/f/241129-zhipu-thyroid-datas/01-mini-batch/yoloDataset01/images/301PACS02-2401010411.01_frm-0002.png\n",
      "polygon[ThyNodu] is:[[427, 139], [418, 139], [411, 137], [408, 133], [410, 128], [416, 124], [425, 121], [434, 121], [441, 123], [444, 127], [442, 132], [436, 136], [427, 139]]\n",
      "Image size: 688x507\n",
      "debug: The [2401010423.01] corresponding value in ti_rads is: ['3']\n",
      "debug: shape_rect=[np.int32(408), np.int32(121), np.int32(444), np.int32(139)], shape_yolorect=[3, np.float64(0.6191860465116279), np.float64(0.2564102564102564), np.float64(0.05232558139534884), np.float64(0.03550295857988166)]\n",
      "debug: File copied from /mnt/f/241129-zhipu-thyroid-datas/01-mini-batch/forObjectDetect_PACSDataInLabelmeFormatConvert2YoloFormat/301PACS02-2401010423.01/frm-0001.png to /mnt/f/241129-zhipu-thyroid-datas/01-mini-batch/yoloDataset01/images/301PACS02-2401010423.01_frm-0001.png with metadata\n",
      "debug: end of file create /mnt/f/241129-zhipu-thyroid-datas/01-mini-batch/yoloDataset01/images/301PACS02-2401010423.01_frm-0001.png\n",
      "polygon[ThyNodu] is:[[387, 156], [376, 155], [367, 150], [363, 142], [365, 133], [371, 126], [381, 122], [392, 123], [401, 128], [405, 136], [403, 145], [397, 152], [387, 156]]\n",
      "Image size: 688x525\n",
      "debug: The [2401010423.01] corresponding value in ti_rads is: ['3']\n",
      "debug: shape_rect=[np.int32(363), np.int32(122), np.int32(405), np.int32(156)], shape_yolorect=[3, np.float64(0.5581395348837209), np.float64(0.26476190476190475), np.float64(0.061046511627906974), np.float64(0.06476190476190476)]\n"
     ]
    },
    {
     "name": "stderr",
     "output_type": "stream",
     "text": [
      "PACS Format Converting2YOLO:: 4it [00:36,  7.28s/it]"
     ]
    },
    {
     "name": "stdout",
     "output_type": "stream",
     "text": [
      "debug: File copied from /mnt/f/241129-zhipu-thyroid-datas/01-mini-batch/forObjectDetect_PACSDataInLabelmeFormatConvert2YoloFormat/301PACS02-2401010423.01/frm-0002.png to /mnt/f/241129-zhipu-thyroid-datas/01-mini-batch/yoloDataset01/images/301PACS02-2401010423.01_frm-0002.png with metadata\n",
      "debug: end of file create /mnt/f/241129-zhipu-thyroid-datas/01-mini-batch/yoloDataset01/images/301PACS02-2401010423.01_frm-0002.png\n",
      "polygon[ThyNodu] is:[[375, 282], [371, 298], [360, 310], [347, 314], [334, 309], [324, 297], [321, 280], [325, 264], [336, 252], [349, 248], [362, 253], [372, 265], [375, 282]]\n",
      "Image size: 823x563\n",
      "debug: The [2401020402.01] corresponding value in ti_rads is: ['5']\n",
      "debug: shape_rect=[np.int32(321), np.int32(248), np.int32(375), np.int32(314)], shape_yolorect=[5, np.float64(0.42284325637910086), np.float64(0.4991119005328597), np.float64(0.06561360874848117), np.float64(0.1172291296625222)]\n",
      "debug: File copied from /mnt/f/241129-zhipu-thyroid-datas/01-mini-batch/forObjectDetect_PACSDataInLabelmeFormatConvert2YoloFormat/301PACS02-2401020402.01/frm-0001.png to /mnt/f/241129-zhipu-thyroid-datas/01-mini-batch/yoloDataset01/images/301PACS02-2401020402.01_frm-0001.png with metadata\n",
      "debug: end of file create /mnt/f/241129-zhipu-thyroid-datas/01-mini-batch/yoloDataset01/images/301PACS02-2401020402.01_frm-0001.png\n",
      "polygon[ThyNodu] is:[[513, 335], [516, 322], [524, 312], [536, 308], [548, 311], [557, 320], [561, 333], [558, 346], [550, 356], [538, 360], [526, 357], [517, 348], [513, 335]]\n",
      "Image size: 820x560\n",
      "debug: The [2401020402.01] corresponding value in ti_rads is: ['5']\n",
      "debug: shape_rect=[np.int32(513), np.int32(308), np.int32(561), np.int32(360)], shape_yolorect=[5, np.float64(0.6548780487804878), np.float64(0.5964285714285714), np.float64(0.05853658536585366), np.float64(0.09285714285714286)]\n"
     ]
    },
    {
     "name": "stderr",
     "output_type": "stream",
     "text": [
      "PACS Format Converting2YOLO:: 5it [00:42,  8.42s/it]"
     ]
    },
    {
     "name": "stdout",
     "output_type": "stream",
     "text": [
      "debug: File copied from /mnt/f/241129-zhipu-thyroid-datas/01-mini-batch/forObjectDetect_PACSDataInLabelmeFormatConvert2YoloFormat/301PACS02-2401020402.01/frm-0002.png to /mnt/f/241129-zhipu-thyroid-datas/01-mini-batch/yoloDataset01/images/301PACS02-2401020402.01_frm-0002.png with metadata\n",
      "debug: end of file create /mnt/f/241129-zhipu-thyroid-datas/01-mini-batch/yoloDataset01/images/301PACS02-2401020402.01_frm-0002.png\n"
     ]
    },
    {
     "name": "stderr",
     "output_type": "stream",
     "text": [
      "\n"
     ]
    }
   ],
   "source": [
    "\n",
    "process_multiPACScases(rootFolder)"
   ]
  },
  {
   "cell_type": "code",
   "execution_count": 90,
   "id": "fed7b7c4-634b-4e38-9102-42816edf5740",
   "metadata": {},
   "outputs": [
    {
     "name": "stdout",
     "output_type": "stream",
     "text": [
      "Looking in indexes: https://pypi.tuna.tsinghua.edu.cn/simple\n",
      "Collecting xlrd\n",
      "  Downloading https://pypi.tuna.tsinghua.edu.cn/packages/a6/0c/c2a72d51fe56e08a08acc85d13013558a2d793028ae7385448a6ccdfae64/xlrd-2.0.1-py2.py3-none-any.whl (96 kB)\n",
      "Installing collected packages: xlrd\n",
      "Successfully installed xlrd-2.0.1\n"
     ]
    }
   ],
   "source": [
    "!pip install xlrd"
   ]
  },
  {
   "cell_type": "code",
   "execution_count": 6,
   "id": "c5c2ae75-9165-41c9-80be-64565a9f3d74",
   "metadata": {},
   "outputs": [
    {
     "name": "stdout",
     "output_type": "stream",
     "text": [
      "frm-0001.png 301PACS02-2401020402.01\n"
     ]
    }
   ],
   "source": [
    "imgpathstr=r'/mnt/f/241129-zhipu-thyroid-datas/01-mini-batch/forObjectDetect_PACSDataInLabelmeFormatConvert2YoloFormat/301PACS02-2401020402.01/frm-0001.png'\n",
    "\n",
    "imgpath=pathlib.Path(imgpathstr)\n",
    "imageName = imgpath.name\n",
    "folderName=imgpath.parent.name\n",
    "\n",
    "print(imageName, folderName)"
   ]
  },
  {
   "cell_type": "code",
   "execution_count": 41,
   "id": "00bbce77-74aa-41d4-9caf-03e783b3aa40",
   "metadata": {},
   "outputs": [
    {
     "data": {
      "text/plain": [
       "<matplotlib.image.AxesImage at 0x7f94ec868cd0>"
      ]
     },
     "execution_count": 41,
     "metadata": {},
     "output_type": "execute_result"
    },
    {
     "data": {
      "image/png": "[encoded data removed]",
      "text/plain": [
       "<Figure size 640x480 with 1 Axes>"
      ]
     },
     "metadata": {},
     "output_type": "display_data"
    }
   ],
   "source": [
    "import cv2\n",
    "import numpy as np\n",
    "\n",
    "# Create a blank image (black background)\n",
    "image = np.zeros((500, 500, 3), dtype=np.uint8)\n",
    "\n",
    "# Define the vertices of the polygon\n",
    "# Each vertex is a tuple of (x, y) coordinates\n",
    "vertices = np.array([[100, 100], [200, 100], [250, 200], [150, 250], [50, 200]], dtype=np.int32)\n",
    "\n",
    "# Reshape the vertices array to the shape (number of vertices, 1, 2)\n",
    "vertices = vertices.reshape((-1, 1, 2))\n",
    "\n",
    "# Draw the polygon on the image\n",
    "# Parameters: image, vertices, isClosed, color, thickness\n",
    "cv2.polylines(image, [vertices], isClosed=True, color=(0, 255, 0), thickness=2)\n",
    "\n",
    "# Display the image\n",
    "plt.imshow( image)\n"
   ]
  },
  {
   "cell_type": "code",
   "execution_count": 46,
   "id": "8f994ba9-121d-4218-b6bc-05b1f5c86a28",
   "metadata": {},
   "outputs": [],
   "source": [
    "# Step 1: Create the list of numbers\n",
    "numbers = [9991, 2, 3, 4, 5, 6, 7, 8, 9, 10]\n",
    "\n",
    "# Step 2: Open the file in write mode\n",
    "with open('/tmp/numbers.txt', 'w') as file:\n",
    "    # Step 3: Convert the list to a space-separated string and write to the file\n",
    "    file.write(' '.join(map(str, numbers)))\n",
    "\n",
    "# Step 4: The file is automatically closed when using the 'with' statement\n"
   ]
  },
  {
   "cell_type": "code",
   "execution_count": 70,
   "id": "0002a762-1af9-4f03-b36d-c4895863e169",
   "metadata": {},
   "outputs": [],
   "source": [
    "a0=r'/mnt/f/241129-zhipu-thyroid-datas/01-mini-batch/forObjectDetect_PACSDataInLabelmeFormatConvert2YoloFormat/301PACS02-2401020402.01/frm-0001.png'\n",
    "newImagePath=r'/mnt/f/241129-zhipu-thyroid-datas/01-mini-batch/yoloDataset01/301PACS02-2401020402.01_frm-0001.png'\n",
    "a0=pathlib.Path(a0)\n",
    "image_file=a0\n",
    "newImagePath=pathlib.Path(newImagePath)\n",
    "\n",
    "#shutil.copy2(a0, newImagePath)"
   ]
  },
  {
   "cell_type": "code",
   "execution_count": 72,
   "id": "14041f40-b697-42eb-bdd6-0d5482adc633",
   "metadata": {},
   "outputs": [
    {
     "name": "stdout",
     "output_type": "stream",
     "text": [
      "debug:outputYoloPath= /mnt/f/241129-zhipu-thyroid-datas/01-mini-batch/yoloDataset01\n",
      "debug:newImagePath= /mnt/f/241129-zhipu-thyroid-datas/01-mini-batch/yoloDataset01/301PACS02-2401020402.01_frm-0001.png\n",
      "File copied from /mnt/f/241129-zhipu-thyroid-datas/01-mini-batch/forObjectDetect_PACSDataInLabelmeFormatConvert2YoloFormat/301PACS02-2401020402.01/frm-0001.png to  /mnt/f/241129-zhipu-thyroid-datas/01-mini-batch/yoloDataset01/301PACS02-2401020402.01_frm-0001.png with metadata\n",
      "debug: end of file create  /mnt/f/241129-zhipu-thyroid-datas/01-mini-batch/yoloDataset01/301PACS02-2401020402.01_frm-0001.png\n"
     ]
    },
    {
     "data": {
      "text/plain": [
       "0"
      ]
     },
     "execution_count": 72,
     "metadata": {},
     "output_type": "execute_result"
    }
   ],
   "source": [
    "allRects=[[1,2,3,4]]\n",
    "saveImageAndLabelsToTargetPath(outputYoloFolder, image_file, allRects)\n"
   ]
  },
  {
   "cell_type": "code",
   "execution_count": 75,
   "id": "47c6df95-fb8b-46b2-8ffc-dfbcf03095e2",
   "metadata": {},
   "outputs": [
    {
     "ename": "TypeError",
     "evalue": "list expected at most 1 argument, got 2",
     "output_type": "error",
     "traceback": [
      "\u001b[0;31m---------------------------------------------------------------------------\u001b[0m",
      "\u001b[0;31mTypeError\u001b[0m                                 Traceback (most recent call last)",
      "Cell \u001b[0;32mIn[75], line 1\u001b[0m\n\u001b[0;32m----> 1\u001b[0m a2\u001b[38;5;241m=\u001b[39m\u001b[38;5;28;43mlist\u001b[39;49m\u001b[43m(\u001b[49m\u001b[38;5;241;43m3\u001b[39;49m\u001b[43m,\u001b[49m\u001b[38;5;241;43m4\u001b[39;49m\u001b[43m)\u001b[49m\n",
      "\u001b[0;31mTypeError\u001b[0m: list expected at most 1 argument, got 2"
     ]
    }
   ],
   "source": [
    "a2=list(3,4)"
   ]
  },
  {
   "cell_type": "code",
   "execution_count": 126,
   "id": "005289d5-d6e9-4b7f-9a9d-fe9c26e02744",
   "metadata": {},
   "outputs": [
    {
     "name": "stdout",
     "output_type": "stream",
     "text": [
      " i=4\n"
     ]
    }
   ],
   "source": [
    "s='4a'\n",
    "print(f\" i={int(s[0])}\")"
   ]
  },
  {
   "cell_type": "code",
   "execution_count": 143,
   "id": "7bb76590-6096-43b2-942a-3ca8d71cf2c3",
   "metadata": {},
   "outputs": [
    {
     "name": "stdout",
     "output_type": "stream",
     "text": [
      "['301PACS02', '2410281498.01'] 2410281498.01\n"
     ]
    }
   ],
   "source": [
    "ss='301PACS02-2410281498.01'\n",
    "ret=ss.split(\"-\")\n",
    "print(ret, PacsCaseName_LabelmeCaseName_mapper.mapNameInLabelmeFmtToOriginAAccessionNum(ss))"
   ]
  },
  {
   "cell_type": "code",
   "execution_count": 131,
   "id": "1179f71c-6940-42ee-944d-362427bf2863",
   "metadata": {},
   "outputs": [
    {
     "name": "stdout",
     "output_type": "stream",
     "text": [
      "Help on built-in function split:\n",
      "\n",
      "split(sep=None, maxsplit=-1) method of builtins.str instance\n",
      "    Return a list of the substrings in the string, using sep as the separator string.\n",
      "    \n",
      "      sep\n",
      "        The separator used to split the string.\n",
      "    \n",
      "        When set to None (the default value), will split on any whitespace\n",
      "        character (including \\\\n \\\\r \\\\t \\\\f and spaces) and will discard\n",
      "        empty strings from the result.\n",
      "      maxsplit\n",
      "        Maximum number of splits (starting from the left).\n",
      "        -1 (the default value) means no limit.\n",
      "    \n",
      "    Note, str.split() is mainly useful for data that has been intentionally\n",
      "    delimited.  With natural text that includes punctuation, consider using\n",
      "    the regular expression module.\n",
      "\n"
     ]
    }
   ],
   "source": [
    "help(ss.split)"
   ]
  },
  {
   "cell_type": "code",
   "execution_count": null,
   "id": "205e5709-aaa3-4480-9baf-9cac7e2f724a",
   "metadata": {},
   "outputs": [],
   "source": []
  }
 ],
 "metadata": {
  "kernelspec": {
   "display_name": "Python 3 (ipykernel)",
   "language": "python",
   "name": "python3"
  },
  "language_info": {
   "codemirror_mode": {
    "name": "ipython",
    "version": 3
   },
   "file_extension": ".py",
   "mimetype": "text/x-python",
   "name": "python",
   "nbconvert_exporter": "python",
   "pygments_lexer": "ipython3",
   "version": "3.10.12"
  }
 },
 "nbformat": 4,
 "nbformat_minor": 5
}
