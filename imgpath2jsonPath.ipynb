{
 "cells": [
  {
   "cell_type": "code",
   "execution_count": 14,
   "id": "7108c604-8182-46c1-bc58-250f8e187d6c",
   "metadata": {},
   "outputs": [
    {
     "name": "stdout",
     "output_type": "stream",
     "text": [
      "P=/mnt/f/241129-zhipu-thyroid-datas/31-labelmeFormatOrganized/241208-incremental4cases/thyroidNodules_axp003.dcm_frms\n",
      "/mnt/f/241129-zhipu-thyroid-datas/31-labelmeFormatOrganized/241208-incremental4cases/thyroidNodules_axp003.dcm_frms/lmstart.json\n"
     ]
    }
   ],
   "source": [
    "import pathlib\n",
    "from pathlib import Path\n",
    "import json\n",
    "import os\n",
    "\n",
    "imgfile=r'/mnt/f/241129-zhipu-thyroid-datas/31-labelmeFormatOrganized/241208-incremental4cases/thyroidNodules_axp003.dcm_frms/frm-003.png'\n",
    "imgPath=Path(imgfile)\n",
    "print(f\"P={imgPath.parent}\")\n",
    "\n",
    "lmstartBaseName=r'lmstart.json'\n",
    "jsonimstart=imgPath.parent.joinpath( lmstartBaseName)\n",
    "print(jsonimstart)"
   ]
  },
  {
   "cell_type": "code",
   "execution_count": 13,
   "id": "83c3a855-ebac-4129-af94-2e6567e38f10",
   "metadata": {},
   "outputs": [
    {
     "name": "stdout",
     "output_type": "stream",
     "text": [
      "{'datetime': '2024-12-8 23:1:35', 'fps': 100, 'imagepath': '/mnt/f/241129-zhipu-thyroid-datas/12-received_data-updates/241208-increments/002/thyroidNodules_axp-003/thyroidNodules_axp003.dcm_frms', 'raw_file_type': 'dcm', 'USImgRectLRTD': [3, 4, 5, 6000]}\n",
      ">>>>>delete file/mnt/f/241129-zhipu-thyroid-datas/31-labelmeFormatOrganized/241208-incremental4cases/thyroidNodules_axp003.dcm_frms/lmstart.json\n"
     ]
    }
   ],
   "source": [
    "\n",
    "roiInfo=[3,4,5,6000]\n",
    "with open(jsonimstart, 'r') as f:\n",
    "    jims=json.load(f)\n",
    "\n",
    "jims[\"USImgRectLRTD\"]=roiInfo\n",
    "\n",
    "print(jims)\n",
    "\n",
    "if os.path.exists(jsonimstart):\n",
    "    os.remove(jsonimstart)\n",
    "    print(f\">>>>>delete file{jsonimstart}\")\n",
    "with open(jsonimstart, 'w') as jfp:\n",
    "    json.dump(jims, jfp)\n"
   ]
  },
  {
   "cell_type": "code",
   "execution_count": 16,
   "id": "87f10082-19dc-4b59-9cdd-79bcdc15c014",
   "metadata": {},
   "outputs": [],
   "source": [
    "def fun(folder:pathlib.Path):\n",
    "    pass"
   ]
  },
  {
   "cell_type": "code",
   "execution_count": 20,
   "id": "3b8fbf26-fd4b-4e34-9c32-ce48ab0aac8a",
   "metadata": {},
   "outputs": [
    {
     "name": "stdout",
     "output_type": "stream",
     "text": [
      "[PosixPath('/mnt/f/241129-zhipu-thyroid-datas/31-labelmeFormatOrganized/241208-incremental4cases/thyroidNodules_axp003.dcm_frms/frm-0086.png'), PosixPath('/mnt/f/241129-zhipu-thyroid-datas/31-labelmeFormatOrganized/241208-incremental4cases/thyroidNodules_axp003.dcm_frms/frm-0087.png'), PosixPath('/mnt/f/241129-zhipu-thyroid-datas/31-labelmeFormatOrganized/241208-incremental4cases/thyroidNodules_axp003.dcm_frms/frm-0088.png'), PosixPath('/mnt/f/241129-zhipu-thyroid-datas/31-labelmeFormatOrganized/241208-incremental4cases/thyroidNodules_axp003.dcm_frms/frm-0089.png'), PosixPath('/mnt/f/241129-zhipu-thyroid-datas/31-labelmeFormatOrganized/241208-incremental4cases/thyroidNodules_axp003.dcm_frms/frm-0090.png'), PosixPath('/mnt/f/241129-zhipu-thyroid-datas/31-labelmeFormatOrganized/241208-incremental4cases/thyroidNodules_axp003.dcm_frms/frm-0091.png'), PosixPath('/mnt/f/241129-zhipu-thyroid-datas/31-labelmeFormatOrganized/241208-incremental4cases/thyroidNodules_axp003.dcm_frms/frm-0092.png'), PosixPath('/mnt/f/241129-zhipu-thyroid-datas/31-labelmeFormatOrganized/241208-incremental4cases/thyroidNodules_axp003.dcm_frms/frm-0093.png'), PosixPath('/mnt/f/241129-zhipu-thyroid-datas/31-labelmeFormatOrganized/241208-incremental4cases/thyroidNodules_axp003.dcm_frms/frm-0094.png')]\n"
     ]
    }
   ],
   "source": [
    "dcmfoler=imgPath.parent\n",
    "\n",
    "imgfiles=[i for i in sorted(dcmfoler.glob('*.png'))]\n",
    "print(imgfiles[1:10])"
   ]
  },
  {
   "cell_type": "code",
   "execution_count": null,
   "id": "85c23715-0b45-47e1-ad3a-6bf6b80f28f1",
   "metadata": {},
   "outputs": [],
   "source": []
  }
 ],
 "metadata": {
  "kernelspec": {
   "display_name": "Python 3 (ipykernel)",
   "language": "python",
   "name": "python3"
  },
  "language_info": {
   "codemirror_mode": {
    "name": "ipython",
    "version": 3
   },
   "file_extension": ".py",
   "mimetype": "text/x-python",
   "name": "python",
   "nbconvert_exporter": "python",
   "pygments_lexer": "ipython3",
   "version": "3.10.12"
  }
 },
 "nbformat": 4,
 "nbformat_minor": 5
}
